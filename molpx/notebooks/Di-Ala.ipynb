{
 "cells": [
  {
   "cell_type": "markdown",
   "metadata": {
    "deletable": true,
    "editable": true
   },
   "source": [
    "<font color='red', size=1>This is a temporary copy of the original notebook found in `/home/mi/gph82/SOURCE_gph82/python/molPX/molpx/notebooks/Di-Ala.ipynb`. This temporary copy is located in `/tmp/tmps1xzenyf_test_molpx_notebook/Di-Ala.ipynb`. Feel free to play around, modify or even break this notebook. It wil be deleted on exit it and a new one created next time you issue `molpx.example_notebook()`</font>\n",
    "\n",
    "# molPX Di-Ala example\n",
    "<pre> \n",
    "Guillermo Perez-Hernandez  guille.perez@fu-berlin.de \n",
    "</pre>\n",
    "   \n",
    "In this notebook we will be using a trajectory of Di-Ala-peptide to easily identify conformations in the Ramachandran plot."
   ]
  },
  {
   "cell_type": "code",
   "execution_count": null,
   "metadata": {
    "collapsed": false,
    "deletable": true,
    "editable": true
   },
   "outputs": [],
   "source": [
    "from os.path import exists\n",
    "import molpx\n",
    "from matplotlib import pylab as plt\n",
    "%matplotlib notebook\n",
    "import pyemma\n",
    "import numpy as np"
   ]
  },
  {
   "cell_type": "markdown",
   "metadata": {
    "deletable": true,
    "editable": true
   },
   "source": [
    "## Start from files on disk"
   ]
  },
  {
   "cell_type": "code",
   "execution_count": null,
   "metadata": {
    "collapsed": true,
    "deletable": true,
    "editable": true
   },
   "outputs": [],
   "source": [
    "top =           molpx._molpxdir(join='notebooks/data/ala2.pdb')\n",
    "# What data do we  have?\n",
    "if exists('/group/ag_cmb/scratch/gph82/Di-Ala-nbdata/ala2.dcd'):\n",
    "    MD_trajfiles = ['/group/ag_cmb/scratch/gph82/Di-Ala-nbdata/ala2.dcd'] #long trajectory\n",
    "else:\n",
    "    MD_trajfiles = [molpx._molpxdir(join='notebooks/data/ala2.mini.xtc')] #short trajectory"
   ]
  },
  {
   "cell_type": "markdown",
   "metadata": {
    "deletable": true,
    "editable": true
   },
   "source": [
    "## Featurize to Ramachandran $(\\phi,\\psi)$-pairs with `PyEMMA`"
   ]
  },
  {
   "cell_type": "code",
   "execution_count": null,
   "metadata": {
    "collapsed": false,
    "deletable": true,
    "editable": true
   },
   "outputs": [],
   "source": [
    "feat = pyemma.coordinates.featurizer(top)\n",
    "feat.add_backbone_torsions()\n",
    "src  = pyemma.coordinates.source(MD_trajfiles, features=feat)\n",
    "Y = src.get_output()"
   ]
  },
  {
   "cell_type": "markdown",
   "metadata": {
    "deletable": true,
    "editable": true
   },
   "source": [
    "## Visualize a FES and the molecular structures behind it\n",
    "Execute the following cell and click either on the FES or on the slidebar"
   ]
  },
  {
   "cell_type": "code",
   "execution_count": null,
   "metadata": {
    "collapsed": false,
    "deletable": true,
    "editable": true
   },
   "outputs": [],
   "source": [
    "ax, fig, iwd, data_sample, geom = molpx.visualize.FES(MD_trajfiles, \n",
    "                                                      top,    \n",
    "                                                      Y,                \n",
    "                                                      #proj_idxs=[1],\n",
    "                                                      sticky=True,\n",
    "                                                      nbins=50,\n",
    "                                          )\n",
    "iwd.add_ball_and_stick()\n",
    "iwd.center_view()\n",
    "iwd.display(gui=True)"
   ]
  },
  {
   "cell_type": "markdown",
   "metadata": {
    "deletable": true,
    "editable": true
   },
   "source": [
    "## Visualize trajectories, FES and molecular structures"
   ]
  },
  {
   "cell_type": "code",
   "execution_count": null,
   "metadata": {
    "collapsed": false,
    "deletable": true,
    "editable": true,
    "scrolled": false
   },
   "outputs": [],
   "source": [
    "__, myfig, iwd, __ = molpx.visualize.traj(MD_trajfiles,     \n",
    "                                          top,                                                                                                                              \n",
    "                                          Y,                                        \n",
    "                                          plot_FES = True,                                        \n",
    "                                          #dt = dt*1e-6, tunits='ms',                                           \n",
    "                                          max_frames=10000,\n",
    "                                          proj_idxs=[0, 1],\n",
    "                                          panel_height=2,    \n",
    "                                          proj_labels=['$\\phi$', '$\\psi$']\n",
    "                          )\n",
    "myfig.tight_layout()\n",
    "iwd.add_ball_and_stick()\n",
    "iwd.center_view()\n",
    "iwd"
   ]
  },
  {
   "cell_type": "markdown",
   "metadata": {
    "deletable": true,
    "editable": true
   },
   "source": [
    "# Intermediate steps: using molpx to generate a regspace sample of the data\n",
    "See the documentation of `molpx.generate.sample` to find out about all possible options:\n",
    "```\n",
    "molpx.generate.sample(MD_trajectories, MD_top, projected_trajectories, proj_idxs=[0, 1], n_points=100, n_geom_samples=1, keep_all_samples=False, proj_stride=1, verbose=False, return_data=False)\n",
    "```"
   ]
  },
  {
   "cell_type": "code",
   "execution_count": null,
   "metadata": {
    "collapsed": false,
    "deletable": true,
    "editable": true
   },
   "outputs": [],
   "source": [
    "data_sample, geoms = molpx.generate.sample(MD_trajfiles,                                            \n",
    "                                           top, \n",
    "                                           Y,                                            \n",
    "                                           n_points=200   ,\n",
    "                                            n_geom_samples=5,\n",
    "                                           keep_all_samples=True,\n",
    "                                    )\n",
    "data_sample.shape, geoms"
   ]
  },
  {
   "cell_type": "markdown",
   "metadata": {
    "deletable": true,
    "editable": true
   },
   "source": [
    "## Link the PDF plot with the sampled structures and visually explore the FES \n",
    "Click either on the plot or on the widget slidebar: they're connected! "
   ]
  },
  {
   "cell_type": "code",
   "execution_count": null,
   "metadata": {
    "collapsed": false,
    "deletable": true,
    "editable": true,
    "scrolled": false
   },
   "outputs": [],
   "source": [
    "# Replot the FES\n",
    "plt.figure(figsize=(7,7))\n",
    "h, (x,y) = np.histogramdd(np.vstack(Y)[:,:2], bins=50)\n",
    "plt.contourf(x[:-1], y[:-1], -np.log(h.T), alpha=.50)\n",
    "# Create the linked widget\n",
    "linked_wdg = molpx.visualize.sample(data_sample, \n",
    "                              geoms,                      \n",
    "                              plt.gca(), \n",
    "                              clear_lines=True,\n",
    "                              #plot_path=True, \n",
    "                              sticky=True,\n",
    "                              # These are all kwargs of the ax2wid linking function\n",
    "                              sticky_rep='ball+stick',\n",
    "                              sticky_sel='not hydrogen',\n",
    "                              #superpose=[1,4,5,6],\n",
    "                            )\n",
    "linked_wdg.center_view()\n",
    "linked_wdg"
   ]
  },
  {
   "cell_type": "markdown",
   "metadata": {
    "deletable": true,
    "editable": true
   },
   "source": [
    "# Paths samples along the different projections (=axis)"
   ]
  },
  {
   "cell_type": "code",
   "execution_count": null,
   "metadata": {
    "collapsed": false,
    "deletable": true,
    "editable": true
   },
   "outputs": [],
   "source": [
    "paths_dict, idata = molpx.generate.projection_paths(MD_trajfiles, \n",
    "                                                    top, \n",
    "                                                    Y, \n",
    "                                                    n_points=50,\n",
    "                                                    proj_idxs=[0,1],\n",
    "                                                    n_projs=3,\n",
    "                                                    proj_dim = 3, \n",
    "                                                    verbose=False, \n",
    "                                        )"
   ]
  },
  {
   "cell_type": "code",
   "execution_count": null,
   "metadata": {
    "collapsed": false,
    "deletable": true,
    "editable": true
   },
   "outputs": [],
   "source": [
    "# Choose the coordinate and the tyep of path\n",
    "coord = 1\n",
    "path_type = 'min_rmsd'\n",
    "#path_type = 'min_disp'\n",
    "igeom = paths_dict[coord][path_type][\"geom\"]\n",
    "ipath = paths_dict[coord][path_type][\"proj\"]\n",
    "\n",
    "# Choose the proj_idxs for the path and the FES \n",
    "# to be shown\n",
    "proj_idxs = [0,1]"
   ]
  },
  {
   "cell_type": "code",
   "execution_count": null,
   "metadata": {
    "collapsed": false,
    "deletable": true,
    "editable": true,
    "scrolled": false
   },
   "outputs": [],
   "source": [
    "plt.figure(figsize=(7,7))\n",
    "h, (x,y) = np.histogramdd(np.vstack(Y)[:,proj_idxs], bins=50)\n",
    "plt.contourf(x[:-1], y[:-1], -np.log(h.T), alpha=.50)\n",
    "\n",
    "linked_wdg = molpx.visualize.sample(ipath[:,proj_idxs], \n",
    "                                    igeom,                             \n",
    "                                    plt.gca(), \n",
    "                                    clear_lines=True,\n",
    "                                    n_smooth = 1, \n",
    "                                    plot_path=True,                        \n",
    "                                    #superpose=[1,4,5,6]\n",
    "                                    #radius=True,\n",
    "                            )\n",
    "linked_wdg.add_ball_and_stick(selection='not hydrogen')\n",
    "linked_wdg.center_view()\n",
    "linked_wdg"
   ]
  },
  {
   "cell_type": "markdown",
   "metadata": {
    "collapsed": true,
    "deletable": true,
    "editable": true
   },
   "source": [
    "# Let's do TICA and try to look a the correlations in a TICA analysis"
   ]
  },
  {
   "cell_type": "code",
   "execution_count": null,
   "metadata": {
    "collapsed": false,
    "deletable": true,
    "editable": true
   },
   "outputs": [],
   "source": [
    "feat = pyemma.coordinates.featurizer(top)\n",
    "#feat.add_backbone_torsions(cossin=True)\n",
    "feat.add_distances(feat.topology.select('symbol != H'))\n",
    "src  = pyemma.coordinates.source(MD_trajfiles, features=feat)\n",
    "tica = pyemma.coordinates.tica(src, lag=1)\n",
    "Y = tica.get_output()"
   ]
  },
  {
   "cell_type": "code",
   "execution_count": null,
   "metadata": {
    "collapsed": false,
    "deletable": true,
    "editable": true
   },
   "outputs": [],
   "source": [
    "ax, fig, iwd, data_sample, geom = molpx.visualize.FES(MD_trajfiles, \n",
    "                                                      top,                                                       \n",
    "                                                      Y,                                                       \n",
    "                                                      n_overlays=5,\n",
    "                                                      sticky=True,\n",
    "                                                      sticky_rep='ball+stick', \n",
    "                                                      sticky_sel='not hydrogen',                                                      \n",
    "                                          )\n",
    "iwd.center_view()\n",
    "iwd.display(gui=True)"
   ]
  },
  {
   "cell_type": "code",
   "execution_count": null,
   "metadata": {
    "collapsed": false,
    "deletable": true,
    "editable": true
   },
   "outputs": [],
   "source": [
    "__, myfig, iwd, __ = molpx.visualize.traj(MD_trajfiles,     \n",
    "                                          top,                                                                                                                              \n",
    "                                          Y,                                        \n",
    "                                          plot_FES = True,                                        \n",
    "                                          #dt = dt*1e-6, tunits='ms',                                           \n",
    "                                          max_frames=10000,\n",
    "                                          #proj_idxs=[0,1],\n",
    "                                          panel_height=2,                                              \n",
    "                                          projection=tica\n",
    "                          )\n",
    "myfig.tight_layout()\n",
    "iwd.add_ball_and_stick()\n",
    "iwd.center_view()\n",
    "iwd"
   ]
  },
  {
   "cell_type": "code",
   "execution_count": null,
   "metadata": {
    "collapsed": true,
    "deletable": true,
    "editable": true
   },
   "outputs": [],
   "source": [
    "paths_dict, idata = molpx.generate.projection_paths(MD_trajfiles, \n",
    "                                                    top, \n",
    "                                                    Y, \n",
    "                                                    n_points=50,\n",
    "                                                    proj_idxs=[0,1],\n",
    "                                                    n_projs=2,\n",
    "                                                    proj_dim = 2, \n",
    "                                                    verbose=False, \n",
    "                                        )"
   ]
  },
  {
   "cell_type": "code",
   "execution_count": null,
   "metadata": {
    "collapsed": true,
    "deletable": true,
    "editable": true
   },
   "outputs": [],
   "source": [
    "# Choose the coordinate and the tyep of path\n",
    "coord = 0\n",
    "path_type = 'min_rmsd'\n",
    "#path_type = 'min_disp'\n",
    "igeom = paths_dict[coord][path_type][\"geom\"]\n",
    "ipath = paths_dict[coord][path_type][\"proj\"]\n",
    "\n",
    "# Choose the proj_idxs for the path and the FES \n",
    "# to be shown\n",
    "proj_idxs = [0,1]"
   ]
  },
  {
   "cell_type": "code",
   "execution_count": null,
   "metadata": {
    "collapsed": false,
    "deletable": true,
    "editable": true
   },
   "outputs": [],
   "source": [
    "plt.figure(figsize=(7,7))\n",
    "h, (x,y) = np.histogramdd(np.vstack(Y)[:,proj_idxs], bins=50)\n",
    "plt.contourf(x[:-1], y[:-1], -np.log(h.T), alpha=.50)\n",
    "\n",
    "linked_wdg = molpx.visualize.sample(ipath[:,proj_idxs], \n",
    "                                    igeom,                             \n",
    "                                    plt.gca(), \n",
    "                                    clear_lines=True,\n",
    "                                    n_smooth = 1, \n",
    "                                    plot_path=True,                        \n",
    "                            )\n",
    "linked_wdg.add_ball_and_stick(selection='not hydrogen')\n",
    "linked_wdg.center_view()\n",
    "linked_wdg"
   ]
  },
  {
   "cell_type": "code",
   "execution_count": null,
   "metadata": {
    "collapsed": true,
    "deletable": true,
    "editable": true
   },
   "outputs": [],
   "source": []
  }
 ],
 "metadata": {
  "anaconda-cloud": {},
  "kernelspec": {
   "display_name": "Python 3",
   "language": "python",
   "name": "python3"
  },
  "language_info": {
   "codemirror_mode": {
    "name": "ipython",
    "version": 3
   },
   "file_extension": ".py",
   "mimetype": "text/x-python",
   "name": "python",
   "nbconvert_exporter": "python",
   "pygments_lexer": "ipython3",
   "version": "3.4.5"
  },
  "widgets": {
   "state": {
    "1331957f063d4e96b5cd5eea359013c2": {
     "views": [
      {
       "cell_index": 18
      }
     ]
    },
    "1fc4683e72374afeb47cf4b35b6d5a59": {
     "views": [
      {
       "cell_index": 18
      }
     ]
    },
    "1fe44943a2a54b488f37260112c76dfe": {
     "views": [
      {
       "cell_index": 18
      }
     ]
    },
    "4d026e1759524651a6d4944a5cf777fd": {
     "views": [
      {
       "cell_index": 18
      }
     ]
    },
    "85fa2261b6e649c086eb71de239d01ca": {
     "views": [
      {
       "cell_index": 18
      }
     ]
    },
    "885dada48ea54b6c9419acba55028d65": {
     "views": [
      {
       "cell_index": 11
      }
     ]
    },
    "93166dc78dcd4c379c2e7d0bea5f482a": {
     "views": [
      {
       "cell_index": 18
      }
     ]
    },
    "9f93c35dc68342408a81365924532198": {
     "views": [
      {
       "cell_index": 5
      }
     ]
    },
    "ac5392b89c1d4e2d94dda5507e0cace0": {
     "views": [
      {
       "cell_index": 22
      }
     ]
    },
    "bc38f9e409c1496cb9b7266dff6650dd": {
     "views": [
      {
       "cell_index": 7
      }
     ]
    },
    "bdfb1816bf19443099167e65398ca205": {
     "views": [
      {
       "cell_index": 15
      }
     ]
    },
    "cb51d35b67a8475c9d21b0b3c7360838": {
     "views": [
      {
       "cell_index": 5
      }
     ]
    },
    "cc205f41623d4e298c3bc6d289d6a2df": {
     "views": [
      {
       "cell_index": 18
      }
     ]
    },
    "e136b383355c48ca8fcc751f20e60f33": {
     "views": [
      {
       "cell_index": 18
      }
     ]
    },
    "eb540bebd8574ff6bc4571b695b6e83f": {
     "views": [
      {
       "cell_index": 5
      }
     ]
    },
    "ee7f4a074f964eaaa040a7f26a63a88b": {
     "views": [
      {
       "cell_index": 18
      }
     ]
    },
    "f5dfac6fcc7a492da33bc1fdc668fa09": {
     "views": [
      {
       "cell_index": 18
      }
     ]
    },
    "feb01aab105d42f4a99a8b53aebcd595": {
     "views": [
      {
       "cell_index": 18
      }
     ]
    },
    "ffb8183f77fa4f45a610425d19919e6a": {
     "views": [
      {
       "cell_index": 5
      }
     ]
    }
   },
   "version": "1.2.0"
  }
 },
 "nbformat": 4,
 "nbformat_minor": 0
}
