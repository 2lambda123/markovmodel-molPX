{
 "cells": [
  {
   "cell_type": "markdown",
   "metadata": {},
   "source": [
    "# molPX Di-Ala example\n",
    "<pre> \n",
    "Guillermo Pérez-Hernández  guille.perez@fu-berlin.de \n",
    "</pre>\n",
    "   \n",
    "In this notebook we will be using a trajectory of Di-Ala-peptide to easily identify conformations in the Ramachandran plot."
   ]
  },
  {
   "cell_type": "code",
   "execution_count": null,
   "metadata": {
    "collapsed": true,
    "scrolled": true
   },
   "outputs": [],
   "source": [
    "from os.path import exists\n",
    "import molpx\n",
    "from matplotlib import pylab as plt\n",
    "%matplotlib ipympl\n",
    "\n",
    "import pyemma\n",
    "import numpy as np"
   ]
  },
  {
   "cell_type": "markdown",
   "metadata": {},
   "source": [
    "## Start from files on disk"
   ]
  },
  {
   "cell_type": "code",
   "execution_count": null,
   "metadata": {
    "collapsed": true
   },
   "outputs": [],
   "source": [
    "top = molpx._molpxdir(join='notebooks/data/ala2.pdb')\n",
    "# What data do we  have?\n",
    "if exists('/group/ag_cmb/scratch/gph82/Di-Ala-nbdata/ala2.dcd'):\n",
    "    MD_trajfiles = ['/group/ag_cmb/scratch/gph82/Di-Ala-nbdata/ala2.dcd'] #long trajectory\n",
    "elif exists('/home/guille/ala2.dcd'):\n",
    "    MD_trajfiles = ['/home/guille/ala2.dcd'] # extra for Stralsund\n",
    "else:\n",
    "    MD_trajfiles = [molpx._molpxdir(join='notebooks/data/ala2.mini.xtc')] #short trajectory"
   ]
  },
  {
   "cell_type": "markdown",
   "metadata": {},
   "source": [
    "## Featurize to Ramachandran $(\\phi,\\psi)$-pairs with `PyEMMA`"
   ]
  },
  {
   "cell_type": "code",
   "execution_count": null,
   "metadata": {},
   "outputs": [],
   "source": [
    "feat = pyemma.coordinates.featurizer(top)\n",
    "feat.add_backbone_torsions()\n",
    "src  = pyemma.coordinates.source(MD_trajfiles, features=feat)\n",
    "Y = src.get_output()"
   ]
  },
  {
   "cell_type": "markdown",
   "metadata": {},
   "source": [
    "## Visualize a FES and the molecular structures behind it\n",
    "Execute the following cell and click either on the FES or on the slidebar"
   ]
  },
  {
   "cell_type": "code",
   "execution_count": null,
   "metadata": {
    "scrolled": false
   },
   "outputs": [],
   "source": [
    "ax, fig, iwd, data_sample, geom, widget_box = molpx.visualize.FES(MD_trajfiles,\n",
    "                                                                  top,    \n",
    "                                                                  Y,             \n",
    "                                                                  #proj_idxs=[1],\n",
    "                                                                  nbins=50,\n",
    "                                                                  n_overlays=5,\n",
    "                                                                  proj_labels=['$\\phi$', \n",
    "                                                                               '$\\psi$'],\n",
    "                                                                  atom_selection=\"symbol != H\", \n",
    "                                                                  sticky=True, \n",
    "                                                                  #color_list='random'\n",
    "                                                                 )\n",
    "widget_box"
   ]
  },
  {
   "cell_type": "markdown",
   "metadata": {},
   "source": [
    "## Visualize trajectories, FES and molecular structures"
   ]
  },
  {
   "cell_type": "code",
   "execution_count": null,
   "metadata": {
    "collapsed": true,
    "scrolled": false
   },
   "outputs": [],
   "source": [
    "__, myfig, iwd, __, ibox = molpx.visualize.traj(MD_trajfiles,     \n",
    "                                          top,                                                                                                                              \n",
    "                                          Y,                                        \n",
    "                                          plot_FES = True,                                        \n",
    "                                          #dt = dt*1e-6, tunits='ms',                                           \n",
    "                                          max_frames=10000,\n",
    "                                          proj_idxs=[0, 1],\n",
    "                                          panel_height=2,    \n",
    "                                          proj_labels=['$\\phi$', '$\\psi$']\n",
    "                          )\n",
    "myfig.tight_layout()\n",
    "ibox"
   ]
  },
  {
   "cell_type": "markdown",
   "metadata": {},
   "source": [
    "# Intermediate steps: using molPX to generate a regspace sample of the data\n",
    "See the documentation of `molpx.generate.sample` to find out about all possible options:\n",
    "```\n",
    "molpx.generate.sample(MD_trajectories, MD_top, projected_trajectories, proj_idxs=[0, 1], n_points=100, n_geom_samples=1, keep_all_samples=False, proj_stride=1, verbose=False, return_data=False)\n",
    "```"
   ]
  },
  {
   "cell_type": "code",
   "execution_count": null,
   "metadata": {
    "collapsed": true
   },
   "outputs": [],
   "source": [
    "data_sample, geoms = molpx.generate.sample(MD_trajfiles,                                            \n",
    "                                           top, \n",
    "                                           Y,                                            \n",
    "                                           n_points=200   ,\n",
    "                                            n_geom_samples=5,\n",
    "                                           keep_all_samples=True,\n",
    "                                    )\n",
    "data_sample.shape, geoms"
   ]
  },
  {
   "cell_type": "markdown",
   "metadata": {},
   "source": [
    "## Link the PDF plot with the sampled structures and visually explore the FES \n",
    "Click either on the plot or on the widget slidebar: they're connected! "
   ]
  },
  {
   "cell_type": "code",
   "execution_count": null,
   "metadata": {
    "collapsed": true,
    "scrolled": false
   },
   "outputs": [],
   "source": [
    "# Replot the FES\n",
    "plt.figure(figsize=(4,4))\n",
    "h, (x,y) = np.histogramdd(np.vstack(Y)[:,:2], bins=50)\n",
    "plt.contourf(x[:-1], y[:-1], -np.log(h.T), alpha=.50)\n",
    "\n",
    "# Create the linked widget\n",
    "linked_wdg, __ = molpx.visualize.sample(data_sample, \n",
    "                              geoms,                      \n",
    "                              plt.gca(), \n",
    "                              clear_lines=True,\n",
    "                              #sticky=True,                              \n",
    "                            )\n",
    "linked_wdg"
   ]
  },
  {
   "cell_type": "markdown",
   "metadata": {},
   "source": [
    "# Paths samples along the different projections (=axis)"
   ]
  },
  {
   "cell_type": "code",
   "execution_count": null,
   "metadata": {
    "collapsed": true
   },
   "outputs": [],
   "source": [
    "paths_dict, idata = molpx.generate.projection_paths(MD_trajfiles, \n",
    "                                                    top, \n",
    "                                                    Y, \n",
    "                                                    n_points=50,\n",
    "                                                    proj_idxs=[0,1],\n",
    "                                                    n_projs=3,\n",
    "                                                    proj_dim = 3, \n",
    "                                                    verbose=False, \n",
    "                                        )"
   ]
  },
  {
   "cell_type": "code",
   "execution_count": null,
   "metadata": {
    "collapsed": true
   },
   "outputs": [],
   "source": [
    "# Choose the coordinate and the tyep of path\n",
    "coord = 1\n",
    "path_type = 'min_rmsd'\n",
    "#path_type = 'min_disp'\n",
    "igeom = paths_dict[coord][path_type][\"geom\"]\n",
    "ipath = paths_dict[coord][path_type][\"proj\"]\n",
    "\n",
    "# Choose the proj_idxs for the path and the FES \n",
    "# to be shown\n",
    "proj_idxs = [0,1]"
   ]
  },
  {
   "cell_type": "code",
   "execution_count": null,
   "metadata": {
    "collapsed": true,
    "scrolled": false
   },
   "outputs": [],
   "source": [
    "plt.figure(figsize=(5,5))\n",
    "h, (x,y) = np.histogramdd(np.vstack(Y)[:,proj_idxs], bins=50)\n",
    "plt.contourf(x[:-1], y[:-1], -np.log(h.T), alpha=.50)\n",
    "\n",
    "linked_NGL_wdg, linked_ax_widget = molpx.visualize.sample(ipath[:,proj_idxs], \n",
    "                                    igeom,                             \n",
    "                                    plt.gca(), \n",
    "                                    clear_lines=True,\n",
    "                                    n_smooth = 2, \n",
    "                                    plot_path=True,                                                            \n",
    "                                    #radius=True,\n",
    "                            )\n",
    "linked_NGL_wdg"
   ]
  },
  {
   "cell_type": "markdown",
   "metadata": {
    "collapsed": true
   },
   "source": [
    "# Let's do TICA and try to look a the correlations in a TICA analysis"
   ]
  },
  {
   "cell_type": "code",
   "execution_count": null,
   "metadata": {
    "collapsed": true
   },
   "outputs": [],
   "source": [
    "feat = pyemma.coordinates.featurizer(top)\n",
    "#feat.add_backbone_torsions(cossin=True)\n",
    "feat.add_distances(feat.topology.select('symbol != H'))\n",
    "src  = pyemma.coordinates.source(MD_trajfiles, features=feat)\n",
    "tica = pyemma.coordinates.tica(src, lag=np.int(src.trajectory_lengths()/3000))\n",
    "Y_tica = tica.get_output()"
   ]
  },
  {
   "cell_type": "code",
   "execution_count": null,
   "metadata": {
    "collapsed": true
   },
   "outputs": [],
   "source": [
    "ax, fig, iwd, data_sample, geom, widget_box = molpx.visualize.FES(MD_trajfiles,\n",
    "                                                                  top,                                                       \n",
    "                                                                  Y_tica,                                                       \n",
    "                                                                  n_overlays=5,\n",
    "                                                                  atom_selection='backbone',\n",
    "                                                                  #sticky=True,\n",
    "                                                                  #color_list='rand'\n",
    "                                          )\n",
    "widget_box"
   ]
  },
  {
   "cell_type": "code",
   "execution_count": null,
   "metadata": {
    "collapsed": true
   },
   "outputs": [],
   "source": [
    "__, myfig, iwd, __, ibox = molpx.visualize.traj(MD_trajfiles,     \n",
    "                                          top,                                                                                                                              \n",
    "                                          Y_tica,                                        \n",
    "                                          plot_FES = True,                                        \n",
    "                                          #dt = dt*1e-6, tunits='ms',                                           \n",
    "                                          max_frames=10000,\n",
    "                                          #proj_idxs=[0,1],\n",
    "                                          panel_height=2,                                              \n",
    "                                          projection=tica\n",
    "                          )\n",
    "ibox"
   ]
  },
  {
   "cell_type": "code",
   "execution_count": null,
   "metadata": {
    "collapsed": true
   },
   "outputs": [],
   "source": [
    "paths_dict, idata = molpx.generate.projection_paths(MD_trajfiles, \n",
    "                                                    top, \n",
    "                                                    Y_tica, \n",
    "                                                    n_points=50,\n",
    "                                                    proj_idxs=[0,1],\n",
    "                                                    n_projs=2,\n",
    "                                                    proj_dim = 2, \n",
    "                                                    verbose=False, \n",
    "                                        )"
   ]
  },
  {
   "cell_type": "code",
   "execution_count": null,
   "metadata": {
    "collapsed": true
   },
   "outputs": [],
   "source": [
    "# Choose the coordinate and the type of path\n",
    "coord = 0\n",
    "path_type = 'min_rmsd'\n",
    "#path_type = 'min_disp'\n",
    "igeom = paths_dict[coord][path_type][\"geom\"]\n",
    "ipath = paths_dict[coord][path_type][\"proj\"]\n",
    "\n",
    "# Choose the proj_idxs for the path and the FES \n",
    "# to be shown\n",
    "proj_idxs = [0,1]"
   ]
  },
  {
   "cell_type": "code",
   "execution_count": null,
   "metadata": {
    "collapsed": true
   },
   "outputs": [],
   "source": [
    "plt.figure(figsize=(4,4))\n",
    "h, (x,y) = np.histogramdd(np.vstack(Y_tica)[:,proj_idxs], bins=50)\n",
    "plt.contourf(x[:-1], y[:-1], -np.log(h.T), alpha=.50)\n",
    "\n",
    "linked_wdg, axes_widget = molpx.visualize.sample(ipath[:,proj_idxs], \n",
    "                                    igeom,\n",
    "                                    plt.gca(), \n",
    "                                    clear_lines=True,\n",
    "                                    n_smooth = 1, \n",
    "                                    plot_path=True,   \n",
    "                                   )\n",
    "# You can even choose to add the correlations a posteriori                                         \n",
    "molpx.visualize.correlations(tica, widget=linked_wdg, proj_idxs=0)\n",
    "linked_wdg.center_view()\n",
    "linked_wdg"
   ]
  }
 ],
 "metadata": {
  "anaconda-cloud": {},
  "kernelspec": {
   "display_name": "Python 3",
   "language": "python",
   "name": "python3"
  },
  "language_info": {
   "codemirror_mode": {
    "name": "ipython",
    "version": 3
   },
   "file_extension": ".py",
   "mimetype": "text/x-python",
   "name": "python",
   "nbconvert_exporter": "python",
   "pygments_lexer": "ipython3",
   "version": "3.6.1"
  },
  "widgets": {
   "state": {
    "02868d470d3944fcb174115083470e5e": {
     "views": [
      {
       "cell_index": 21
      }
     ]
    },
    "071ea460c2ea4467b9acf661aff8988e": {
     "views": [
      {
       "cell_index": 13
      }
     ]
    },
    "3795c55470a641b08e47b3a4715f09b3": {
     "views": [
      {
       "cell_index": 9
      }
     ]
    },
    "3e2bc666001c439d963b710a688de7f8": {
     "views": [
      {
       "cell_index": 24
      }
     ]
    },
    "482ef5b6c7f844b087e84587dfff2b49": {
     "views": [
      {
       "cell_index": 7
      },
      {
       "cell_index": 7
      }
     ]
    },
    "5213de86c14948419c77d639e62c5ca5": {
     "views": [
      {
       "cell_index": 20
      },
      {
       "cell_index": 20
      }
     ]
    },
    "59e2ff74d4f7475286f82746ec8bba10": {
     "views": [
      {
       "cell_index": 7
      }
     ]
    },
    "66dc7c93eb5e4fe5a8605413b30738c8": {
     "views": [
      {
       "cell_index": 24
      }
     ]
    },
    "85603629178245a99aac8e903cf08873": {
     "views": [
      {
       "cell_index": 20
      }
     ]
    },
    "9161c6c967254129b1254cf7aa7444bc": {
     "views": [
      {
       "cell_index": 20
      }
     ]
    },
    "950a0e252af64f678803334ced13c584": {
     "views": [
      {
       "cell_index": 7
      }
     ]
    },
    "b64f886d02f1404bbcae8b03dbe849e5": {
     "views": [
      {
       "cell_index": 9
      }
     ]
    },
    "cd20af50a3fe4a27892b154f32b2858a": {
     "views": [
      {
       "cell_index": 17
      }
     ]
    },
    "e1c43d98fc1646259e74f5ad635b41d0": {
     "views": [
      {
       "cell_index": 13
      }
     ]
    },
    "e61dee11b8934d2b9951ff6d6d03ca04": {
     "views": [
      {
       "cell_index": 17
      }
     ]
    },
    "fc529fe0b45c444ea92f787b1c51d56f": {
     "views": [
      {
       "cell_index": 21
      }
     ]
    }
   },
   "version": "1.2.0"
  }
 },
 "nbformat": 4,
 "nbformat_minor": 1
}
