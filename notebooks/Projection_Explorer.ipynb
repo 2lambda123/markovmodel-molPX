{
 "cells": [
  {
   "cell_type": "code",
   "execution_count": null,
   "metadata": {
    "collapsed": false
   },
   "outputs": [],
   "source": [
    "import projX\n",
    "import pyemma\n",
    "import numpy as np\n",
    "from matplotlib import pylab as plt\n",
    "from os.path import exists\n",
    "%matplotlib notebook"
   ]
  },
  {
   "cell_type": "code",
   "execution_count": null,
   "metadata": {
    "collapsed": false
   },
   "outputs": [],
   "source": [
    "trajfile = '/group/ag_cmb/scratch/gph82/work/CMB/hierarchical_TICA/bpti-shaw/DESRES-Trajectory-bpti-c-alpha/c-alpha_centered.stride.100.xtc'\n",
    "if not exists(trajfile):\n",
    "    trajfile = '../data/'+trajfile.split('/')[-1]\n",
    "top  = '/group/ag_cmb/scratch/gph82/work/CMB/hierarchical_TICA/bpti-shaw/DESRES-Trajectory-bpti-c-alpha/bpti-c-alpha_centered.pdb'\n",
    "if not exists(top):\n",
    "    top = '../data/'+top.split('/')[-1]"
   ]
  },
  {
   "cell_type": "markdown",
   "metadata": {},
   "source": [
    "Skip this part if you already have an Y.npy file"
   ]
  },
  {
   "cell_type": "code",
   "execution_count": null,
   "metadata": {
    "collapsed": false
   },
   "outputs": [],
   "source": [
    "try:\n",
    "    Y = np.load('Y.npy')\n",
    "except:\n",
    "    feat = pyemma.coordinates.featurizer(top)\n",
    "    pairs = feat.pairs(range(feat.topology.n_atoms)[::2])\n",
    "    feat.add_distances(pairs)\n",
    "    src  = pyemma.coordinates.source(trajfile, features=feat)\n",
    "    tica = pyemma.coordinates.tica(src, lag=10, dim=2)\n",
    "    Y = tica.get_output()[0]\n",
    "    np.save('Y.npy', Y)\n"
   ]
  },
  {
   "cell_type": "markdown",
   "metadata": {},
   "source": [
    "# Look at the -log(PDF) plot and wonder what structures are behind it"
   ]
  },
  {
   "cell_type": "code",
   "execution_count": null,
   "metadata": {
    "collapsed": false
   },
   "outputs": [],
   "source": [
    "plt.figure(figsize=(10,10))\n",
    "h, (x,y) = np.histogramdd(Y, bins=50)\n",
    "plt.contourf(x[:-1], y[:-1], -np.log(h.T), alpha=.50)"
   ]
  },
  {
   "cell_type": "markdown",
   "metadata": {},
   "source": [
    "# Use projX to generate a regspace sample of the data"
   ]
  },
  {
   "cell_type": "code",
   "execution_count": null,
   "metadata": {
    "collapsed": false
   },
   "outputs": [],
   "source": [
    "sample, geoms = projX.generate_sample(trajfile, top, Y, \n",
    "                                      n_points=200\n",
    "                                      #keep_all_samples=True,                                      \n",
    "                                      #n_geom_samples=200,\n",
    "                                      #verbose=True\n",
    "                                    )\n",
    "sample.shape, geoms"
   ]
  },
  {
   "cell_type": "markdown",
   "metadata": {},
   "source": [
    "# Link the PDF plot with the sampled structures and visually explore the FES \n",
    "Click either on the plot or on the widget slidebar: they're connected! "
   ]
  },
  {
   "cell_type": "code",
   "execution_count": null,
   "metadata": {
    "collapsed": false
   },
   "outputs": [],
   "source": [
    "# Replot the FES\n",
    "plt.figure(figsize=(10,10))\n",
    "h, (x,y) = np.histogramdd(Y, bins=50)\n",
    "plt.contourf(x[:-1], y[:-1], -np.log(h.T), alpha=.50)\n",
    "# Create the linked widget\n",
    "linked_wdg = projX.visualize_sample(sample, \n",
    "                              geoms.superpose(geoms[0]),                             \n",
    "                              plt.gca(), \n",
    "                              clear_lines=True,\n",
    "                              #plot_path=True\n",
    "                            )\n",
    "plt.plot(sample[:,0], sample[:,1],' ok', zorder=0)\n",
    "# Show it\n",
    "linked_wdg\n"
   ]
  },
  {
   "cell_type": "markdown",
   "metadata": {},
   "source": [
    "# Do everything in one step"
   ]
  },
  {
   "cell_type": "code",
   "execution_count": null,
   "metadata": {
    "collapsed": false
   },
   "outputs": [],
   "source": [
    "from imp import reload\n",
    "reload(projX)\n",
    "ax, fig, iwd, sample, geom = projX.visualize_traj(trajfile, top, 'Y.npy', \n",
    "                     #return_data=True\n",
    "                                          )\n",
    "iwd"
   ]
  },
  {
   "cell_type": "code",
   "execution_count": null,
   "metadata": {
    "collapsed": false
   },
   "outputs": [],
   "source": [
    "ax\n",
    "plt.show()"
   ]
  },
  {
   "cell_type": "markdown",
   "metadata": {},
   "source": [
    "# Use projX to generate paths along the different projections/axis"
   ]
  },
  {
   "cell_type": "code",
   "execution_count": null,
   "metadata": {
    "collapsed": false
   },
   "outputs": [],
   "source": [
    "paths_dict, idata = projX.generate_paths(trajfile, top, \n",
    "                                         'Y.npy', \n",
    "                                         #Y, # You can also directly give the data here\n",
    "                                         n_projs=2,\n",
    "                                         verbose=False, \n",
    "                                        )"
   ]
  },
  {
   "cell_type": "markdown",
   "metadata": {},
   "source": [
    "# Link the PDF plot with the sampled paths/structures and visually explore the coordinates (separately). \n",
    "Click either on the plot or on the widget slidebar: they're connected! You can change the type of path between min_rmsd or min_disp and you can also change the coordinate sampled (0 or 1)\n"
   ]
  },
  {
   "cell_type": "code",
   "execution_count": null,
   "metadata": {
    "collapsed": true
   },
   "outputs": [],
   "source": [
    "# Choose the coordinate and the tyep of path\n",
    "coord = 0\n",
    "path_type = 'min_rmsd'\n",
    "#path_type = 'min_disp'\n",
    "igeom = paths_dict[coord][path_type][\"geom\"]\n",
    "ipath = paths_dict[coord][path_type][\"proj\"]"
   ]
  },
  {
   "cell_type": "code",
   "execution_count": null,
   "metadata": {
    "collapsed": false
   },
   "outputs": [],
   "source": [
    "plt.figure(figsize=(10,10))\n",
    "h, (x,y) = np.histogramdd(Y, bins=50)\n",
    "plt.contourf(x[:-1], y[:-1], -np.log(h.T), alpha=.50)\n",
    "\n",
    "linked_wdg = projX.visualize_sample(ipath, \n",
    "                              igeom.superpose(igeom[0]),                             \n",
    "                              plt.gca(), \n",
    "                              clear_lines=True,\n",
    "                              plot_path=True\n",
    "                            )\n",
    "linked_wdg"
   ]
  },
  {
   "cell_type": "markdown",
   "metadata": {},
   "source": [
    "# You can even provide your own clustering object..."
   ]
  },
  {
   "cell_type": "code",
   "execution_count": null,
   "metadata": {
    "collapsed": false
   },
   "outputs": [],
   "source": [
    "clkmeans = pyemma.coordinates.cluster_kmeans(Y, 10)\n",
    "sample, geoms = projX.generate_sample(trajfile, top, clkmeans, \n",
    "                                     n_geom_samples=50, \n",
    "                                     keep_all_samples=True # read the doc for this argument\n",
    "                                    )"
   ]
  },
  {
   "cell_type": "code",
   "execution_count": null,
   "metadata": {
    "collapsed": false
   },
   "outputs": [],
   "source": [
    "geom.save('10kmeans.xtc')"
   ]
  },
  {
   "cell_type": "code",
   "execution_count": null,
   "metadata": {
    "collapsed": false
   },
   "outputs": [],
   "source": [
    "plt.figure(figsize=(7,7))\n",
    "plt.contourf(x[:-1], y[:-1], -np.log(h.T), alpha=.50)\n",
    "plt.plot(clkmeans.clustercenters[:,0], clkmeans.clustercenters[:,1],' ok')\n",
    "iwdg = projX.visualize_sample(sample, \n",
    "                              geoms.superpose(geoms[0]),                             \n",
    "                              plt.gca(), \n",
    "                              clear_lines=False,\n",
    "                              #plot_path=True\n",
    "                            )\n",
    "iwdg"
   ]
  },
  {
   "cell_type": "code",
   "execution_count": null,
   "metadata": {
    "collapsed": true
   },
   "outputs": [],
   "source": [
    "# Check\n",
    "# https://github.com/arose/nglview/issues/518\n",
    "# https://github.com/arose/nglview/issues/517"
   ]
  },
  {
   "cell_type": "markdown",
   "metadata": {},
   "source": [
    "# Intefacing with VMD \n",
    "This is a WIP"
   ]
  },
  {
   "cell_type": "code",
   "execution_count": null,
   "metadata": {
    "collapsed": false
   },
   "outputs": [],
   "source": [
    "plt.figure()\n",
    "plt.contourf(x[:-1], y[:-1], -np.log(h.T), alpha=.50)"
   ]
  },
  {
   "cell_type": "code",
   "execution_count": null,
   "metadata": {
    "collapsed": false
   },
   "outputs": [],
   "source": [
    "import bmutils\n",
    "from imp import reload\n",
    "reload(bmutils)\n",
    "vmdpipe = bmutils.link_ax_w_pos_2_vmd(plt.gca(), sample, geoms, rep='Trace', \n",
    "                           # freetext= 'start_sscache\\n'\n",
    "                           )"
   ]
  },
  {
   "cell_type": "code",
   "execution_count": null,
   "metadata": {
    "collapsed": true
   },
   "outputs": [],
   "source": [
    "vmdpipe.close()"
   ]
  },
  {
   "cell_type": "code",
   "execution_count": null,
   "metadata": {
    "collapsed": true
   },
   "outputs": [],
   "source": [
    "vmdpipe.flush()"
   ]
  },
  {
   "cell_type": "code",
   "execution_count": null,
   "metadata": {
    "collapsed": true
   },
   "outputs": [],
   "source": []
  },
  {
   "cell_type": "code",
   "execution_count": null,
   "metadata": {
    "collapsed": true
   },
   "outputs": [],
   "source": []
  }
 ],
 "metadata": {
  "anaconda-cloud": {},
  "kernelspec": {
   "display_name": "Python [default]",
   "language": "python",
   "name": "python3"
  },
  "language_info": {
   "codemirror_mode": {
    "name": "ipython",
    "version": 3
   },
   "file_extension": ".py",
   "mimetype": "text/x-python",
   "name": "python",
   "nbconvert_exporter": "python",
   "pygments_lexer": "ipython3",
   "version": "3.4.5"
  },
  "widgets": {
   "state": {
    "0379b650fc954d2e88a1c73391537005": {
     "views": [
      {
       "cell_index": 9
      }
     ]
    },
    "105ee6591f1d4a2e887dbc96a5233668": {
     "views": [
      {
       "cell_index": 11
      }
     ]
    },
    "13628133c35949dea7410b0dceb95fb8": {
     "views": [
      {
       "cell_index": 18
      }
     ]
    },
    "154589a2322548c7a63bfbc9e1110baa": {
     "views": [
      {
       "cell_index": 14
      }
     ]
    },
    "1612157c1f914ca49c67257b556e0b92": {
     "views": [
      {
       "cell_index": 9
      }
     ]
    },
    "4c3a89c868124027b5c69b391cc5e22f": {
     "views": [
      {
       "cell_index": 9
      }
     ]
    },
    "6f05e0c29bd7441e9ca92fe6c19cf853": {
     "views": [
      {
       "cell_index": 11
      }
     ]
    },
    "7d30dfd0d69041b398a76067eead89ec": {
     "views": [
      {
       "cell_index": 14
      }
     ]
    },
    "8615f8bca7304af8ae1ac9252e137f69": {
     "views": [
      {
       "cell_index": 11
      }
     ]
    },
    "89862ec6924340fc8e59df74980d82de": {
     "views": [
      {
       "cell_index": 18
      }
     ]
    },
    "a10b920cab5741d1bd59dfc380c631c4": {
     "views": [
      {
       "cell_index": 9
      }
     ]
    },
    "a8806387fe714a84bf05eeac9d5b7f7b": {
     "views": [
      {
       "cell_index": 9
      }
     ]
    },
    "aa12e229bb2243ae913dc43a550fcad7": {
     "views": [
      {
       "cell_index": 9
      }
     ]
    },
    "b4b50052ed9b4b6b8b157af09e703f23": {
     "views": [
      {
       "cell_index": 9
      }
     ]
    },
    "c6c4d5d4d25c443aa3899dfe01636afb": {
     "views": [
      {
       "cell_index": 14
      }
     ]
    },
    "d907be111b7746018f055a976e2e2ba8": {
     "views": [
      {
       "cell_index": 9
      }
     ]
    },
    "f7a453d6b3ae4b0884356be78eed9a1a": {
     "views": [
      {
       "cell_index": 11
      }
     ]
    }
   },
   "version": "1.2.0"
  }
 },
 "nbformat": 4,
 "nbformat_minor": 0
}
