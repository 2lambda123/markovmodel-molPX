{
 "cells": [
  {
   "cell_type": "code",
   "execution_count": 1,
   "metadata": {
    "collapsed": false
   },
   "outputs": [],
   "source": [
    "import projX\n",
    "import pyemma\n",
    "import numpy as np\n",
    "from matplotlib import pylab as plt\n",
    "import nglview\n",
    "%matplotlib notebook"
   ]
  },
  {
   "cell_type": "code",
   "execution_count": 10,
   "metadata": {
    "collapsed": true
   },
   "outputs": [],
   "source": [
    "trajfile = '/group/ag_cmb/scratch/gph82/work/CMB/hierarchical_TICA/bpti-shaw/DESRES-Trajectory-bpti-c-alpha/c-alpha_centered.stride.100.xtc'\n",
    "top  = '/group/ag_cmb/scratch/gph82/work/CMB/hierarchical_TICA/bpti-shaw/DESRES-Trajectory-bpti-c-alpha/bpti-c-alpha_centered.pdb'"
   ]
  },
  {
   "cell_type": "markdown",
   "metadata": {},
   "source": [
    "Skip this part if you already have an Y.npy file"
   ]
  },
  {
   "cell_type": "code",
   "execution_count": 8,
   "metadata": {
    "collapsed": false
   },
   "outputs": [],
   "source": [
    "feat = pyemma.coordinates.featurizer(top)\n",
    "pairs = feat.pairs(range(feat.topology.n_atoms)[::2])\n",
    "feat.add_distances(pairs)\n",
    "#src  = pyemma.coordinates.source(traj, features=feat)\n",
    "#tica = pyemma.coordinates.tica(src, lag=10, dim=2)\n",
    "#Y = tica.get_output()[0]\n",
    "#np.save('Y.npy', Y)"
   ]
  },
  {
   "cell_type": "markdown",
   "metadata": {},
   "source": [
    "# Look at the -log(PDF) plot and wonder what the coordinates mean..."
   ]
  },
  {
   "cell_type": "code",
   "execution_count": 3,
   "metadata": {
    "collapsed": false
   },
   "outputs": [
    {
     "data": {
      "application/javascript": [
       "/* Put everything inside the global mpl namespace */\n",
       "window.mpl = {};\n",
       "\n",
       "mpl.get_websocket_type = function() {\n",
       "    if (typeof(WebSocket) !== 'undefined') {\n",
       "        return WebSocket;\n",
       "    } else if (typeof(MozWebSocket) !== 'undefined') {\n",
       "        return MozWebSocket;\n",
       "    } else {\n",
       "        alert('Your browser does not have WebSocket support.' +\n",
       "              'Please try Chrome, Safari or Firefox ≥ 6. ' +\n",
       "              'Firefox 4 and 5 are also supported but you ' +\n",
       "              'have to enable WebSockets in about:config.');\n",
       "    };\n",
       "}\n",
       "\n",
       "mpl.figure = function(figure_id, websocket, ondownload, parent_element) {\n",
       "    this.id = figure_id;\n",
       "\n",
       "    this.ws = websocket;\n",
       "\n",
       "    this.supports_binary = (this.ws.binaryType != undefined);\n",
       "\n",
       "    if (!this.supports_binary) {\n",
       "        var warnings = document.getElementById(\"mpl-warnings\");\n",
       "        if (warnings) {\n",
       "            warnings.style.display = 'block';\n",
       "            warnings.textContent = (\n",
       "                \"This browser does not support binary websocket messages. \" +\n",
       "                    \"Performance may be slow.\");\n",
       "        }\n",
       "    }\n",
       "\n",
       "    this.imageObj = new Image();\n",
       "\n",
       "    this.context = undefined;\n",
       "    this.message = undefined;\n",
       "    this.canvas = undefined;\n",
       "    this.rubberband_canvas = undefined;\n",
       "    this.rubberband_context = undefined;\n",
       "    this.format_dropdown = undefined;\n",
       "\n",
       "    this.image_mode = 'full';\n",
       "\n",
       "    this.root = $('<div/>');\n",
       "    this._root_extra_style(this.root)\n",
       "    this.root.attr('style', 'display: inline-block');\n",
       "\n",
       "    $(parent_element).append(this.root);\n",
       "\n",
       "    this._init_header(this);\n",
       "    this._init_canvas(this);\n",
       "    this._init_toolbar(this);\n",
       "\n",
       "    var fig = this;\n",
       "\n",
       "    this.waiting = false;\n",
       "\n",
       "    this.ws.onopen =  function () {\n",
       "            fig.send_message(\"supports_binary\", {value: fig.supports_binary});\n",
       "            fig.send_message(\"send_image_mode\", {});\n",
       "            fig.send_message(\"refresh\", {});\n",
       "        }\n",
       "\n",
       "    this.imageObj.onload = function() {\n",
       "            if (fig.image_mode == 'full') {\n",
       "                // Full images could contain transparency (where diff images\n",
       "                // almost always do), so we need to clear the canvas so that\n",
       "                // there is no ghosting.\n",
       "                fig.context.clearRect(0, 0, fig.canvas.width, fig.canvas.height);\n",
       "            }\n",
       "            fig.context.drawImage(fig.imageObj, 0, 0);\n",
       "        };\n",
       "\n",
       "    this.imageObj.onunload = function() {\n",
       "        this.ws.close();\n",
       "    }\n",
       "\n",
       "    this.ws.onmessage = this._make_on_message_function(this);\n",
       "\n",
       "    this.ondownload = ondownload;\n",
       "}\n",
       "\n",
       "mpl.figure.prototype._init_header = function() {\n",
       "    var titlebar = $(\n",
       "        '<div class=\"ui-dialog-titlebar ui-widget-header ui-corner-all ' +\n",
       "        'ui-helper-clearfix\"/>');\n",
       "    var titletext = $(\n",
       "        '<div class=\"ui-dialog-title\" style=\"width: 100%; ' +\n",
       "        'text-align: center; padding: 3px;\"/>');\n",
       "    titlebar.append(titletext)\n",
       "    this.root.append(titlebar);\n",
       "    this.header = titletext[0];\n",
       "}\n",
       "\n",
       "\n",
       "\n",
       "mpl.figure.prototype._canvas_extra_style = function(canvas_div) {\n",
       "\n",
       "}\n",
       "\n",
       "\n",
       "mpl.figure.prototype._root_extra_style = function(canvas_div) {\n",
       "\n",
       "}\n",
       "\n",
       "mpl.figure.prototype._init_canvas = function() {\n",
       "    var fig = this;\n",
       "\n",
       "    var canvas_div = $('<div/>');\n",
       "\n",
       "    canvas_div.attr('style', 'position: relative; clear: both; outline: 0');\n",
       "\n",
       "    function canvas_keyboard_event(event) {\n",
       "        return fig.key_event(event, event['data']);\n",
       "    }\n",
       "\n",
       "    canvas_div.keydown('key_press', canvas_keyboard_event);\n",
       "    canvas_div.keyup('key_release', canvas_keyboard_event);\n",
       "    this.canvas_div = canvas_div\n",
       "    this._canvas_extra_style(canvas_div)\n",
       "    this.root.append(canvas_div);\n",
       "\n",
       "    var canvas = $('<canvas/>');\n",
       "    canvas.addClass('mpl-canvas');\n",
       "    canvas.attr('style', \"left: 0; top: 0; z-index: 0; outline: 0\")\n",
       "\n",
       "    this.canvas = canvas[0];\n",
       "    this.context = canvas[0].getContext(\"2d\");\n",
       "\n",
       "    var rubberband = $('<canvas/>');\n",
       "    rubberband.attr('style', \"position: absolute; left: 0; top: 0; z-index: 1;\")\n",
       "\n",
       "    var pass_mouse_events = true;\n",
       "\n",
       "    canvas_div.resizable({\n",
       "        start: function(event, ui) {\n",
       "            pass_mouse_events = false;\n",
       "        },\n",
       "        resize: function(event, ui) {\n",
       "            fig.request_resize(ui.size.width, ui.size.height);\n",
       "        },\n",
       "        stop: function(event, ui) {\n",
       "            pass_mouse_events = true;\n",
       "            fig.request_resize(ui.size.width, ui.size.height);\n",
       "        },\n",
       "    });\n",
       "\n",
       "    function mouse_event_fn(event) {\n",
       "        if (pass_mouse_events)\n",
       "            return fig.mouse_event(event, event['data']);\n",
       "    }\n",
       "\n",
       "    rubberband.mousedown('button_press', mouse_event_fn);\n",
       "    rubberband.mouseup('button_release', mouse_event_fn);\n",
       "    // Throttle sequential mouse events to 1 every 20ms.\n",
       "    rubberband.mousemove('motion_notify', mouse_event_fn);\n",
       "\n",
       "    rubberband.mouseenter('figure_enter', mouse_event_fn);\n",
       "    rubberband.mouseleave('figure_leave', mouse_event_fn);\n",
       "\n",
       "    canvas_div.on(\"wheel\", function (event) {\n",
       "        event = event.originalEvent;\n",
       "        event['data'] = 'scroll'\n",
       "        if (event.deltaY < 0) {\n",
       "            event.step = 1;\n",
       "        } else {\n",
       "            event.step = -1;\n",
       "        }\n",
       "        mouse_event_fn(event);\n",
       "    });\n",
       "\n",
       "    canvas_div.append(canvas);\n",
       "    canvas_div.append(rubberband);\n",
       "\n",
       "    this.rubberband = rubberband;\n",
       "    this.rubberband_canvas = rubberband[0];\n",
       "    this.rubberband_context = rubberband[0].getContext(\"2d\");\n",
       "    this.rubberband_context.strokeStyle = \"#000000\";\n",
       "\n",
       "    this._resize_canvas = function(width, height) {\n",
       "        // Keep the size of the canvas, canvas container, and rubber band\n",
       "        // canvas in synch.\n",
       "        canvas_div.css('width', width)\n",
       "        canvas_div.css('height', height)\n",
       "\n",
       "        canvas.attr('width', width);\n",
       "        canvas.attr('height', height);\n",
       "\n",
       "        rubberband.attr('width', width);\n",
       "        rubberband.attr('height', height);\n",
       "    }\n",
       "\n",
       "    // Set the figure to an initial 600x600px, this will subsequently be updated\n",
       "    // upon first draw.\n",
       "    this._resize_canvas(600, 600);\n",
       "\n",
       "    // Disable right mouse context menu.\n",
       "    $(this.rubberband_canvas).bind(\"contextmenu\",function(e){\n",
       "        return false;\n",
       "    });\n",
       "\n",
       "    function set_focus () {\n",
       "        canvas.focus();\n",
       "        canvas_div.focus();\n",
       "    }\n",
       "\n",
       "    window.setTimeout(set_focus, 100);\n",
       "}\n",
       "\n",
       "mpl.figure.prototype._init_toolbar = function() {\n",
       "    var fig = this;\n",
       "\n",
       "    var nav_element = $('<div/>')\n",
       "    nav_element.attr('style', 'width: 100%');\n",
       "    this.root.append(nav_element);\n",
       "\n",
       "    // Define a callback function for later on.\n",
       "    function toolbar_event(event) {\n",
       "        return fig.toolbar_button_onclick(event['data']);\n",
       "    }\n",
       "    function toolbar_mouse_event(event) {\n",
       "        return fig.toolbar_button_onmouseover(event['data']);\n",
       "    }\n",
       "\n",
       "    for(var toolbar_ind in mpl.toolbar_items) {\n",
       "        var name = mpl.toolbar_items[toolbar_ind][0];\n",
       "        var tooltip = mpl.toolbar_items[toolbar_ind][1];\n",
       "        var image = mpl.toolbar_items[toolbar_ind][2];\n",
       "        var method_name = mpl.toolbar_items[toolbar_ind][3];\n",
       "\n",
       "        if (!name) {\n",
       "            // put a spacer in here.\n",
       "            continue;\n",
       "        }\n",
       "        var button = $('<button/>');\n",
       "        button.addClass('ui-button ui-widget ui-state-default ui-corner-all ' +\n",
       "                        'ui-button-icon-only');\n",
       "        button.attr('role', 'button');\n",
       "        button.attr('aria-disabled', 'false');\n",
       "        button.click(method_name, toolbar_event);\n",
       "        button.mouseover(tooltip, toolbar_mouse_event);\n",
       "\n",
       "        var icon_img = $('<span/>');\n",
       "        icon_img.addClass('ui-button-icon-primary ui-icon');\n",
       "        icon_img.addClass(image);\n",
       "        icon_img.addClass('ui-corner-all');\n",
       "\n",
       "        var tooltip_span = $('<span/>');\n",
       "        tooltip_span.addClass('ui-button-text');\n",
       "        tooltip_span.html(tooltip);\n",
       "\n",
       "        button.append(icon_img);\n",
       "        button.append(tooltip_span);\n",
       "\n",
       "        nav_element.append(button);\n",
       "    }\n",
       "\n",
       "    var fmt_picker_span = $('<span/>');\n",
       "\n",
       "    var fmt_picker = $('<select/>');\n",
       "    fmt_picker.addClass('mpl-toolbar-option ui-widget ui-widget-content');\n",
       "    fmt_picker_span.append(fmt_picker);\n",
       "    nav_element.append(fmt_picker_span);\n",
       "    this.format_dropdown = fmt_picker[0];\n",
       "\n",
       "    for (var ind in mpl.extensions) {\n",
       "        var fmt = mpl.extensions[ind];\n",
       "        var option = $(\n",
       "            '<option/>', {selected: fmt === mpl.default_extension}).html(fmt);\n",
       "        fmt_picker.append(option)\n",
       "    }\n",
       "\n",
       "    // Add hover states to the ui-buttons\n",
       "    $( \".ui-button\" ).hover(\n",
       "        function() { $(this).addClass(\"ui-state-hover\");},\n",
       "        function() { $(this).removeClass(\"ui-state-hover\");}\n",
       "    );\n",
       "\n",
       "    var status_bar = $('<span class=\"mpl-message\"/>');\n",
       "    nav_element.append(status_bar);\n",
       "    this.message = status_bar[0];\n",
       "}\n",
       "\n",
       "mpl.figure.prototype.request_resize = function(x_pixels, y_pixels) {\n",
       "    // Request matplotlib to resize the figure. Matplotlib will then trigger a resize in the client,\n",
       "    // which will in turn request a refresh of the image.\n",
       "    this.send_message('resize', {'width': x_pixels, 'height': y_pixels});\n",
       "}\n",
       "\n",
       "mpl.figure.prototype.send_message = function(type, properties) {\n",
       "    properties['type'] = type;\n",
       "    properties['figure_id'] = this.id;\n",
       "    this.ws.send(JSON.stringify(properties));\n",
       "}\n",
       "\n",
       "mpl.figure.prototype.send_draw_message = function() {\n",
       "    if (!this.waiting) {\n",
       "        this.waiting = true;\n",
       "        this.ws.send(JSON.stringify({type: \"draw\", figure_id: this.id}));\n",
       "    }\n",
       "}\n",
       "\n",
       "\n",
       "mpl.figure.prototype.handle_save = function(fig, msg) {\n",
       "    var format_dropdown = fig.format_dropdown;\n",
       "    var format = format_dropdown.options[format_dropdown.selectedIndex].value;\n",
       "    fig.ondownload(fig, format);\n",
       "}\n",
       "\n",
       "\n",
       "mpl.figure.prototype.handle_resize = function(fig, msg) {\n",
       "    var size = msg['size'];\n",
       "    if (size[0] != fig.canvas.width || size[1] != fig.canvas.height) {\n",
       "        fig._resize_canvas(size[0], size[1]);\n",
       "        fig.send_message(\"refresh\", {});\n",
       "    };\n",
       "}\n",
       "\n",
       "mpl.figure.prototype.handle_rubberband = function(fig, msg) {\n",
       "    var x0 = msg['x0'];\n",
       "    var y0 = fig.canvas.height - msg['y0'];\n",
       "    var x1 = msg['x1'];\n",
       "    var y1 = fig.canvas.height - msg['y1'];\n",
       "    x0 = Math.floor(x0) + 0.5;\n",
       "    y0 = Math.floor(y0) + 0.5;\n",
       "    x1 = Math.floor(x1) + 0.5;\n",
       "    y1 = Math.floor(y1) + 0.5;\n",
       "    var min_x = Math.min(x0, x1);\n",
       "    var min_y = Math.min(y0, y1);\n",
       "    var width = Math.abs(x1 - x0);\n",
       "    var height = Math.abs(y1 - y0);\n",
       "\n",
       "    fig.rubberband_context.clearRect(\n",
       "        0, 0, fig.canvas.width, fig.canvas.height);\n",
       "\n",
       "    fig.rubberband_context.strokeRect(min_x, min_y, width, height);\n",
       "}\n",
       "\n",
       "mpl.figure.prototype.handle_figure_label = function(fig, msg) {\n",
       "    // Updates the figure title.\n",
       "    fig.header.textContent = msg['label'];\n",
       "}\n",
       "\n",
       "mpl.figure.prototype.handle_cursor = function(fig, msg) {\n",
       "    var cursor = msg['cursor'];\n",
       "    switch(cursor)\n",
       "    {\n",
       "    case 0:\n",
       "        cursor = 'pointer';\n",
       "        break;\n",
       "    case 1:\n",
       "        cursor = 'default';\n",
       "        break;\n",
       "    case 2:\n",
       "        cursor = 'crosshair';\n",
       "        break;\n",
       "    case 3:\n",
       "        cursor = 'move';\n",
       "        break;\n",
       "    }\n",
       "    fig.rubberband_canvas.style.cursor = cursor;\n",
       "}\n",
       "\n",
       "mpl.figure.prototype.handle_message = function(fig, msg) {\n",
       "    fig.message.textContent = msg['message'];\n",
       "}\n",
       "\n",
       "mpl.figure.prototype.handle_draw = function(fig, msg) {\n",
       "    // Request the server to send over a new figure.\n",
       "    fig.send_draw_message();\n",
       "}\n",
       "\n",
       "mpl.figure.prototype.handle_image_mode = function(fig, msg) {\n",
       "    fig.image_mode = msg['mode'];\n",
       "}\n",
       "\n",
       "mpl.figure.prototype.updated_canvas_event = function() {\n",
       "    // Called whenever the canvas gets updated.\n",
       "    this.send_message(\"ack\", {});\n",
       "}\n",
       "\n",
       "// A function to construct a web socket function for onmessage handling.\n",
       "// Called in the figure constructor.\n",
       "mpl.figure.prototype._make_on_message_function = function(fig) {\n",
       "    return function socket_on_message(evt) {\n",
       "        if (evt.data instanceof Blob) {\n",
       "            /* FIXME: We get \"Resource interpreted as Image but\n",
       "             * transferred with MIME type text/plain:\" errors on\n",
       "             * Chrome.  But how to set the MIME type?  It doesn't seem\n",
       "             * to be part of the websocket stream */\n",
       "            evt.data.type = \"image/png\";\n",
       "\n",
       "            /* Free the memory for the previous frames */\n",
       "            if (fig.imageObj.src) {\n",
       "                (window.URL || window.webkitURL).revokeObjectURL(\n",
       "                    fig.imageObj.src);\n",
       "            }\n",
       "\n",
       "            fig.imageObj.src = (window.URL || window.webkitURL).createObjectURL(\n",
       "                evt.data);\n",
       "            fig.updated_canvas_event();\n",
       "            fig.waiting = false;\n",
       "            return;\n",
       "        }\n",
       "        else if (typeof evt.data === 'string' && evt.data.slice(0, 21) == \"data:image/png;base64\") {\n",
       "            fig.imageObj.src = evt.data;\n",
       "            fig.updated_canvas_event();\n",
       "            fig.waiting = false;\n",
       "            return;\n",
       "        }\n",
       "\n",
       "        var msg = JSON.parse(evt.data);\n",
       "        var msg_type = msg['type'];\n",
       "\n",
       "        // Call the  \"handle_{type}\" callback, which takes\n",
       "        // the figure and JSON message as its only arguments.\n",
       "        try {\n",
       "            var callback = fig[\"handle_\" + msg_type];\n",
       "        } catch (e) {\n",
       "            console.log(\"No handler for the '\" + msg_type + \"' message type: \", msg);\n",
       "            return;\n",
       "        }\n",
       "\n",
       "        if (callback) {\n",
       "            try {\n",
       "                // console.log(\"Handling '\" + msg_type + \"' message: \", msg);\n",
       "                callback(fig, msg);\n",
       "            } catch (e) {\n",
       "                console.log(\"Exception inside the 'handler_\" + msg_type + \"' callback:\", e, e.stack, msg);\n",
       "            }\n",
       "        }\n",
       "    };\n",
       "}\n",
       "\n",
       "// from http://stackoverflow.com/questions/1114465/getting-mouse-location-in-canvas\n",
       "mpl.findpos = function(e) {\n",
       "    //this section is from http://www.quirksmode.org/js/events_properties.html\n",
       "    var targ;\n",
       "    if (!e)\n",
       "        e = window.event;\n",
       "    if (e.target)\n",
       "        targ = e.target;\n",
       "    else if (e.srcElement)\n",
       "        targ = e.srcElement;\n",
       "    if (targ.nodeType == 3) // defeat Safari bug\n",
       "        targ = targ.parentNode;\n",
       "\n",
       "    // jQuery normalizes the pageX and pageY\n",
       "    // pageX,Y are the mouse positions relative to the document\n",
       "    // offset() returns the position of the element relative to the document\n",
       "    var x = e.pageX - $(targ).offset().left;\n",
       "    var y = e.pageY - $(targ).offset().top;\n",
       "\n",
       "    return {\"x\": x, \"y\": y};\n",
       "};\n",
       "\n",
       "/*\n",
       " * return a copy of an object with only non-object keys\n",
       " * we need this to avoid circular references\n",
       " * http://stackoverflow.com/a/24161582/3208463\n",
       " */\n",
       "function simpleKeys (original) {\n",
       "  return Object.keys(original).reduce(function (obj, key) {\n",
       "    if (typeof original[key] !== 'object')\n",
       "        obj[key] = original[key]\n",
       "    return obj;\n",
       "  }, {});\n",
       "}\n",
       "\n",
       "mpl.figure.prototype.mouse_event = function(event, name) {\n",
       "    var canvas_pos = mpl.findpos(event)\n",
       "\n",
       "    if (name === 'button_press')\n",
       "    {\n",
       "        this.canvas.focus();\n",
       "        this.canvas_div.focus();\n",
       "    }\n",
       "\n",
       "    var x = canvas_pos.x;\n",
       "    var y = canvas_pos.y;\n",
       "\n",
       "    this.send_message(name, {x: x, y: y, button: event.button,\n",
       "                             step: event.step,\n",
       "                             guiEvent: simpleKeys(event)});\n",
       "\n",
       "    /* This prevents the web browser from automatically changing to\n",
       "     * the text insertion cursor when the button is pressed.  We want\n",
       "     * to control all of the cursor setting manually through the\n",
       "     * 'cursor' event from matplotlib */\n",
       "    event.preventDefault();\n",
       "    return false;\n",
       "}\n",
       "\n",
       "mpl.figure.prototype._key_event_extra = function(event, name) {\n",
       "    // Handle any extra behaviour associated with a key event\n",
       "}\n",
       "\n",
       "mpl.figure.prototype.key_event = function(event, name) {\n",
       "\n",
       "    // Prevent repeat events\n",
       "    if (name == 'key_press')\n",
       "    {\n",
       "        if (event.which === this._key)\n",
       "            return;\n",
       "        else\n",
       "            this._key = event.which;\n",
       "    }\n",
       "    if (name == 'key_release')\n",
       "        this._key = null;\n",
       "\n",
       "    var value = '';\n",
       "    if (event.ctrlKey && event.which != 17)\n",
       "        value += \"ctrl+\";\n",
       "    if (event.altKey && event.which != 18)\n",
       "        value += \"alt+\";\n",
       "    if (event.shiftKey && event.which != 16)\n",
       "        value += \"shift+\";\n",
       "\n",
       "    value += 'k';\n",
       "    value += event.which.toString();\n",
       "\n",
       "    this._key_event_extra(event, name);\n",
       "\n",
       "    this.send_message(name, {key: value,\n",
       "                             guiEvent: simpleKeys(event)});\n",
       "    return false;\n",
       "}\n",
       "\n",
       "mpl.figure.prototype.toolbar_button_onclick = function(name) {\n",
       "    if (name == 'download') {\n",
       "        this.handle_save(this, null);\n",
       "    } else {\n",
       "        this.send_message(\"toolbar_button\", {name: name});\n",
       "    }\n",
       "};\n",
       "\n",
       "mpl.figure.prototype.toolbar_button_onmouseover = function(tooltip) {\n",
       "    this.message.textContent = tooltip;\n",
       "};\n",
       "mpl.toolbar_items = [[\"Home\", \"Reset original view\", \"fa fa-home icon-home\", \"home\"], [\"Back\", \"Back to  previous view\", \"fa fa-arrow-left icon-arrow-left\", \"back\"], [\"Forward\", \"Forward to next view\", \"fa fa-arrow-right icon-arrow-right\", \"forward\"], [\"\", \"\", \"\", \"\"], [\"Pan\", \"Pan axes with left mouse, zoom with right\", \"fa fa-arrows icon-move\", \"pan\"], [\"Zoom\", \"Zoom to rectangle\", \"fa fa-square-o icon-check-empty\", \"zoom\"], [\"\", \"\", \"\", \"\"], [\"Download\", \"Download plot\", \"fa fa-floppy-o icon-save\", \"download\"]];\n",
       "\n",
       "mpl.extensions = [\"eps\", \"jpeg\", \"pdf\", \"png\", \"ps\", \"raw\", \"svg\", \"tif\"];\n",
       "\n",
       "mpl.default_extension = \"png\";var comm_websocket_adapter = function(comm) {\n",
       "    // Create a \"websocket\"-like object which calls the given IPython comm\n",
       "    // object with the appropriate methods. Currently this is a non binary\n",
       "    // socket, so there is still some room for performance tuning.\n",
       "    var ws = {};\n",
       "\n",
       "    ws.close = function() {\n",
       "        comm.close()\n",
       "    };\n",
       "    ws.send = function(m) {\n",
       "        //console.log('sending', m);\n",
       "        comm.send(m);\n",
       "    };\n",
       "    // Register the callback with on_msg.\n",
       "    comm.on_msg(function(msg) {\n",
       "        //console.log('receiving', msg['content']['data'], msg);\n",
       "        // Pass the mpl event to the overriden (by mpl) onmessage function.\n",
       "        ws.onmessage(msg['content']['data'])\n",
       "    });\n",
       "    return ws;\n",
       "}\n",
       "\n",
       "mpl.mpl_figure_comm = function(comm, msg) {\n",
       "    // This is the function which gets called when the mpl process\n",
       "    // starts-up an IPython Comm through the \"matplotlib\" channel.\n",
       "\n",
       "    var id = msg.content.data.id;\n",
       "    // Get hold of the div created by the display call when the Comm\n",
       "    // socket was opened in Python.\n",
       "    var element = $(\"#\" + id);\n",
       "    var ws_proxy = comm_websocket_adapter(comm)\n",
       "\n",
       "    function ondownload(figure, format) {\n",
       "        window.open(figure.imageObj.src);\n",
       "    }\n",
       "\n",
       "    var fig = new mpl.figure(id, ws_proxy,\n",
       "                           ondownload,\n",
       "                           element.get(0));\n",
       "\n",
       "    // Call onopen now - mpl needs it, as it is assuming we've passed it a real\n",
       "    // web socket which is closed, not our websocket->open comm proxy.\n",
       "    ws_proxy.onopen();\n",
       "\n",
       "    fig.parent_element = element.get(0);\n",
       "    fig.cell_info = mpl.find_output_cell(\"<div id='\" + id + \"'></div>\");\n",
       "    if (!fig.cell_info) {\n",
       "        console.error(\"Failed to find cell for figure\", id, fig);\n",
       "        return;\n",
       "    }\n",
       "\n",
       "    var output_index = fig.cell_info[2]\n",
       "    var cell = fig.cell_info[0];\n",
       "\n",
       "};\n",
       "\n",
       "mpl.figure.prototype.handle_close = function(fig, msg) {\n",
       "    fig.root.unbind('remove')\n",
       "\n",
       "    // Update the output cell to use the data from the current canvas.\n",
       "    fig.push_to_output();\n",
       "    var dataURL = fig.canvas.toDataURL();\n",
       "    // Re-enable the keyboard manager in IPython - without this line, in FF,\n",
       "    // the notebook keyboard shortcuts fail.\n",
       "    IPython.keyboard_manager.enable()\n",
       "    $(fig.parent_element).html('<img src=\"' + dataURL + '\">');\n",
       "    fig.close_ws(fig, msg);\n",
       "}\n",
       "\n",
       "mpl.figure.prototype.close_ws = function(fig, msg){\n",
       "    fig.send_message('closing', msg);\n",
       "    // fig.ws.close()\n",
       "}\n",
       "\n",
       "mpl.figure.prototype.push_to_output = function(remove_interactive) {\n",
       "    // Turn the data on the canvas into data in the output cell.\n",
       "    var dataURL = this.canvas.toDataURL();\n",
       "    this.cell_info[1]['text/html'] = '<img src=\"' + dataURL + '\">';\n",
       "}\n",
       "\n",
       "mpl.figure.prototype.updated_canvas_event = function() {\n",
       "    // Tell IPython that the notebook contents must change.\n",
       "    IPython.notebook.set_dirty(true);\n",
       "    this.send_message(\"ack\", {});\n",
       "    var fig = this;\n",
       "    // Wait a second, then push the new image to the DOM so\n",
       "    // that it is saved nicely (might be nice to debounce this).\n",
       "    setTimeout(function () { fig.push_to_output() }, 1000);\n",
       "}\n",
       "\n",
       "mpl.figure.prototype._init_toolbar = function() {\n",
       "    var fig = this;\n",
       "\n",
       "    var nav_element = $('<div/>')\n",
       "    nav_element.attr('style', 'width: 100%');\n",
       "    this.root.append(nav_element);\n",
       "\n",
       "    // Define a callback function for later on.\n",
       "    function toolbar_event(event) {\n",
       "        return fig.toolbar_button_onclick(event['data']);\n",
       "    }\n",
       "    function toolbar_mouse_event(event) {\n",
       "        return fig.toolbar_button_onmouseover(event['data']);\n",
       "    }\n",
       "\n",
       "    for(var toolbar_ind in mpl.toolbar_items){\n",
       "        var name = mpl.toolbar_items[toolbar_ind][0];\n",
       "        var tooltip = mpl.toolbar_items[toolbar_ind][1];\n",
       "        var image = mpl.toolbar_items[toolbar_ind][2];\n",
       "        var method_name = mpl.toolbar_items[toolbar_ind][3];\n",
       "\n",
       "        if (!name) { continue; };\n",
       "\n",
       "        var button = $('<button class=\"btn btn-default\" href=\"#\" title=\"' + name + '\"><i class=\"fa ' + image + ' fa-lg\"></i></button>');\n",
       "        button.click(method_name, toolbar_event);\n",
       "        button.mouseover(tooltip, toolbar_mouse_event);\n",
       "        nav_element.append(button);\n",
       "    }\n",
       "\n",
       "    // Add the status bar.\n",
       "    var status_bar = $('<span class=\"mpl-message\" style=\"text-align:right; float: right;\"/>');\n",
       "    nav_element.append(status_bar);\n",
       "    this.message = status_bar[0];\n",
       "\n",
       "    // Add the close button to the window.\n",
       "    var buttongrp = $('<div class=\"btn-group inline pull-right\"></div>');\n",
       "    var button = $('<button class=\"btn btn-mini btn-primary\" href=\"#\" title=\"Stop Interaction\"><i class=\"fa fa-power-off icon-remove icon-large\"></i></button>');\n",
       "    button.click(function (evt) { fig.handle_close(fig, {}); } );\n",
       "    button.mouseover('Stop Interaction', toolbar_mouse_event);\n",
       "    buttongrp.append(button);\n",
       "    var titlebar = this.root.find($('.ui-dialog-titlebar'));\n",
       "    titlebar.prepend(buttongrp);\n",
       "}\n",
       "\n",
       "mpl.figure.prototype._root_extra_style = function(el){\n",
       "    var fig = this\n",
       "    el.on(\"remove\", function(){\n",
       "\tfig.close_ws(fig, {});\n",
       "    });\n",
       "}\n",
       "\n",
       "mpl.figure.prototype._canvas_extra_style = function(el){\n",
       "    // this is important to make the div 'focusable\n",
       "    el.attr('tabindex', 0)\n",
       "    // reach out to IPython and tell the keyboard manager to turn it's self\n",
       "    // off when our div gets focus\n",
       "\n",
       "    // location in version 3\n",
       "    if (IPython.notebook.keyboard_manager) {\n",
       "        IPython.notebook.keyboard_manager.register_events(el);\n",
       "    }\n",
       "    else {\n",
       "        // location in version 2\n",
       "        IPython.keyboard_manager.register_events(el);\n",
       "    }\n",
       "\n",
       "}\n",
       "\n",
       "mpl.figure.prototype._key_event_extra = function(event, name) {\n",
       "    var manager = IPython.notebook.keyboard_manager;\n",
       "    if (!manager)\n",
       "        manager = IPython.keyboard_manager;\n",
       "\n",
       "    // Check for shift+enter\n",
       "    if (event.shiftKey && event.which == 13) {\n",
       "        this.canvas_div.blur();\n",
       "        event.shiftKey = false;\n",
       "        // Send a \"J\" for go to next cell\n",
       "        event.which = 74;\n",
       "        event.keyCode = 74;\n",
       "        manager.command_mode();\n",
       "        manager.handle_keydown(event);\n",
       "    }\n",
       "}\n",
       "\n",
       "mpl.figure.prototype.handle_save = function(fig, msg) {\n",
       "    fig.ondownload(fig, null);\n",
       "}\n",
       "\n",
       "\n",
       "mpl.find_output_cell = function(html_output) {\n",
       "    // Return the cell and output element which can be found *uniquely* in the notebook.\n",
       "    // Note - this is a bit hacky, but it is done because the \"notebook_saving.Notebook\"\n",
       "    // IPython event is triggered only after the cells have been serialised, which for\n",
       "    // our purposes (turning an active figure into a static one), is too late.\n",
       "    var cells = IPython.notebook.get_cells();\n",
       "    var ncells = cells.length;\n",
       "    for (var i=0; i<ncells; i++) {\n",
       "        var cell = cells[i];\n",
       "        if (cell.cell_type === 'code'){\n",
       "            for (var j=0; j<cell.output_area.outputs.length; j++) {\n",
       "                var data = cell.output_area.outputs[j];\n",
       "                if (data.data) {\n",
       "                    // IPython >= 3 moved mimebundle to data attribute of output\n",
       "                    data = data.data;\n",
       "                }\n",
       "                if (data['text/html'] == html_output) {\n",
       "                    return [cell, data, j];\n",
       "                }\n",
       "            }\n",
       "        }\n",
       "    }\n",
       "}\n",
       "\n",
       "// Register the function which deals with the matplotlib target/channel.\n",
       "// The kernel may be null if the page has been refreshed.\n",
       "if (IPython.notebook.kernel != null) {\n",
       "    IPython.notebook.kernel.comm_manager.register_target('matplotlib', mpl.mpl_figure_comm);\n",
       "}\n"
      ],
      "text/plain": [
       "<IPython.core.display.Javascript object>"
      ]
     },
     "metadata": {},
     "output_type": "display_data"
    },
    {
     "data": {
      "text/html": [
       "<img src=\"data:image/png;base64,iVBORw0KGgoAAAANSUhEUgAAAyAAAAMgCAYAAADbcAZoAAAgAElEQVR4nOzdeZyV4//H8XvaN1OUNWVLkhDKEoqUXUTWZEkJhW9UaJnPtJdUlEIhWdpLKI19yfKT7Nn3Mh0GkaRSM5/fH5r7nGvOMvc5577Pfebu9Xw8rofm3Pt13WfmeruXy7IAAAAAAAAAAAAAAAAAAAAAAAAAAAAAAAAAAAAAAAAAAAAAAAAAAAAAAAAAAAAAAAAAAAAAAAAAAAAAAAAAAAAAAAAAAAAAAAAAAAAAAAAAAAAAAAAAAAAAAAAAAAAAAAAAAAAAAAAAAAAAAAAAAAAAAAAAAAAAAAAAAAAAAAAAAAAAAAAAAAAAAAAAAAAAAAAAAAAAAAAAAAAAAAAAAAAAAAAAAAAAAAAAAAAAAAAAAAAAAAAAAAAAAAAAAAAAAAAAAAAAAAAAAAAAAAAAAAAAAAAAAAAAAAAAAAAAAAAAAAAAAAAAAAAAAAAAAAAAAAAAAAAAAAAAAAAAAAAAAAAAAAAAAAAAAAAAAAAAAAAAAAAAAAAAAAAAAAAAAAAAAAAAAAAAAAAAAAAAAAAAAAAAAAAAAAAAAAAAAAAAAAAAAAAAAAAAAAAAAAAAAAAAAAAAAAAAAAAAAAAAAAAAAAAAAAAAAAAAAAAAAAAAAAAAABVQjmVZDS3LyqVQKBQKhUKhZG1paP3XbwMqvIaWZSmFQqFQKBQKJetLQwsIgFzLsnTNmjW6fv16T4oUiFq3W0bpNrubZ9srLb179/Z8G5SKVTgnKGUL5wQlVuG8oJQtfp8Ta9asKQ0guT73GwFX5FqWpevXr1cvrN+8XncZu4ta+ZZRaoyoob//87sn2yzVt29fT9ePiodzAmVxTiAWzguU5fc5sX79egIIAsXTADLitRFR4aO03PnGnZ5ss5TfvyyQfTgnUBbnBGLhvEBZfp8TBBAEjWcB5M9Nf2q9MfXswNFuRjs9+ZGT7Z/3vXtf3Va8zfXtliooKPBs3aiYOCdQFucEYuG8QFl+nxMEEASNZwEk/5V844rHq9+/qgs/W2h89tQXT7m+XQAAgCAhgCBoPAkg6/5Zp3VH17WDRvuZ7VVVdWvxVm00oZH9eYdHO7i6XQAAgKAhgCBoci3L0sLCQle/KENeHmJc6Vj+43J72qjXRxnTPiv6zNVtAwAABAkBBEFjv4bXLb//87vuNGonO2Cc+tipxvRfN/6q1YdXt6f3XtrbtW0DAAAEDQEEQeN6ABn44kDjCsfba96OmueqxVfZ0+uMqqPrN3vzFi4AAICKjgCCoHE1gPy68VetM6qOHS7OePyMmPOtLFxphJRJ/zfJle0DAAAEDQEEQeNqALnthduMYLHipxVx5z3uwePs+ZpObqrFJcWu7AMAAECQEEAQNK4FkF/+/kVrjaxlh4qzZ52tqqohkZhlqpxvhJXZcrkxHQAAAAQQBE+uZVn6wS23pPXFKC4p1s5zOhuB4r2178UNHyER/VEG624Svl2rozSNmgcAAGBHRwBB0ORalqV9Dj1U377xxpS/GMNfG26Ej/PmnJcwfJSWW6WdvUyOWPp/chMhBAAAIAIBBEGTa1mWfm1ZOrBOHZ186qnlfwvKePqLpzUnP8cOEnuN30s/lFscBZAP5BatIpXsZa+T42LOBwAAsKMigCBo/hsJ3bJUt4eQb775xvEX4vNfP9fc0bl2gKg2vJoulWschY/Scp60sJevKzX0W7mDEAIAALAdAQRBYwSQXyxL+7Vs6ejL8OemP/WgyQcZt15NlE5JhY+QiD4t3Y11jJOz484LAACwoyGAIGiMAKKWpdftv3+5nf3ikmI9Z9Y5RnDoLq2TDh8hEV0redpC9rDXc7DspmsljxACAACgBBAEjxFAfrYsvbJlk3I7+3kv5xnh41jZR1fL4JQCSEhEJ0onY30L5cqE8wMAAOwoCCAIGiOAXFPH0ho3VtGn5Oq4nf1Fny0ywsJekqufSL+Uw0dIRL+Tgbqz1AyPISLNy10GAABgR0AAQdDYb8G6po6lu5z6XwCoI9V0ScTD5KU+LfpU64wKj91RQ6pogfRMK3yUlj5yvL3eypKjK+V/hBAAALDDI4AgaHIty9LrmjfXy2880riysZNU12XSw+7s/7HpD20yqYkxzyRxNt6Hk7JCbtZKEn6d781yIgEEAADs8AggCJpcy7L0/b59da3kaS851ggYdaWGPifX6k8yRNuLGT6ulWNdCx+l5XRpZq+/vtTS72UQIQQAAOzQCCAIGjuAhOS/N1JdI0cbQaOe1NAL5XDjsxNkP10jQ1wPIPPlCmM790pnR8sBAAAEFQEEQWMEkNIQcqW0MoJAZGkk9XSV9Hc9fJRu+0BpYG/rVGnqeFmvEXQAAIAfCCAImqgAEhLRQsnTy+XIqPBRQ6roi9LLk/BRWvrLSeGR1aWyfiW3+x5CuNoCAAD8QgBB0ORalqWfDxgQ1ZkvlDy9VFoaAeQ+ucDT8BES0dfkhpRuw/IqIHDLFwAA8BMBBEGTa1mWfnV77KsMP8kQ7StttYXsoWPlLM/DR2k5SHa1A8hpclDSy7vFj6st6fryty/1m9+/8Xs3AACASwggCJqEAcSX0rWd9rtxHzuAVJfK+nUSt2G5FRD8uNqSrrmr5tr1tuTLJX7vDgAAcAEBBEGTXQGkazsNdW2nny4yb8Oa2uvglNaXKj+utrjhtMdOs+vskgWX+L07AADABQQQBE32BJDt4UMLRLVA9OCx4bdhdb6nmT091LWdpwEhk0HHbU0nN7XrrMOjHfzeHQAA4AICCIImOwJImfChBaJ509uG3741tIpuWHqHaoGYQcRhGHEqnWPwW3FJsVYfXt2usyPuP8LvXQIAAC4ggCBo4r4Fy8/woQWinyy63rgNa87jF0TNk0wQKY8bx+KntX+tNeprn4n7+Lo/AADAHQQQBE3McUD8Dh9aIFqyLE8PGlPf7lBfMOngmPMlE0TicfOY/PL2mreNAFJnVB3f9gUAALiHAIKg8S+AJAgfpWXw9BPtDnXNYVX07+23YaUTRMry4tj8MPuT2VEDR27ZtsWXfQEAAO4hgCBo/AkgDsKHFoh+tPA6o0M974ku5S7jJIiU8vIYM2308tFRASS0IZTx/QAAAO4igCBoMh9AHIaP0tuwmkbchnXOPU0dLZfKMyIVPYT0eqZXVAD5tOjTjO4DAABwHwEEQZPVAUQLRAdF3IZl5Vv6ytwrkwohRhAJcAg5/fHTowLI6z+8nrHtAwAAbxBAEDS5lmXpmjVrkvoiuBVCnISR0NO36k7Dq9md6kPv3E23LhtCCCmj2b3NogLI4s8XZ2TbAADAOwQQBE2uZVlaVFSU9JfB7SsiiYLIXQ93NDrWkx45PekAEuQQUlJSojVG1IgKIA+//7Cn2wUAAN4jgCBoci3L0vXr16f0hXC9ox4njGx5drA2GxMeGb3e8Bpa9Ey/lEKIn0HEKz9v+DkqfFj5lo57c5xn2wQAAJlBAEHQZFcAiQgiZUPDc3MuNzrXPacemXIACVoIeeend2IGkDtevMOT7QEAgMwhgCBo0gogqpkNIefdE37OISff0ncX9EwrhPgVRNw2d9XcmAHk2qevdX1bAAAgswggCJq0A4iqRyEkxq1Y3y2+SWsMrWJ3sI+9a28tXpa3w4eQsW+MjRlAuszr4up2AABA5hFAEDSuBBDVzIWQvOltjU72I4+da097c353vXBSc536yJkVIoi45fol18cMICc/crJr2wAAAP4ggCBoXAsgqt6FkMiQsHHpQG08qq7dyd59ZG1dv+R2LV6WZ3y+MsXbszI9eKEbznzizJgB5PD7Dndl/QAAwD8EEARNrmVZWlhY6NqXJBNXQRY8caHR0b71geP0m8U3Gp9dNaVlhbktK13NpzS3j7v68Or2v/eesHfa6wYAAP4igCBoUhqIsDxeh5CSZXl6yoT97I52laGVdOzDHYwAcunkFu49G+JxEElHSUmJ1hpZyz7u1tNa2/+uNbJWWusGAAD+I4AgaDwJIKrehJDIcLBq0fVaOT/HCCGRAeT0iU3SDiCZvBqSqqK/i4zj7vVML+PnTVs3pbxuAADgPwIIgsazAKLqfQj53/3HxHz2wcq39IDRO7sWQDIVRFLxbuG7xnE/sPIB4+fCv9y7vQ4AAGQeAQRB42kAUXU5hJQJIH8uuU13G1k7ZgCpnJ+j/z472LsQkkYQmSydtbHU04vkcF0jQ9IKIfM/nW8c94qfVhg/f/LLJ+k0HwAA8BkBBEHjeQBRdTGExBic8OFHO8W9CvLVk31cDyDpXg35VgZqTalq7+NYOSutADLuzXHhN4KN213X/rXWqINXv3815XYDAAD+I4AgaFx/C1Y8XgWQ4mV5esxdDWMGkKWzL/MsgKQaQmbKJcY+HigNdK3kpRxAei/tba/r6OlH6+atm431L/psUapNBgAAsgABBEHj6jgg5Uk3fMQKIFogumJBD60U8UB6abl7xmmeBpBUQkhXOTJqP2fL5SkHkLNnnW2v56L5F6mqau2I29Kmvzc9hZYCAADZggCCoMloAFFNI4TECR+lZcnsS/WaKUcYHfve97X2PIAkE0TWSp7uLnWiAsgpcmDKAaTF1Bb2egY8P0BVVRtNaBS+xeuNsUmvEwAAZA8CCIIm4wFENcUQUk4AKS2XTg53yE+deEDGAoiTEFIgPeM+r7JceicdQEpKSrTOqHCgmbpiqqqqtry/ZVQoAQAAFRMBBEHjSwBRTSGEOAwgQ6a3tTvf+3vwKt50Qkg/aWfvW02pqtWkcnjkdmmVdAD5beNv5jMvXy1VVdX2M9vbn/V4qkeSLQMAALIJAQRB41sAUU0ihCR4/qNsefSx8+zOd6X8HN3iwat4Y5WJM07TPUfW0aumtNSSZXkxg8hhsmd4oERpphdLSyOQfC7JXa14b+17RgD5tOhTVVW9cN6F9med53ROoWUAAEC2IIAgaHwNIKoOQ4jD8KEFom/Pv8bolH/xZG/Pw8dTs8w3Wz035/KoKyIfXHGsMc94OUdfEHPU8jzpmFTdLfxsobH831v+VlU1RkNvN6Nd0m0CAACyBwEEQZNrWZYWFRX5+sVyM4D89kx/o1P+zOxLPQ0fa57qq7uMqGlsc+C0E6LmmzbzbGOej644TkMi2kb2tT/bW+rqtuJtjutt/Fvj7WV3vXNX+/M7XrzD/rzF1BZJtwcAAMgeBBAETUYGInTCrQCiBaI7D69hd8AnzDjVs/CxbdkQbTt+n6gHytuN3ydq3k73HGRPbz1uL/vKyMPXHmIsu+TLJY7r7MZnb7SXazWtlf35XW/eZX++1/i9km0KAACQRQggqAhGW5b1sWVZ6y3LKrQsa5ZlWXvHmTdrAohqnBCSxPMfpaX1uL3sDvgN97XyLIDkP9guKnxY+ZbWHFZF/4149uSfZwdqzWFV7OlDHzzJnrZ12RDda1B1e9rZs852XF+dZodHge8yr4v9+cPvP2x/XmNEjeQbAgAAZA0CCCqCkZZlHWFZVhXrvxP1CcuyPogzb1YFENUYISTJ8KEFopdNPtTugHecuL8n4eO1eVcZgx/Wi7jqYuVb+s6CHva8S2dfZkx7f+G1xrqGPniSPS0nP0d/+OMHR3V12H2H2cv1e66f/flTXzxlbG/jvxtTagsAAOA/AggqosMtyyq2LKtujGlZF0BUNe0AItPDVyb2HV3P9fDx2zP9de9RufY2qg6tpG/N7641hoavckyMGIX9+vta2Z83HLWTlizLM9b309N9tXJEmBn44sBy66ikpERzR4f34d537rWnLf9xuRFA1qzPrvYFAADOEUBQEQ2wLOu7ONOyO4CkcPuVFog+/nhn41W8m58d5Fr4KFmWZzzPEfmcyYnjG4dviZrU3J6/UURY6TX1qJjrPbNfg/AD5VJbt2zbkrCO1v2zznzY/stn7GmfFX1mTPsw9GGaLQIAAPxCAEFF08GyrA2WZXWMMz3rA0gqIeGdBT2MDvhnT97gWgCZ/MgZxrrPvPtA+4rG7dOOtz/fc2QdLVmWpx8uNF+1G+utXKGu7XRuj8OM+R6Q8DMdsXwQ+sCY/5NfPrGn/bzhZ2Pay9+9nGaLAAAAvxBAUJGcbVnWH5ZldUowT65lWbpu3Tq/v1uGdAPI70sGGB3wp2df4kr4+HBhL60+tLIRMoqe6WdPf2b2pcZ2v1t8kw5/8GTj4fR/nh0YM4AUSp7uJ7vY8x4v+yasoyc/f9LY1l+b/7Kn/bvtX2Pa/E/np9kiAADALwQQVBRdrf/CR4dy5su1LEt79+6tffv21b59+2pBQYHf37O0br8qLZFjc4x34VW8fy+9Qw8aUz/iYXFLX5p7RcLg89hjnfWYuxqG33B1d9OY4aM0cIl0NJZ/XXrHraOJb0+056s/tn7U9J1G7RS+mrLygdQbAwAAZFxBQYHdN+vduzcBBFmvj2VZ6yzLOt7BvL6PhB5LOlc/Sktkx/+6OM9dJFN6TD3CCAeDpp8Yc76Dx4af5eh8TzPNibytaubZ0eEjIoB8Kv21uoSvsPSQYzQkErOObl52sz3fkQ8cGTV9n4nh8UlGvT4qjdYAAAB+4goIKoISy7K2WJb11/ayYft/YwWSwAaQy+8NP1NxyoT9oqavXNBTe009Suc90aXcdS144kIjfLS5q5FuXTbEUVCJLD893Tdu+CgtXSS833Wlhn4rA2OGkPPmnGfPd/7c86OmH/nAkTFf0QsAACoWAgiCJjsDSJq3X2mBObZG41F1jWlblw3RfUbVdXSL1pqn+hojq+cOr67fL7457vwzHj03Zvg4ctyecW+9iizPSHdjuYnSyZ4WqeX9Le15bim4JaoOOzzawZ5+9eKr3WscAACQUQQQBE3WBpB0b5ma9fj5xvMamyJexfvxouuiAsKcxy+IWse2ZUP05An7GvPNevz8hNv96sk+MQNI3vS25V79CInoWsnT5rK7vVxL2cuYXqremHr2PJP+b1JUHV48/2J7+rmzz3W7iQAAQIYQQBA02fkWLBcCyIoyr+L9dFH4VbyxrlJUG1pZX5t3lbGOMQ+dYsxz+b2HlbvdkmV5uuuIWlHrf3dBz3LDR2kZI2cZyxZIT2P6n5v+NKY/9cVTUXV4/ZLr7eknPnyiZ20FAAC8RQBB0GTlOCDphg8tEP1jyW1GJ33xrIvtaX3uax3zKkW94TXsoPLugp5aZWgle9p+o+vp+iW3O9r2uWUGKtxjZB0t3j5WSHnhIySiX8vtWluq2ctfJkcY018S8wrORz9/FFWFg18abE9vPqW5d20FAAA8RQBB0AQ2gGiBaIOIKxHjHu5of37cXXvbn5e9WtF4VF396sk+euCY8JgclfNz9K353R1v986HOxjr7DH1CMfho7RcIUfZy9eUqvql3GZPe0QuMdb/56Y/o6pwwlsTwgHorj28aikAAOAxAgiCJtABJDJo9Nr+Kt5ty4ZozWFV7M/vnnGaXjf1KKNDHznYoJVv6dAHT0pqu2/ONx8kXzzrYke3XkWWF8UcQX2knGFPGy6n25/vPGbnmFU488OZ9jxVh1XVkpISL1oKAAB4jACCoAl0ALni3sPtTnj77a/iXbXoeqNjv3ze1bpt2RDtVOa2qdJy/Pj4r9yNV7YtG6JHjdtTrXxLW4zdzX4APpkAEhLRVhIOUE1lV10reRoS0WvlWPvzFhL76sYzXz5jHMeGLRu8aCkAAOAxAgiCJisDiBsPoWuB6LCIV/E2GpWrWiA687Hw+Bk5+ZZuWHqHaoHoxqUDjcELrfzyX7mbqGx+dpC+Pu8q/Xv7+u0AkkQImSTnGfvzpFylIRE9Q5rZn50uzWKOE/Lm6jeNZX/44wcvmgoAAHiMAIKgydoA4kYImf34BUYn/J9nB+rN9x9j/9xsTANj/qJn+mmTiGc/Zsd4NW+6JZkQ8r0M0p2lpr0/naWFvi69tU7EA+qlo6WXDSFf/PqFcezvr33f9XYCAADeI4AgaHIty9KioiK/v1sGN0ZC14L/RjuP7IR/suh6PWF8Y/vnrvceGrXM70sG6F0Pd9Tn5lzuevhIJYRcJ8eFn+WQSrqf7GIc0zzpFnOckKK/i4z5Xvj2BfcbCgAAeI4AgqDJzoEIRVy5CrJ+ye1GJ3zBExdq7WFV7Z8nJBgB3eviNIS8KbEHNrTyLe0urWMuo6q6tXirMe/cVXPdbygAAOA5AgiCJnsDiEshZLeRtcMd9iktjU75q/Ou9C2AJBNC2sr+UeGjjeyrq2Vw3GVUVeuOrmvPf9+797ndTAAAIAMIIAia7A4gLtyK1eauRnYnvN7wGkYn3unAgn6HkAflImO/95a6ukr6lxtc9r8nHFxGvDbCi6YCAAAeI4AgaCpEAEknhFwZ8SreyNJ0TH3fw4fTELJGhmgL2UOtfEvrSDV9QXo5en7kcNnLPt5bCm5xVPcvfPuC3vjsjTp31VzGDgEAIAsQQBA02R9A0gwhIx46OWYAuXRyC9+DR8wQUrZsr4NV0l/vlwv0fenr+DW+J8kB9vFe+eSVCet8ZeFK7fCoOYL7XW/elWILAgAAtxBAEDQVI4CkcSvW3Ce6xAwg4x7u6HvoSCuYxAgpZUtnaWEf7zmzzolZ11///rVePP/iuA+6z/5kduoNCQAA0kYAQdDkWpalhYWFfn+3DPECSCoh5P2F18bsWL889wrfw4UnASWizq6W1vbxtpZGZh1vCOkNS27QKsOqxA0fVr6l1YZX01e+fyX1xgQAAGkhgCBosnMgwni3FaUQQP5aenvMjvWfS27zNBhsXXaS74Hklhv3sY+3iTTQkIhu2rpJ817O09oRbwcrLTVH1NSBLw7UB1Y+YHxed3Rd/fjnj91oWgAAkCQCCIKmYgWQFEPI7mU6203G7OJ5+CgtfoSQ0jKsd/gZkPpSS0Mieqm0jAoelYdW1l7P9NLCv8JXwsa+MdaYp+H4hhraEEqjVQEAQCoIIAiaChlAkg0hkaOfW/mWXjTpkB0igDz2WOdwyBBL10qe1pdaRl10mddFv/zty6g2KCkp0T5LzUEQb33u1lSaEwAApIEAgqDJygCi6u5VkKvLDEA49uEOnnf+syGALJ19mXHcb17V2vj5kQ8eSdgG24q3acdHO9rzN7u3mcPWAwAAbiGAIGiyNoCoJn4WJJkQMuqh9kbH+8W53TISQPwMH1og+n/zrzFfq3t9U+PnFXJzuW0w+5PZxjI//PGDg5YDAABuIYAgaLLyLViR3LgKsnCWOZL470sG+B4OMlG+etK8heqCW3az/11HqulaydOQSML6/23jb5qTn2Mv98DKB5w0GwAAcAkBBEGTleOAlJVuANn87CA99M7/Ot833X+078EgU+W3Z/obAaTRqFz7361kb6M+Ezl6+tH2cufPPd9BiwEAALcQQBA0FSKAqKYfQoqX5enap2/xPRRksmxbNkRz4ozvcbkcGVWf8Qx5eYi9XO7oXP1327/OGg0AAKSNAIKgqTABRDVGCElxdPQdqew8vEbMADLihiYxQ10sb65+01h2+Y/LnTUYAABIGwEEQVOhAogqISTZ0mTMLjEDyMIeh8d9vqasrcVbte7ouvayg14alESLAQCAdBBAEDQVLoCoKgEkiXL0uIYxA8iqbm3+e5uYwxDSZV6X8PMj01ol0VoAACAdBBAETYUMIKqEEKfljLubRIWPPUbWUS2QpALIg+89aC+fk5+jRX8XJdNcAAAgRQQQBE2uZVlaVFQxO5PpjI6+o5Su9x4aFUA6Ttw/HEAchpA169cY63ji4yeSbi8AAJA8AgiCJqsHInSibAghiJjlpvuPjgogfe8/1p6eKICUDSGHTDnEXke3Rd2SbywAAJA0AgiCpsIHENXo27EIIuGS/2C7qADy8KOdzADiMITcUnCLvY4GdzbQTVs3pdpkAADAIQIIgiZ4ASROGNlRA8mkR06PCiDvLujpOHxEhpCXv3vZWM+UFVPSbjsAAJAYAQRBE+wAEiOMaIGEF8yCgOB1eeLx843QkJNv6calA5MKH6WlpKREj7j/CHtdjSc21i3btqTbfAAAIAECCIJmxwkg8Qbay4KQ4GVZNqerEUCajNklpfBRWhZ+ttBY30PvP5R6wwEAgHIRQBA0O1QAiSsLgoJXZcWCHkZgOL1f/ZTDR0hECyVPm09pbq/vgHsO0K3FW1NoNQAA4AQBBEGTa1mWrlu3zu/vVlrSCh+lsiAseFG+WXyj+QasGxunHD5KyxQxb+t6/KPHk2kuAACQBAIIgqbCDkQYKe3wUSoLAoPb5c8ltxlhYZp0STuA/CRDdH/ZxV7nwfcerMUlxc7rGQAAOEYAQdAEPoAkLQtCg9uly6T/bplqNKiGfisD0w4gIRGdKJ2MYDP/0/lJVXNJSYkW/lWY1DIAAOyICCAImkAHkJRlQWhws5Qsy9Pnuh+p319+oivhIySiq2WwNpS6dgA5/L7DtaSkxFH1rv5ztf02reMfOl5X/7k6mdYBAGCHQgBB0AQ2gKQtC4KDmyWdB8/jlTFypnEV5Okvni63Wr9d963ue/e+xnIN7mygL377YrItBADADoEAgqAJZABxTRYEB9fChwcB5HsZpHvITnaQOOHhExJW5xe/fqENxzeMGhjRyre00tBKOnr5aMdXUQAA2FEQQBA0gXsLluuyIEBk49WP0iJyqhEkvl33bcxq/Pjnj3W3cbsZ8zae2DgqiHSe01nXb67YgRgAADcRQBA0gRoHxDNZECKyNYCskv5aRSrZAWKAnBxVfe+tfU93GbuLETQumHuBbtm2Re99516tMqyKMa3p5Ka66pdVbrQcAAAVHgEEQROYAOK5LAgS2RhAQiLaUZqGByaU+rpW8uxpz0h3zZXqRsA4Xw7VNTLEnudp6a57jd/LmKfWyFo66+NZrtyS5XlABQDAQwQQBE0gAkgmhLq28z1IpBVAPAwh98kFRngokJ4aEtGFcqXWkqrGtMvkCP0pInyUlo/kVm07o23ULVkdH+2oH//8certVn+tvukAACAASURBVGY7AABUNAQQBA0BxKHSTrzfYSIbQ8i3MlBrSzU7NPSUY3SWdNUaYt5adY0crYURV0fKltUyWG997taYD6hf+/S1+vOGn5NrszjbAQCgIiGAIGgIIA6FRIIRQjy6CnKRHG4HhlyprtWkshEieksb49asRGXeqnna4M4GUUFkp1E76ejlo3XT1k3O2itBAQCgoiCAIGgIIA7ZndcKHEK8vAoyRy6P+XpdK9/S/nKS4/BRWv7c9Kf2f76/VhteLWp9zac01782/1V+WxFCAAABQABB0ORalqVFRUV+f7eyntF5JYRElZ9kiO4mdaLCwhDpkPI6Vf8buLDLvC5R6539yezy24kQAgAIAAIIgiYQAxFmQlTnlRASVXrJsUZIGClnpL3OUst/XK71x9a31z34pcHltxEhBAAQAAQQBA0BxKGYnVdCiFE+kwF6lOyte8hOOknOc229pc6edbYxYGG57UMIAQAEAAEEQUMAcShu55UQElWSfd7DaUAY8PwAO4AcNPmg8tuGEAIACAACCIKGAOJQws4rISQjZeaHM+0AUnloZd28dbMnQQcAgGxCAEHQEEAcKrfzSghJvpRu12F5d0FP4xmTV+R6T/YLAIBsQgBB0BBAHEqmQ+13oMj6EBIRKpLZxw1L7zACyAPSxbN9BAAgWxBAEDS5lmVpYWGh39+trJds59rvQJGVISTF4BFZ9hlV1w4gt4q3gQkAgGxAAEHQMBChQ5nuaAcyhLhQH2fc3cQOIGdLcwKIi3bU4waAbEcAQdAQQBxK9//4uxVK3FxXRQshoa7t9Lqb97YDSFPZlfDhkh352AEg2xFAEDQEEIfc7IA7CSUJH8h2+apCNoeQssc9UTrZAaSKVNLVMpjwkaYd/fgBINsRQBA0BBCHvPo/7XFDSZLLBi2ExKuLpXKN8SD6a3JD2vsSGWJ2NAQwAMh+BBAEDQHEIU8DiMed+YoUQsoLYV/J7UYAmS4XprUP4+RsrS3V9BhprJu3bs7U6ZQV4tUJACC7EEAQNLwFyyHfQ4bfIcTD/U72ys9ekmsHkP5yUsrbXit5Wl9q2eua/cnsTJ5SvkpULwCA7EIAQdAwDohDvgcMhx35ChtCkpi/nRxgh4bzpEW5878hffQmOUHnSTfj8y/lNuNqytg3xmbylPJNefUFAMguBBAEDQHEId8DRtBDSBKlpxxjh4aDZbeE8xZKnjaVXdXKt7SqVNIVcrM97VW5wQgg/Z/vn8lTyhdO6hcAkF0IIAgaAohDfne6kwkhXgWQbAkh4+RsOzRUk8q6RobEnfd96WuEjMnS2Z72/DfPG9O6L+6ewTMq85zWLwAguxBAEDQEEIf87nQnE0CCHkKelu5GcHhD+jied6CcYneyH37/YWNap9mdMnQ2ZV4y9QsAyC4EEAQNAcQh34MFIcQun8sAIzg8LBfHnXeKnG/Me7W0ttt0+GvDjWltHmqTiVMp45KtXwBAdiGAIGgIIA75HipSCCFeBhC/Q8juUscODrdL+7jz3SHt417luO6Z64xpTSc3zcCZlFmp1C0AILsQQBA0uZZlaVFRkd/frazne6DIwhDi6Rgh5ZQTZT87OJwvh8adr5scZYSMIx840m7Ts2edbUyrP7Z+Jk6ljEm1bgEA2YUAgqBhIEIPZUMACeqtWNfI0XZwaCF7xJ3vZGlihIzdxu1mt88R9x9hTMvJz9FtxdsycWp4Lp26BQBkFwIIgoYA4rFsCCFBCx8hER0jZ9nBoYZU0Z/ivAnrQGlghAwr37JHPN/1zl2jpv268deMnRvJ+OGPH3TCWxP0w9CH5c6bbt0CALILAQRBQwDJgCCGED9vvwqJ6JNylREc3pYbo+ZZK3laU6pGhYz/k5t089bNUZ9b+ZZ+8esXmT05HNiybYs2mfTflZzaI2vrzxt+jjuvG3ULAMguBBAEDQEkA7IhgLgdQvx+Fe+n0t8IDjPlkqh5VpWZp7Qskqv0+z++jzntjR/fSLp9v/n9G1329TL9599/0j1VYnrqi6eMfZz18ay48xJAACB4CCAIGgJIhmRDCAnK1Y/S0kBq253yQdvH94gsy6RnzJAxRc7XxXJ1zGmLP1+cVLt+8esXWnloZbXyLW0yqYm++v2rrpwvkS6af5Gxj7e/cHvM+dyqVwBAdiGAIGgIIBnkd4fdrRCSDeEjJKJtZF+7U36hHB41fbpcGDNkDJJT9H65IOa0h95/KKk2Hb18dNQ6rl9yva7f7M6rrddvXq81RtQw1n/mE2dGzedmvQIAsgsBBEGTa1mWrlu3zu/v1g7D7wCSbgjJlvAREtGrpJXdKT9M9oyaLnJqzJDRXVrHnTb2jbFJtWefpX1irqfRhEa67OtlaZ8vj3zwSMx1R3K7XgEA2YUAgqBhIEIfZEMISSWIZMutV6VllJxhd8prSlUtlDxjeuSreiPL6dJMr5VjY07r/3z/pNqy85zOMddTWq548gr9/Z/fUz5XOj7aMeZ61/2zzrNzCQCQXQggCBoCiE/87rynEkKyKXyERHSBXGF0ylfIzcb00+SgmJ33w2RP7SSHxL46srh7Uu14zPRj7GXPnX2utp/ZPmqdu4/bXRd8uiD5c2RDSCsNrRRzP1//4XXP6hUAkF0IIAgaAoiP/O7AJxNEsu3qR0hEP5F+Rqf8cbnMmN5C9rCnVZPK9r93ldraWhrF7Nh3mt0pqTbce8Le9rKjl4/WkpISnbZymu40aqeodXeZ1yXhK3TLmvj2RGP5asOr2f8eJWcQQABgB0EAQdAQQHzmdyc+MoQkCiLZFj5C8t84HztLTbtTnicdjel1JfzwdtnAsbvUiRlAWkujRM1lKC4ptt+AZeVbOvPDmfa0NevX6FlPnBW1/l3G7qKPffSYlpSUlLv+VtPCz7i0m9FOW09rbf/cTY4igADADoIAgqAhgGQBvzvyZYNIRbj6UVqOkcZ2p/wSaWl//pXcbnT8b5A2cZ/TaCT17H8fIPUdd8JDG0LGel789kVjeklJiT7+0eO6y9hdorZ55hNn6uo/V8dd95e/fWnMP23lNO2+uLv9c6vbco3gmLAQQACgQiOAIGh4C1aW8LsjnyiEZGv4CIloNznK7pQfKQ3tz1+W64wO/CNySdwAEvmsyM5S0/G2n5NrjfW8JjfEnO9juVXPkeZR260j1XSsnKVryzw8H+raTm+9cR97vqpDK+m6JQP07hmnhZcdVk2Ll+U5v3UuiTbMxHkOAHCOAIKgYRyQCs7LIFIRroAMl9ONDn1pZ/5RudTo7H8i/bSS5MQMILdIW/vfOWLpTzLE0bZnlgk1X8ntCed/SC7SXSMGTywtI+R0Y761kqf7SfiqyWn96muoazt9ea750P13i2/y7AUCXp+rAADnCCAIGgJIAHgWQEpl8VWQudLN6JSvlP9pSMxX9JYGkz0k+sFwK9/SB8UcaXyV9He07bESfsajzqg6jtriMxmgF8nhxvYaSl3jKsiz0sO8/Uq6aEhEV3UzbyNbPOtiT1+f7OU5CgBwjgCCoCGABITbHfuo9WdpAPlQbjE65bOkq4ZEjGc+msluGhLRI6RhzNugni9zK9Vy6e1o230jrpw0ndw0qbYYJ2fHvX0rcvySOlJNv5OB9rTIh+cH9NnX+RvMXDoP3Do3AQDOEUAQNASQgPA6gHixDTfKWskz3naVL6dqSMQY56ODHKghET1LDo4KIE2kga6U/xmfPSVXO9r2ZXKEvczJj5ycVF19I3doVakUtd9rZIg2iLhN6+KIB+tDItpODrCnnSPNy32DmRu3z3lxbgIAnCOAIGgIIAHiZfhwextulshX7F4mR2hIzKsdV0krDYloDzkmKoCcKPvptzLQ+GyGXOxou6c/Hn7+pOvCrknX1Qmyn718OzlAQyI6S7oa+zJXuhnLXC/HGeHJWGeMMOLWlSu3z0kAgHMEEFQEF1uW9bplWestyyq2LKtSgnkJIAGTiY6m34GjbIm8EtFaGmlIxHjYe7B00JCI5knHqABykRyuIRGtIVXszyZIJ0f1dOjUQ8O3Qz0/IOm6GiId7OWrS2X9VgZqFznM/mx3qRP1QPw9cp49vZLkGLdnxQoibt465+a5CABwjgCCiqCj9V8IudpyGECKior8/m7BRZnoYPodOiJLvpxqd8pzpbp+V+aKxgPbH+K+Ty6ICiA3yQkaEtG9JDcqsJRXT/XH1reXufvtu5Orq67t9KWrjzL2ZbpcqLUlPNr5tXJs1HIvSC9jmQLpmdG6duv8AAA4RwBBRdLOchhAGIgweLz+v9upbMOrUva2pYVypfHzUrlGQyL6lFwdFUDGyJkaEtEWsof92Q3Sptx62rR1k7Ge+Z/OT66uurbTtV3bGg+VN44YEDFeuPhBBmnliNcJ3y3nZry+3TgvAADOEUBQkRBAdnBeho9kt+FlKfsQee8yo55/JLdqSERXyM1RAeQRuURDItpW9rc/u7TMg9+x6um7dd8Z63lz9ZvJ1dX226MukZZR+2Tl/zcie9QAhdtLU9k14VUSP0NIJs45ANjREEBQkRBAkJGOoN8BZK3kaZ2IW5cOlt2MZysKt3fkV8tgzREr5lWG86SF/dlpclC59bT8x+XGen7444fk6ml7AHmgV/Sbuax8S/vLSXGPN3Jf28r+7tVlmiOmuxFgAADRCCCoSBwHkN69e2vfvn21b9++WlBQ4Pf3DC7LRCfQ7xByZIwxPqx8S/eXXYz5Im95svIt/Xj71ZHu0jrqQfZE9TR31VxjPVu2bXFeTxFvqfqsW5uYI7S/JTfGPdbbpb09XwOp7V7wSOGh9VTbHwCQWEFBgd036927NwEEFQZXQGDLRAfQzwAS71amslcIWspe9rSqUsm+OnKrtDNufyqvnia8NcGef9c7d02uosqM09FK9jb2+UhpmPBYH5VLY4aodIKHm+OGEEAAwF1cAUFFUMmyrOqWZZ1q/RdAam3/OSfGvASQHUgmOn9+BZBYr9i18sPjgpSWM6SZPa2h1LU/Hyln2J/vLDXLrad+z/Wz5295f8vkKyqiw99fTjL2eYScnvBYyz7LUnaskGTCh9sjpxNAAMB9BBBUBFdallVi/Rc+iiP+3TbGvLmWZWlhYaHf3y0EgF/hIySij8tljp6liHxA/QTZz/488hW9OWLptuJtCY/10gXhqxBnPnFmavW1PQREvlq3ulQu94rGWsnTnaS6vYxsH0U91RDCFRAAyG4EEAQNAxHCFel2RNPt0MZ6w5WVb+kkOc+Y7135nx4g9bWB1NZ5EVcO5sjlxnK/bvw14fG2mxG+Zavn0z3TrrORcoaeKPvpg3KRo+M9Whrb2784zlu7Ug0jXocPAggAJIcAgqAhgCBtbnVC0+nQFkqe1pKqUQFkkVwVNe9aydM1ZUYYf16uNZb75JdPEh5zk0lNwlcgXok+Fi/rLSSiV0ore/uHyp7uhQMCCABkHQIIgoYAgrS43QFNp1N7eMQD5qVlhdzsaNkv5DatPLSyvdxdb94Vdx9LSkq05oia9rzTVk7LaN2FRHSMnGVvv4ZUiQpU2V4AAM4RQBA0BBCkzKvOZ6rrvVAON8JHZclx3DFXVT1l5in2ssc9eFzc/ftj0x/GdpZ8uSSj9ReS6FHdX5feGhLRL+U2/akChBEAgHMEEAQNAQQp8brjmcq6B8kpRqc88i1XTvZp6oqpxvI/rf8p5r6t+mWVMd8HoQ8yWoelQSNyH6ZJF50i52t1qaz1pZa+nWAckWwoAADnCCAIGt6ChaRlqtOZ7PpnyiVGp/wYaZzUPoU2hDQnPzwo4OR3Jsfcr+e/ed7Yzi9//5JCLaYXQEIiurfUtffhf3KiHiZ72j9fKIf7HjIIIADgDgIIgoZxQJCUTHc4k9nG23KjEQwukMOS3qcTHj7BXv6kR06KOc+MD2aEBzMcVlWLS4o9P7ZY5VRpau/HaXKQ1pda9s+1pKp+I3f4HjQIIACQPgIIgoYAAsf86mw63c5PMkRrSBXjqkCy+zTx7Yn28pWGVtKiv4ui5hn5+kh7nsYTG3t+XPHKzXKivR97Sa7miPkA/t1yru9BgwACAOkjgCBoCCBwxO+OptPtnSPN7Q74U3J10vv1458/ms9WxHjD1Q1LbnD0sLpbxxSv3B8xeGKs0kb29T1oEEAAIH0EEAQNAQTlypZOppNtfir9daicpk9I15T3q/W01uFbmx47LWr6eXPOs6d3mdfF0+NJVF6TGxIGkGReQ0wAAYDsRQBB0BBAkFC2dTAz0fEds3yM3YGvMqyKrvtnnTE9MqDc9OxNvh3LGhmi1aVywgDSX07yJkREjpyewuCFAADnCCAIGgIIEgpSAHHq69+/NjrxMz+caUxvOL6hPW3sG2N9OZbS0kL2SBhA9pWdda3kOVrX5zJA86SjPiBdEi+zPXRogdgl2RACAEGRid9rBBAETa5lWVpUFP2gLVAqW0JIJsJHqcPuO8zuxHea3cn+fFvxNmPE9Mc+esy3YwpJ9OCLscriBM/CRJZLpWX4uOTShAEkMnykEkAIIQCCIFO/1wggCBoGIoQjfoeQTIYPVdWhrw61O+PVh1fXvzb/paqqa/9aa3TuX/7uZV+PTaRjVOBoLrtrPalh/3yZHOFoXY2lnr1MNzkqbvhwK4AQQgBUZJn8vUYAQdAQQOCYnyEk09suO9r5nE/mqKrqu4XvGp9/8esXvh1bSETnyOVRAaSjNNWrpJX9805SXb+TgeWuq45Us5c5Ot4gjjHChx1ACCEAdhCZ/r1GAEHQEECQFD9CiB/bLCkp0YMmHxQeWXzehaqquvjzxUZnv/TKSLpSPcaP5NaoAHKZHKHLpIfx2VQ5P+F6fpBBxvz1pEb0cyBxwke6V0EIIQAqEj9+rxFAEDQEECQtk51MPzu0A18caHfIa4+srf/8+49OXTE1fGVh1E6ubKdUKse5VvKMEdBLB2BcK3l6oDSwPztJDki4ng/klqgg85HcaoSP8gLI6q4n6jLpmfII7ACQ7WL+/ir7VsCI/xnjFgIIgoYAgpRkIhj4/X/T31v7nvkw9+eLddBL4SsFze5t5tq2SqVyvCfIfsZ+jpIzNCSig+QU+7NKkqPvS9+463hJrosKIPPlCuMPbKLwUbIsT0/tV1+tfEv3lJ30K7mdEAIgUBKFj7i3pXZt58q2CSAIGgIIUuZlQPA7fKj+dxvWvnfvG34we1E3vXrx1fbP7We2d3V7pZI95p5yjBEcpsuFGhLR96WvVpIc+/NBckrcdcyXK6ICyAg5PeEf2MiyeNbFxrKTpXNWtCEAuCGZ8BGzpIkAgqDJtSxL161bV/7ZD8TgRSczmzqutz4Xfsai7ui6evIjJxuBxCvJHPcE6RT3tbvt5AD78wOlQdzxPR6QLlEB5IrSN2GV8we2eFmethi7m7FsTzkm5XYkhADIJmmHDxdCCAEEQcNAhEibm53MbOuwvrX6LaNjXWloJfvft79wu2fbVXVeFy9KL2MfV8r/7GlT5Xxj2jLpEXMdo+XMqAByjDR29Ef2icfPj1r2WNknrQBCCAGQDVwLH2mGEAIIgoYAgrS51cnMxo5qcUmx7jV+r5gD/E36v0meblvVeZ1cJkdodamsPcpcefhOBupOUt3e56uldczl+8tJUce3s9TUtV3bJvxj+u+zg7XJmF2ilq0j1bTQ4QjshBAA2chp+Ni67CSjeBFCCCAIGgIIXJFuJzObO6h9lvaJGUAWfrYwI9t3WhdrZEjccBL5et0fZFDUPNfI0TGP8Zdn+iX8Qzpt5tkxl7PyLV0uvdMOIIQQAH5INnxsKh5ml7KBJGY4SRIBBEFDAIFr3OhsZmPH9JXvX4nZwX57zdsZ24d06mmxXG3sd+lD6pGlsxwa8xhfnntF3PCx6dlBuveoXHvesldCppQz9kg2tjUApBM+EpXIILKpeFhS+0QAQdAQQOCqoIUPVdVtxdt01zt3jeqcr/5zdUb3I9W6Wit5uq/sbO/3qdI0ap7Ih9WNV/re0CTu/c4TZ5xmBptezfWAgTXtn3vJsRkPpQQWID6+H854ET5ilWQQQBA0vAULrgpq57Ln0z2NznZOfo7+u+3fjO9HqnUW+YxHZcnRT6W/Mf1Q2TNmALlSWhl/gEvLhqV36K4jwgMgHnZ7HV3bta2eJy3sz45z4UH0inSOANmO74gzmQgfBBDs6BgHBK4Kasey4OsCo2O++7jdfduXVOrtTTGfYzEGGRTRhlI3ZgCJGSK6ttPb+uxrzPdEz0M1JKJ50tH1B9Er0nkCZDO+J85kInwQQLCjI4DAVUHtVG7ZtkXrjalnd66PuP8IX/cn2borlDytLpXt/b9LzjGm15Sq9rT9Jfwsxy5SK2pdn8kAzY14s9Yx0tgeX2RBmQEN35A+BBAgS/BdcSZe+CgNIGWDxOfFVxmFAAKUjwACVwW5Qxk5CnrXhV393p2k67CJNLD3/0Y5wf78OxlohIbIt2ZZ+ZZ+Iv2M9fSR443pT8pV9rQv5TZj2lQXH0SvaOcLkG34vjhTGkCSCR8v6Yv6kr6YVBBJBgEEQUMAgauC3Jn8ecPP2n5mez3uweP0s6LP/N4dVU2uvk+RA+1gcK4cYn/+nvQ1xzeR88zXDcuV9rwfya3G1ZKTpUnUdvaLuIJynRxHAAGyBN8ZZ1INH5HFSRBJBgEEQUMAgavoSGae07qMHOujpexlf/5CmZHUX726ldaQKvbPo+XMmOuw8i0tkJ5R2zlXDrGnHy/7EkCALMH3xqE0w4fTMJIMAgiChgACV9GJ9IeT+hwq4dfm7iw17c/n9jjMCBWrurUx3op11fY3Ya2Qm7VaxHMkZ8nBMbczWDrY8+RKdfv5EAII4C++Ow65GD4SBZFkEEAQNLmWZWlRUZEn32HseOhA+qe8On1ELjGCxpdym4ZE9L5eB0e8XtjSn7q21S4SDiVttl/FuFRa2p9Vkhx9VW6IuZ150s3YzltyY9Q8y6Sn9pHj9QnpSgABMoTvj0MehI9YYSQZBBAEDQMRwlV0Hv2VqF5fkeuNYPC8XKuhru105A1N7M/qj6ipoa7tdKCcEv5Mauly6a2VJcf+7CI5PO52PpcBxnbulwvsae9eeYyef8tuRpB5WroTQLBD2LJti6/b5/vjUJLhQ/4tsEsyISQZBBAEDQEErqLj6L94dfut3GGOXC4XaqhrO5Xp7ezPDhpTX0Nd2+nMMldL2sr+9r+rSiV9R25K2I77RIy8foO00a/ldr1ZTtQaeZWixhppLY1cv00LyCZ/bPpDj3zgSK05oqZOWznNt/3gO+RMKuFj2MZNSQeRZBBAEDQEELiKTmN2iFfHu0kdu+M/pPf+GuraTnvf1zr80Pj4RqoFom9fdXRUUCj7TEiico40t+dvJPV0V6kdd31WvqWPyCUEEARW/iv59rled3Rd3Vq81Zf94HvkTCrhI7I4DSLJIIAgaAggcFVQOozZuE/JilXPraWR3RG64n97qhaIXjK5hf1Zp3sOUi0Q/alrW+NNWKWlhlTRD+SWctsz8hausiUn39KLb9lddxtczf6sqeyqa2QIAQSBa/OSkhI94J4DjO/Am6vf9GVf3Az5Qf4fBumEj2SCSDIIIAgaAghQRrb+UUxF2T/0F0Q8XN62/86qBaIdJoZvr+o+paVqgWioazttIXtEhYcbpI2jDsUcuTxm+GgzoK6+v/C/Z0/GylnGtAnSqcJ0UOCdIHVkVVXfWv1W1Pcg/5V8X/bF76BREdou1tWPVMJH2SBCAAFMBBAgQjb+QUxH2T/yt0hbuxO078AaqgWiLe8MB40BD7SxA0hkWLHyLa0j1fRT6e+oM/Gl3KZ1JHyFY3/ZRR+RS3Rt17Ya6tpOQyK6WgbrAVLfnmdP2Um/k4FZ2zFBZgSlI1vq+iXXRwWQ4x863pd98TtkZHvbOQkfpQHEafiIvBJCAAHCci3L0sLCQo++zkDFkW1/DN1Q9pjukXPtTlAVydE1Xdvq3qNy7c/ufLiDHUDukPZGp6mftEuqMzFHLtfOcqiOkTP1Rxkcc57pcqGxjcHSIXBtgOQEoSNbavPWzbrzmJ2jAkjloZX1z01/Znx//A4Y2dx26T73kcpVkGQQQBA0DEQIaOw/zEFQ9pgWy9VGR+idK4/WGkPDz3o8/GgnO4BEzruL1NKv5HbXOxtrJU+PkIbhB3Slhn4uAwJT/0heRe7ElrXos0Vxn4Va/PnijO+P3+EiW9uvbPhI9upH+5X/lXjh49bQV9rksdbabFYbnb9hPgEEsAggQNb8EfRC2WP6QG4xOkEzrz3E+Pnp2ZfYASQkoiPkdD1PWugy6elZZ2OhXGnsQ29p43e1wUcVtRMbS+c5ne3zer+799PGExuHz/OlvTO+P34Hi2xsv3jhI97Vj1gBozSAxAsh+z98st3uXQq6EEAAiwCCHVw2/AH0UtljKpQ84+1WN9/U2Oj8vzW/uxFAMlXaS3gwxOrDq+vqP1f7XXXwSUXsxMby+z+/a9VhVe3zOu/lPO3xVI/wm98mN834PvkdKrKt/WKFj2QfPC8NHjJfY4aQ67972/gdu/f0gwkggEUAwQ7M7z9+mRDruA6UBuE3YUUMMGjlW/rVk318CSAvSi/NkfB+dF/c3e+qg08qWic2nvvevc/8bv32lc5dNdf47Ic/fsjoPvkdKLKq/RKMdp7srVcyX+1SNoAcNtcc1LXaqFr6QsnzBBDs8Agg2CFlc8fFTbGOq4McaDxzEfnH8fclA3wJICER7baom70flYZW0lW/rPK7+uCDCtWJTaDNQ23s8/nYB49VVdXfNv6mOfk59ufT35ue0X3yO0xkTfttDx9lA0iyD56XDR9lQ8itoa+00tDKUc//3FT0CAEEOzzegoUdTjZ3WtwW67iukdijnFfKz9HiZXm+BBBV1e//+F6rDQ+/urfT7E7+Vh58kY2d2L+3/K3vrX1P/932r6P5v/79a+O7NWXFFHtaq2mt7M8vr9OiTwAAIABJREFUmn9RWvuVLL+DRNKlazsNdW2nWiDuVUKc8JHOrVexAkj7lZu0zZKbY/6uvWSVqPxbkNRuE0AQNIwDgh2Kr//XzQexjmuYnBbzj+KuI2r994c+wwEkUt+CvsY+Lf9xuS/1Bv9k6lxzasOWDdpoQiO18i09d/a5WlJSUu4y8orY53DVYVX1t42/2dPuePGO8Nvlxu6i24q3pbRfqfA9UKQaPkqLGxLceuX0wfNE4aO0tH37Z608YqeYv2vbv0gAAQgg2GFkorOSbWId10y5JOYfxYPHNsh4ACnr142/au7o8LgkbR5q46jDh+DI9DlXnnmr5hnfk2e+fCbh/CUlJXrAPQfY8587+1xj+ivfv2Ks793Cd5Pep1T5HipSDR5uhRAXr34kCh8yX7XjfXcZ7Zw7Pvy68RazL9BhGzcltesEEAQNAQQ7hEx0VLJRrON6VaJHZrbyLT1xfGMzgHgcQuIZ8doI38dLgH+87twm24kd/tpw43w8/L7DtbikOO78b65+05h/wacLjOmbt27WWiNr2dNHvT4qhVpKje/hIt3wkU4I2b5sJq5+DJ73r+aO2Ntu430ePF7bLLnJ/rnBpIMIINjhEUBQ4WTqj2EQxDqub2VgzAByRr8GZvjwMIAk8veWv3WPu/aw96v5lOa6tXir5/WE7JCpDq7T87uLHBb1XZm3al7c/b/umevs+eqNqaebt26OmufMJ84M344zs72HtWnyPWCkGzzSLMle/Yg35kfZwNGu9wZt13uD/XPn6Y8b58tlH83Xzu9Mt3/OGVpJh6z/I6m2I4AgaAggqHB21DCRinj1sbvUiepUde27Z0aufDhpk/vfvd/Yt4fef8jzOkJ2yFRn1+l5fqQ0jPquNLu3WcxnNzZv3aw7j9nZnq/XM71iHuPI10fa8zSa0MjrKrX5HjQStInX4SPe1Q+3A0jevBLdY8wRdvvWH9VUT353o1733VvGOXTdd28l1XYEEAQNAQQVDuHDuXh10loaRXWq+sjxGe94xPPvtn+16eSm9r41HN9Q//n3H0/rB9kh1XMo6RDiYL61khf1qurSMvPDmVH7vuizRcY8b/z4RsxjnPnhTHueKsOqJLyly02+B414bRGgAHLFjJeMc+CsB+7X9is36ZD1f2jO0Er2553fmZ5U2xFAEDS5lmVpUVFRer/VgAwifDgXr15i3VYi0tGXDkg8Cz5dYOzf2DfGelo3yA7pnDtun5ufSD/jHKwi4Q7kfnfvF/Va3vPmnGdP3/+e/eO+QOHFb1801hvaEPKiKqP4HjZ8DB/lPQPiVgBpctcZdrvWGt5AB879xx4XpMGkg8Iv2FhyU1JtRwBB0DAQISocwodz8ermVmkXFUDukXN964jEUlJSokdPD49ZUm9MPf39n989qxdkh3S/326el0/J1cZ3pF+Z780DKx+wt/vbxt+06rCq9rS8l/Pi7uPnv35urGdl4Uo3qzAu3wOHz+HD6wBy/WOrjHZtNyXfGJiwxewL7GkHzDglqbYjgCBoCCCocAgfzsWrn3vkvKgA8phc6muHJJZXv3/V2Mf+z/f3rE6QHdz4frt1Tk6UTsbVjx9kkB4ku9qf7T1hb9209b+3GU1dMdU4V7/67au4+/fX5r+MeZ/64im3qi8j9VJRw4fXAeSkKUPD58vQGtpvdpERQNq/GB4fps6duyfVdgQQBA0BBBUO4cO5eHVU9v/sWvmWLpVrfO+YxBL5xqDqw6vr6j9Xu14fnDfZw63vtxvnYx85Pvx/rKW+hkT0QbnI+N7c/fbdqqp63IPH2Z8d++Cx5e7fTqPCg9RNXTE11epKit/fb7/Dh9cB5OhJ4Vft7j32OGNk9GEbN+llH803zp1f/v7FcdsRQBA0BBBUOHQinYtXTx/KLVEB5G250f/OSYw2/OjnjzQnP8fez6sWX+VqXXDuZBc32yjdc/FMOdg+706VphqS/x5MP1T2tD9vILX1o58/Mr5LU1ZMKXffmt3bzJ5/0EuDUqip5Pn93fY7fHgdQI64u0f4GaBxHaICSN9C89a7F7990XHbEUAQNAQQVDh0IJ2LV1drJU9rSBXjj+GXcpv/HZQ4bdltUTdjXy+cd6GuWe/891bpep+Sq/VGOUFfkus4f7KU29/vdM7DZrKbfc5dJ8fZnz8ulxnn495S1/531WFV9beNv5W7X6fMPCXtUJ2sHT18eB1ADp0YPi8OGt8pKoDk/71Rq0dc+Zr49kTHbUcAQdAQQFDhED6cS9QhaBpxL3sVqaRrJc/34BGvTb//43utNrya0emrPbK23vnGnVFvIopXB8ukh/0WowZSW7+S2zmHspAX3+9Uzr9CydPqUtk+3+6Us+1payUv5qusrXxLz5tznqN9uuLJK8JXVx47Ne1jdGJHDx9eB5Bm48PP1rWYcElUABm2cZM2mnaMPU/3xd0dtx0BBEGTa1mWrlu3LvXfaECGET6cS9Qp6CjhcTZ2ldq+B47yOp6LPlukdUfXjerwNZ/SXF/9/tWEx/+TDNHDZS9jufFyDudRFvLq+53subdCbjbOl4VypTF9gVwRM4As/Gyho/25/YXb7WUOmXKIa8eZSKrBIa0BSrMofHgdQA4Yd6rdpi3v7h4zgLR6MnybVqtprRy3HQEEQcNAhKhw6DQ6l6hj0EPC/yeumezme9hwEkJ++fsXvfLJK2N2/Lou7GqMpxC5jjFyVtT8R0tjzqUs5GWbJHPezZbLjfPlA7klap4TZT9jnnpSQ3+QQY72ZfI7k8PLjann+rHGkk5wSCmIZFn48DqANL7zBLtNW0/qEzOAnLV8oj1PzRE1dVvxNkdtRwBB0BBAUOHQYXQuUefgeblWc+S/P4QD5RTfg4bTEKKq+voPr+uhUw+NChW5o3N1xgczjGU/kX5aL85o1m9FPHiP7OB1ezg950ZKxIByUjXmLYrPSHfjfOomRzne/7Kjpm/8d6Nnx5zssZeGh3ideEdhJAvDh9cBZM8xR9rt2WZy/5gBpPuXL5jP3v32paO2I4AgaAggqHDoLDpXXifjXfmfLpMeWff8h5OyWgZrvpyqtaVaVLBYITfb810iLY1plST8Rq3/yYkZCSCEHOeyJYBcI+FBMFvIHnHnu0AOUyvf0hpSRV+VGxIG50jv/PSOcV4mGjck08fuNDwkDCFZGD68DiANRoXfbNZuitjTI5e/4/e1Rrsv+HSBo7YjgCBoCCAADH4Hi2TLB3KLnictjD/qD8lFGpLo8U7OkGZ6VsSrVfeSXC2MCF9eWC2DdZycrSKn6t9b/vZkG0FRtm29Xn+icpIcYJ8n58ohCYPwfLnCCL1O9v+n9T8Z5+Yr37/i+vGmVQdxAoTj50J2oCsgpSGk7sjGdnt2uG9s1NWP0lJ3/N72fHkv5zlqNwIIgoYAAiCK36EilVJfaoX/qEtHXSNDtLnsHr7fWqrqu/I/fVQuNTp+86SbZ53ekIiOk7PtbfVZ2sfV9QdJvHb1ev3xyj6ys91uQ14ektI6EtlavFUrDa1kb+Pxjx537VjL4zSAuPEMiN+Bo2z48CqAyHzVWsMbhP9nx/2T4waQAx893Z6v85zOjtqMAIKg4S1YAGLyO1AkW46UhvYf9SullQ6T04ygUfqcy2oZrLtKbfvzC+QwTzq9peuKHCPCyrd0a/FWV9YfJOl05N1Yf6yyk1S32+z+d+9PaV3l2Wt8+M1sY98Ym/ZxJiOZEBLkN2AlCiCxQkiiAFJ1aPh/gnSa9lDcAHLisn72fAfcc4Cj9iKAIGgYBwRATH4HCqMT42C+zhJ+KL2F7KF1Ip4NaSIN9EcZbM97nRxnT6shVaLGBEm30xu5nrLPp7z2w2vuNFBAuNGRd2MbkefbT13bGm0255M5Ka2vPK2ntba3cdOzN6V9nMnI5PfX7+CRSgCJdxUkXgDJm1dinDMXPDg7bgDp8u4Me76c/BzdsGVDue1FAEHQEEAAxOV7+CgNIA5CyP/kxJhvurLyLZ0vVxjzvizXGdPLjgmSTse37DrKvoGr33P93G2kCiyZ8yAT2yg919YtGWC0WcHXBSmttzznzQkPXHfB3AtSPsZU7WghxK0AEiuEDJz7j3HOXPLQU3EDSO8f3jXm/b81/1duWxFAEDQEEAAJZUX4cBBAJkqnmOGjs7SIOf9hsqc9T9kxQVLt+JZd9hu5I2p/mt3bzJuGqmBSOR8820bEeaYFot+u+9Zos3d+eiel9ZfnhiU32Ns49sFjkz4+N2TyexyEABLvKkj/2b8Z50y3GS/EDSB5f63XysOq2vNOf296ue1EAEHQEEAAlMvPAKIF4iiALJKrojr7daSafhhjALmQmOM8WPnmmCCpdHxjLVf2Sktp+fr3rz1tr2yXzjnh+jbKdo5V9b217xntlWishnT2deTrI+1tNJ7Y2PGxuS2T3+VsCx9uBZC+s9YY50z3mW/GDSDDNm7S3e8Nv7nvxmdvLLeNCCAIGgIIAEf8DCBOQsh70jeqoz9UTos7/6fSX6tK+C1EkWOCJNuZjLfMI3JJzAAy4a0JmWiyrOTGeeHKNspc9SgNH6qqL333ktFev/z9S0rbK88jHzxib6PKsCpaXFJc7jJeycR32c8Q4nUA6fP4l8Y50+vRDxIGkMPmhn83nPTISeW2DwEEQUMAAeBYNgeQQsnT6lLZ/qPeXHbXNTIk4TKJxgRx2qFMNH/ZN3GVllMfOzWTzea5vzb/pX9s+qPc+dw8N9LaRqzOcISFny002mvLti0pHVt5XvjWHBX75w0/l7uMlzL5fa4oAcTpg+i9Hv3AaMs+j3+ZMIB0fHm4Pe8uY3fRkpKShG1DAEHQ5FqWpUVFRa79AgMQbL4GkHJCyPnb34RVQ6roM9K93PWXNyaIk05lonl7yDExA0iNETX0n3//yXTTeWL5j8u19sjaWnNEzZgPa5fy4vxIaRvlhA9V1Qffe9Buq1ojazmui2QDyGdFnxnnxXtr33O8La8ENYSkEkCSeRNW95lvGm3Zd9aahAHk8k8WG/MX/lWYsF0IIAgaBiIEkLRMhY+ynZXyAshqGawz5RJ9XXo72oaTMUESdXzLm+80Oche936yi9HheO6b53xqPXf1eKqHfUznzDon5jxenidJb6Oc8KGqetebd4WvjI3fK6n6SCaArN+83jgnnv7i6aS25ZVMf68zET68DiDdZphXswbM/j1hALn156+N+Zd9vSxhmxBAEDQEEAApyUQAKduRSHlAtATFyZggqZaDZbfwPeFyrO4+Ljwy+63P3epvA7rk4vkX28fUYmqLqOmenyfpdH7jGPzS4PCtfFOaJ10nTgOIqmqdUXXsbd337n1Jb8srmf5u+3X1I9UAUjaEXPLQU0agGDR3U8IAMvTvf3TnMTvb89/5xp0J24MAgqAhgABImS8BxOUQ4nRMkGTLWsnT2hGDIY6SM7Tbom4JO+vZLtZxnhnxHM1OUj1q+tft3G2vTASQPkv72MfU5qE2KdeVEwdNDl8lG/zSYNfXnw6v2yFTQcTtABLrKsgFD86O+D2So3nzShIGkGEbN2nbGeEBLy9fdHnCtiCAIGgIIADS4nkAUfX8KsihDscESaZ8Kv2NYPO4XKaPffRYUvd9Z5tYxxl5m5mVb+mXcpsx3a3tZDKEXL7ocvt4znrirFSry5H2M9vb27p68dWOlkmnbjMh5baowAGk07SH7HasOqy2/XmiABIZdA+/7/CEdUoAQdAQQACkzbMAEsnDADJCTjc60YnGBHFalklPY52vyQ3684afjc9mfDDDh9ZKXazjPEUONI7pFbnelQ5yJkKIEXIjnPXEWfbxdF3YNa3jKE/kVTEnb0dLN9xlSjaFkPICiBuv4j3j/snhFxcM39VRAHlg5QMRoaWq/rvt37j1SQBB0BBAALjC7U5iTB7dhrUqyTFBnJRp0sXomH8nA1VVteX9Le3PLl1waeYayAWxjrOt7B91pcetzrGnISSy81vG8Q8dbx9P76W9XTmWeG574TZ7W4dMOSThvJH7/rr01olvT9THPnrM1/FD4km2HSp6AOlw31i7HeuObOwogLy95m3ju/Pq96/GrU8CCIIm17IsLSysWLcBAMhOnoaPUh5dBTnTwZgghZKnM+RivV8uKHfMkMHSwV7fblLHPq4Bzw+wP29wZ4Os7DzGE+s4j5d9jU7UWHH3liXPQ0iMc+6QKYeEHyZ+aZCrx1PWpP+bZG9r5zE7J6yHFXKzDpJTtIXsYdT59Peme7qPqUo6CFbgANJuioS/16OaOQogG7Zs0GrDw8+J7T5ud/3m929i1iUBBEHDQIQAXOVp+CjdhgcBZGaZUcvnyxVR84yXc+zpt0jbhOu7Qo6y520le9vHVnaU7ZWFK71rDJfFOs6jpbFxPANfHJiR7XoZQhqOb2gfz11v/j975x0mNdX24SywdJZeRDoKAgoogiBlARUQlWqDBaUJKkiTXvZZFgQE6U1AmiBFBKSviqIidrELiqgIy+jyil1U2H3eP2ROcmYyM8lMkpnJ/u7rOtf3kpwkJycZv+fek3OeJyy/Hy2+SQ9988Nk/pbJ6dSeG1ElqZ629Hm+j61tjAQzEhKLAmJ0Kd4bF6lzvi6beZ0hAWFmnnBggvQsayyowZ7fPX79CAEBbgMCAgCwHDvlI9JrBAp+vqdJXJIKiUBgDLXxq3ezZr5DMSrAJ2h8wHO2ppqible6Rtzf3xf+5kLT1OtMf3269Q/AJvTu0zcw7r29t2PXtktCCj9WWNzPUx88Zcv9eHn71NtS/x3/6Tif/fMsP/nek9x6bWtOIH3p0JbuW7rb2sZIibaEOCEgjRcOFs+jyqwWhgUkOyebU7alSM+z4ZMN+Zfzv0h9CAEBbgMCAgCwBTvlI9xrBAp6vCMqLai6GtTpJCWsRMWlQGEW3R7wvDWptKg37NKcEi+3brhV7Etek2xJfzuB3n3W16wgZvf9OCEgJ2mSdD/Pff6cbffDzHzq11PS9a598lrOOyVvQNnISwnchq7gBlTR1OT1aON2AWk4v694HjVntzMsIMzM/1z8h9uvby8959ZrW/P5C2odCAhwGxAQAIBt2CkfZq9hRED60PUiAGhAFaV6x2mcXzBYl8rzmQBzRfKTGkR6c4t4mf/WfLEvMT2Rf/v7t8g62iH0+q8elZf6pMaCGo63wcryKY2S7ufAiQO23s+F7AucZ0qegMKhpCmcQArfSNX4cbqNP6PR7CHi/tRE7G/6VFNb22gV0ZIQJwSk3lw1IedVc7qElA+tgDAz//7P79xkZRPpuXfb0o0vZl9kZggIcB8QEACArdgpH0avYUhAUpJ5qmY53iKUX5KLvdRfNzjcRf38znmERujOJ/HyRdYX8jmO7bKkH+xGV0A0E7a9QmX3xHo7BeQwDZHu54MzH9h6L8zynBNtaUSVOJ3a84c00q+dw6mlqBdq9axYwujvMd4EpPacTuJ5XDOvp2kBYWY+++dZKTGlkqbwwF0DOScnBwICXAdWwQIA2I7dAhLqGkb+2upJSeZN1Ev6f/7awG8uddINErtdmt+hLc9TX6nOOzRUutecnByuPLey2D9k7xDL+sFO9J5drUW1/PpEbxKt3W2xquyjAdK9nDh3wvZ7GX9gvLje1VSBJ9JN4p0JVLSrrFWZV8X2NlqJmd+lFfLhhIDUmK0+j2vnDwhLQJiZT/5y0k9IJ78yGQICXAfygAAAHMFO+Qh2DTMC8h4N1x258BDxQGqqKyD5KS9/SqOk8y6kLtI3+6dost/99t+pjqjUWlQr5L196PmQx740lnd/udvyfjOK3rOrsaCGX5+8c/odx9tjVfGV0C9ojO33kZOTwx+c+cBUAsyZ1FG0MdjyvbFKqN+lVRJiRD68AmJmKV5fAan8+I3ieTRZODRsAWFm/uzHz7jkzJLSezjr5VkQEOAqICAAAMewUz70rmEmyPGkJHMmpXJByif+n/4M6ijqaxPu+U68nkA3SeceTa3FvspUQveet3y2RTrHtz9/q3s//1z8hye9PElMTE5IS+Avsr6wrf+CoXcf2pEcIW6fb3W8TVaV5T4JJE/ryGMs3Mci6iramC89H+fk5NjeRqtxYhTEqICYzQXiKyAVZqoJRpsvHheRgDAzH/7+sLRanjJOgYCAuGGKoiiZiqL8rijKq4qi1NOpAwEBADhKLAuIh0hK8tafmoj6FaiY2D6aWktCUomKi0DVQ8T3kCYYoWq64vXTXz9xQlqCqLf8/eV+9/LxDx9zg2UN/AL8pe8udbxfA3HZE5f5tW/um3MdbYOVAjKLbhf3UYwKxJY0a8oaukfqc9/8IfFAvAuIVkJKT1c/RWy9JD1iAWFm3vPlHnVFNAgIiBNGK4pyUlGUuoqiFFAUZbqiKKcVRSnsUw8CAgBwFDsDOtOBnGYCuldAutDVIpBIpprsIeKjNEYK9lbR3X4B4NPUQ5y3GVUV23tQQ7/retGuetNtSzex/UL2BZ722jROTE/U/exrRMaIoPftJGVnlfVr3/D9wx1tg5UCMpFuEvdxORW3vW/DbedzdJ/U5z/+8aPlbbMTp+TDKgEJNQqSNE3Nh3PLsidCyocRAWFmXvfROggIiCu+URRliObfeRVF+VFRlBSfehAQAICj2BXQhR10auTDQ8SPUrJfAOo7qfwNGsKnaDJXpCSxrS1dIc5xuSZfyGhqrXtdZubJr0wW9YrPKM4Xsi/wF1lfcOMVjXXFw1tu33h7yPt2ihIzS/i1z+nEeFYKyBBqLu6jLpW3tW8jaed+ekDq869/+tqydtmNkd+j06MfkU5ELzS1lHgWHZcvDSkg9G+G4f6afXg2BATEBUmKouQoinKDz/YXFEV5QqcuBAQA4Bh2BHNWBqDLqLsU2J2gCTyTbhP/LkB5xedWY6mN2J5ACr9Fj/D3NInzkPpp1SLqGjCIPXTykHStB3Y9wAWmFpC25ZmShyccmMAjM0aKbbUX1TZ0305QdHpRPwFpvKKxI9f2YuXzv48aiftoSlVt69tI23mIBkt9/hINirwjHcAp+XBKQLwSkm9KQfEs6uxYGVI+zAgIM/OwHcMgICDmqaT8JyC1fbZvVhRlhc+2JEVROCsry5L/sAAAQCisDuasDD49RPwSDfIL7PqSOiJxNVUQdT+mRzmR1CRyD1EzfosekY7fSX0DXuvfi/9ysenF/AJ4b7lq8VViRalVR1aJ7YnpiWJlrWhLiK8wKWkKV3iigu3X1WLl89d+gteeatvSt1a080MaKfX5DurjyPOOhJD3FUX5CEdAvBKS+my29Cyu3rUhpIC8zAdM9R2W4QXxgOkRkAEDBvCIESN4xIgRnJFhzsoBAMAMVgZzVsuHh4hP0HgpmHiSuvONVE39vIjqBwxYS1Ihfpp6SMfrJZGTjt/cxS+AT0hL4JEZI6WJxa9/97pUJ1SeCKckREyS9Sl/X/jb1utqsfL5t6ErxD3cTQ0s71ur2nmcxkn9vV4zBykWcVI+IhEQMxPRvQIyfssf0rNI+WR7SPkwIiAZGRkiNhs8eDAEBMQFenNAspQAc0CQCR0A4BRWBXN2yIe3aOdwPErJXJLU5TAn+iy5u4P6SMFHE6oifa6Vqcmmrle0n3cpaQrXXFCTX//udf/7/d0j1dtEvUzdkx3k5OQEHL1xck6Clc/+OlKTwA2gGyztWyvbmUmpnEBqfy+j7rY/73AxIh/RSD5o1WdYLQ5/L737fY7qy4r30yujAqIFIyAgXhilKMp3yn9L7xZSFGWGoiinlACrYEFAAABOYUUwZ6d8eIg4mWqKYKIFVZeCC+1qVx4iPkOpfBWV0w3Ca1LpkNf6hiZwM6rKRR4rwo/se4T/+OcP3XvOycnhIpRfnHs63Wr6vqzm34v/BhSQg98etPx6gbDy2dek0pJ8WtW3drynRTXvw2y63fbnHQ5Oy0e4ox+RfIbV7PVj0rv/wPHXQo5+QECAm0lTFMWjKMofSog8IBAQAIBTRBrM2S0fHiLuT+ryuNoJ5Uqawu/SML/62qzU2tJGszJWqHKaJoe8b22OEqN/nbczKP3r378CCsi6j9ZZeq1gWPnsy1IRcQ9TqL0lfWvXe6rNTUPUzvbnbZZoyEc0BOSGgx9K7/7D374bcvQDAgJyOxAQAICjRBLMOSEfHiKeEUAoilB+3U+qjtM4aXTCW+6n6y0RBO++O6iuOPdNdGXY92cVv/79a0ABmfbaNMuuEworn30BUue0LKDOEfetne+pdrRmVJDRGic599c5nnloJi+gznxG7/NDTd4dq8UjUvkIV0CuP3BYeveHnf4s5OgHBATkdiAgAABHCTeYszOQ8y1bfZK8ecu1dHnAY/rQ9X71J9PNEQuCdvtQamHq8y4zgXI4/PTXTwEFZOCugZZcwwhWPfdvaIJ0D2voHkufn9WlAVUUbX2Qmtn+vI3wwC41P4k0L8Vm8XBKQPQkpN+XL0nvzagfT4Qc/YCAgNxOkqIofO7cuUj/mwMAAIYIJ5izM4jTK0dohG5QrZfV3FtepYf86q+kuyISBN9t86mzOHc+ymN4KV67gtIf//hRut+Kc9SA+NYNt0Z8fqNY9dw/8lnadhvdb+nzs7po5yel0HW2P28jXLFQXUWsC13tmHh45cNOAQk0CtL7s13SezP+J0/I0Q8ICMjtIBEhAMBRzAZZx5OTbQ/kfMsZStX9pCrQd/be0oyqSvUz6AFL27XTJyP7W/RIxOeMhNO/npba02K1OkJTb0k9a14YA1jVv6/Rw9L9HKBBYZ/Life2PdWWg32Hfye+5QylciFKFG2qPqGQI+Jh1ehHuJ9h9fhoi/TepP72a0j5gICA3A4EBAAQ00QrmNJ+3uItoZa+XU53SiMUx2ispW36lEZJ7XmGUiI+ZyR89/N38pyXHfeL/11sejFrXgADWNW/u6mfdD/v0XBL+smue+hO9UVbb45gTpBV5Usa6/eb+XnPWNcJiK+E3PneGnG/eaYPY/CUAAAgAElEQVTk5Sl//BX00ysICAAQEABAHBCNYKobXeMXTIVKKniaJvOdVJ+TqACPp7aWt+kMpUpLr06jDhGfMxKO/3Rc6p8pr06R/v3L+V+seQEMYEX/bqCeUvu/onER95Gd93C/Zt5RU6qqW+clGsTtqBYPoqZ8OsJP9kIV3xEkJU3hl7fcF1cCEuoTLL1RkM5vLRX3W2B6MUOjH0ez+5h6NyAgwG1AQAAAcYGT8uEh4jHURgqkilNB/VV9AoiCXe26hi4TbepPTSI+XyQcPXtU6qP1H6+X/v3JD59Y8/ANEmlfLKFu6l+yKYEzKdXR9pu9h8F0o2jv1VRBt84NmsSYi6mrrb+ZZwfU9xOQWatvdqWAaCWk4+tPiPstOqt8yNEPb8Z1M0BAgNuAgAAA4gan5MNDxCvpLimQakJVHL1+oNKZ6ok2tTWRZ8S3nKRJ/ADdwN22dOMvsr4I63l88sMnUh+9cfIN6d97v9pr8RsQmkj6Vrv8cgkq6Hjbzd7DWI0kV6OSfvvPUCoX1szJ6EeNbX03Fz54lZ+A3L2wnusExHcU5OZX0sX9lpxXLeSnV0ez+/D57HRT7wQEBLgNrIIFAIgrnAr0X6EHpUCqNzWKunx4iHg4tVQn+VKpsM/zBN0hztN5U+ewnsWRM0fkT5b+9xUXeUxN5LfsvWUWP31jhNsn46itaHuNBTWi0nYz9zCVOoj2lqEifvt952QkU0373s2UZH589c1+AlJzRklXCohWQpJfGC/ut9ziuobkAwICcjvIAwIAiDucCPS/pYlSFnQr5ltYURZQF9GmvJTA39OksM7Ti64T56m9qHZYz+Hd0+9Kwea3P3/LdRbXEf+ecGCCxU/eOOH0ycOaT5quW35d1Npu9B7mUSfR3oKUz2//qz5zMipTCdvkw5OSzMOevMFPQJQ0hc/tGeNaAaF/M/jGPcPEvVZcXiuofEBAAPgPCAgAIC5xItj3TkQvSvn5E3o06vLhIeJdPis1HaYhYZ2nDan5GqrNrxbWMzj8vZwB+tSvp7jd+nbi372297L4qZvDbJ/0pGvVz9vWtY1q270Ea6/vZ4K+eWE2Uy9pfwIp/C1NtEVAOIP4roV1dQXkpS29A0qDlcv0Oi0gXglp/PxAca9VV19jSD4gICC3AwEBAMQtdgf7p2gyb6P7+VMaFXXx8BbfpXg3UM+wzlObyopzXPbEZWH1/2vfvSa15Yfff+ABOweIf7da08riJ24eM31y57PqMsrdtnSLdtMFgdq7kVKk/vdd9lmbuNJbXqWHLZcPr0Q0n1NZV0BmrropoHxYmaTQiiSE4QhIg23qp2dNNjQJ+ekVBAQACAgAIM6JthA4Xc5QKidRARHwTA3j0zDfRIulHi8VVt8fOHFACjT/9+f/pKV4q8+vbvHTDg8jfcLMfPPTaiDZf2f/6DbaB702+46GafOWeEiepO4tq+keywXEKwDVZ5TQFZA7F9YNLB8+54i2gJiRD2+pu1mdl9VyS0tD8gEBAbkdCAgAIO6JthQ4XbRJEsNZ2eiYz+TkIo8VCavfM45nSOf55fwvvOZDNSlbYnoiZ+dkW/y0zWNEPpiZr1+h5tV49IVHo9fgAPi2+yA95DO68ZC0X5snxFsm0c2WyodXHnL2p3KBKXnVydiaxQiqzyihLyA654lHAbnhGXXuyy3bbw756RUEBAAICADAJURbCpwsXehqEfC0DmNlI98VvvKl5wurz/d8uUc6z5///uk3KnLmtzMWP+nwCCUfzMw1F9RUR5ZemxqdhoZA2/Z3aZjU13uov7S/PdX2E5CedK2lAuIN/n/aM0a6Tr8lDeXRsd2j9eVD51zxJiAN16r3evvu2w3Jx4X9rU09dwgIcBtJiqJwVlaWFf9dBACAqBJtMXCqjKBW6qRXnfwPocp66uEXmF7Mvmi6v3cc3SGd45+L//BX//tK2vb2qbdteNLhEUw+mJlLP15atHvRO4ucb6BBvO3/guSgfzP1ku5PO1LmLTdYlc/GZ9Ti0+3yaMyOjfdI/35xcy//T68slpBoCUidlWr+k+4Z3UN+enVhf+v/2mwCCAhwG0hECABwFdGWAyfKQs1SvHkogU+aXIp3Jt3mF5j++e+fpvt66+dbpXNk52TzX//+JW3b+vlWG55y+HiI+Hhyst/2nJwczqv5hGjDxxucb5wJPET8PU2S+vopult6zuWpqN9zLkdFLRMQbfD/wmZ5xa0fd4/iklMLin9PX9U28OhHnAtI9aXVxX2mvNwzpHxAQACAgAAAQNSFwmzZQ/2lYO+NS0vxGmX8gfF+gem5v8wnpN34yUZVhKbkEdvLzlJX2Jrz5hzT57UTbx/68vs/v8ufM325x/nGGUT7LhQgVZoWUGex/RRNlvLYaMtXNM5yAVm7Xl1xK3FKHs7en8q3zKuhjgwsrBN8BMSCeSDREpCKCzRzsl7ra2z0AwICcjkQEAAA4PiSkM9ptBRQrqcepu611/ZefkGp53eP6T57+qOnxfH5p+YX2xstbyS2D9s/zO+4nJwcPnTyEH9z7hvT14wEbR/68v0v38tSd/INR9tmFN93oTQVFm3WJsv8gEboyoeSpnAGPWDNu6gRhumr1CzyVaYXZ84gHreiufqp4KVtuhIS55PQS89RP9176M0HA879kEY/ICAglwMBAQCAS0RbLIyWM5TKxUn9vGX+W/NN3WerNa38gtLvfv7OdH+tPrJaHK9dSavLZvUTMb18Gt4RmMT0RD5y5ojp64aDbx/68skPn0j98dmPnznSLjPovQtVqaRo8zhqK7bv9Rkl05al1M1yARmyrLE4f9MnKjFnED/3jJwo8azvRPQYXIY3HAkpOlP91G34e8ONjX5AQEAuBwICAAAaoi0XRsuVVEYEPamvpJq6x+rzq/sFpV/+70vTfbX8/eXi+OIziovtQ/cNFduvX3G933GXz7lc/WTl+X6mr2sWvf7z5fXvXpf6I/O3TNvbZYZA70E9Ki/aPISai+1P0d3S/ZQhdVnc0dTaMgHxykO3hXVU6bz0udW3z8urdGVsTvGThnjPhP4yH+DEqYmqBH40FgICgAEgIAAA4EO05cJIuZbUIH5kxkjD95adk82J6Yl+AvLJD5+Y7qcl7y5RA9xZZcT2Jw4/IbaXn11eOsZ3knqFJyrYmiskUP/5suvYLqld4UzKt4tg70ETqiLa3FeTE2YadVDlkApyK1LnY3Sja6x7Fy8JRNMnKqkitKwxc8Z/uUFKTyukfiK2qo1lshErAvJi9gvSe0Ofpwb8/MqvzSaAgAC3kaQoCmdmxtZfegAAINpEWzBClbbr1G/uH9j1gOH7OvPbGd3Pct7LfM90H81/a74kEl62fLZFOvffF/4W+z778TNLrm2EYP3ny7qP1on2JKYnck5Oji1tMkvI94CuEO2+ixqI7UNInX9Rm8pyH01SwoZU0XIBqTK9uDi/d8UrziBuN0/NrdJ1wVWuE5Ddf8viuvzLm42NfkBAQC4HiQgBACAA0ZaMYMFz503qqkM9njM+Cf3tU2/rCsihk4dM9492pKPy3Mpi+1un3pLO/fVPX4t9O4/t9Lt22sE009cOhZE+1LLg7QWiPWVnlbW8PeFg5F3oTPVEuzvQVWL7nVRfbE+mmpxO7cW/k6gAn6FUywQkM6UVJ07JI86/5unOIsiesKKF+o5MT4oLATEjIVt/l5eiXvdNh9CTzyEgAEBAAAAgGNGWjUCBc8q2FBH03L7xdsP345u7w1sOnDhgum9mHpopjq8+v7rYfvrX09K5X/nmFbFvzptz/K6tN08kEsz0o5cpr04R7am1qJal7QkHo+9DT7pWtLslVRfbW5A6z+deasgbqKfU55/SKMveyU/vayad+4VLSQc5g3jbRnkuyo+7R8W0gJgdBdlwbr10f8+eut3Q6IcnJdnU+wABAW4DAgIAACGItnToBc0P7n5QBD2t17Y2fC96AqCkKbz3q72m+2Xqa1PF8VcuvFJsv5h9kfOl5xP71n64Vux7eM/Dutc/89sZ09fXI5y+ZGYekaEuW9tkZRNL2hIuZt6JgdRUtPtaulxsr0nq0rDDqSW/SY9I/b2T+lr2Xr7ct5F07k+3PyQC7ZM7h0v79m3qaauAOP0Z1qofn5Lub5enc8jRDzF53wQQEOA2ICAAAGCAWJIPZuZRL4wSQU+j5Y0M38fw/cN1BWD7F9tN9wkdJHF83SV1pX3V5lcT+6a+NlVsb7++ve71Vx1ZZfr6vkTSn32f7yva0m59u4jbEglm7mMkqUsqX0llxPYilF9sn0m38SmazPlI/UxqHnWy7N18hlKkZ/nTnjEi2M7Zn8plp6m5SqY+5a6J6EtOL5bu/ej/Rhga/dB7B4MBAQFuAwICAAAGiRX5YJY/Gaq9qLbhe+i2pZuuAGz6dJPp/phwYII4vv6y+tK+lqtbin3aSfJXLLxC9/pdN3c1fX0tkfapNnfJ3VvvjqgtkWD2PlLpFtHuipTEHiL+isbJ8xLoXvaQPCqiXbI30jKXOonzFpiSl3P2p0oBd4d56jPvvKB2XAiI0bkgc7+VRxS/+3VMUAHR5j8xAwQEuA2sggUAACaIBflglj+lqjinouH2N17RWFcAtJ9JGWXMi2MCjsJo56h02NCBmZkvZF+QPs3S5iMpOr2otFqWGazo19ZrW4u2DNw1MKx2REo49zGLbhftTqIC7CHi10j+zM2b+bwd1RLbOlIdy97RMdRGfaYzSvhJwaSVqoxWioOJ6GYmpE//arrU11l/TTQ0+gEBAbkd5AEBAACTRFs+mJlXvL9CDTxnJBlue/nZ5XUFZPn7y03ft3b+wXWa+QcekpeBrUVl2UPEb9NQ6Zpp1E7692bqFbW+bfhkQ9GOsS+NNdyfVhHufSwldUQrDyXwGUrlLdRb6teP6VH2EPGDpE4Wr0PlLOvL+zVL/DafU9kv6N6x8R6pPT/sejQuBMR3NERPRujzVOnefr9AEBAADAABAQCAMIimfDAzb/xkoxp4TsljKG/F3xf+1pUPJU3hhW8vNH2//amJOL4xVZb2zaSOYl8Rys9nKJU3Uy/pmh/SSC6rydDdn5o4JiC+faydszLj0IyQfWkH4dzD09RD6tMTNJ4XkLpEcz7Kw5mXltx9nG4T2wtSPrE90tKeaovz3rWwrl/QfWrnCKmNe22eiG6lgISSkXEfjRX3lX9qXsPzPyAgILcDAQEAgDCJlnwwM+/+crcU1BnJ3P31T18HFJDZh2ebvk/tX75vpGpBA+NjNFaSkkKUyGcole8ldeShKpU0nZ8i0mfhpfgMNZHesveWGXoGdmC2/dvofr/RjnGkJqn0zgvxEPFzdJ9U9z0absn72nBcMXHOoU828Qu6c/ancrnHVNGc8pROTgwLBcROCfGVkbR31VGlEjMLQkAAMAgEBAAAIiAa8sHMfPDbg/JnLb//EPKYV755RTqm8GOa1Yk0K1UZvT9tDopWVEPa9zI9KF3rZXpQ9xOgp0jOE/E6DQ67r8Lt8+ycbE5ISxBtCGdCvpWYafsLNFDqv8M0hPuSOs+nEVUSdY+QPBKxhXpH/s6mJPNlEzUrbq26SVcMOs6/UtS5Y0GtuJkHEqo8friDuK/L5hSDgABgEAgIAABESDQE5P3M96VgUpttPBDrPlqnfpqTno/rLK4j/j3p5Umm7+sezehFW7pC2neMxkrtW089uANdJf7tzdp9nMZxomZ5WKJbIuqncPrct60ZxzMMPwe7MNp23/weL9BAqZ9v00w2P0OpXIgSVVmgjhG/r5kprTivRt6eXt9FVwomr1SXC674WDHbBcQpCUl79SZxXzUXlgoqHxAQAFQgIAAAYAFOygcz87Gzx+T5FJ4PQx6jTRxYdV5Vvm75deLfo18cbfp+utE14vh2VEvad4ZSfXJRdOQ6VE78+0FqJuq2ohoBP+UKp5/M9vu7NEzqy7dPvW3qWdiFkbZ/Qo9Kbd9G93NDqij+7Tuv5mqqIPY9QDdE9s6mJPMnPlnQD2zprRt479x4r1TvzK6RrhgFGXtAFatrlpaHgABgkCRFUTgrKyvc/z4CAAC4hFPywcyc+VumFNAdOnko5DEDd6mf67RY3YKbPaUGj0P3DTV9H52pnjj+1ksjGtpSi8qK/UOouc9f328T9aaQmpwwLyXwMRobcT+Z6fsXfT5jOnb2mOnnYReh2n6CJkhtX0f3cgVS52RMopul+ndQXbHvJroyIvnwpCTzkW1y332x42HdwPv0Lvnzr+c33uMKAXlkv/obaryyEgQEAIMgESEAAFiIE/LBzPzr379KAd2+r/aFPKbDBvV79Z7benKbtWr+hkG7B5lu/22kfsLVier57W9NNcX+llRdaq92yd1DNFjat536WNJPRu/Dd3K2kfk0ThKs7WcolfOQ+gnUQuoi/XsRdZXqDyM1J0d1KhWRgHAG8Z5N8mIDv+wZqxt45+xP5UrTk0S9EU82dcVnWAN2qQsxJK+tDgEBwCAQEAAAsBi75YOZ+WL2RSnwe/azZ0MeU2+JOmIx9qWxkpD0eV4/6A9WtMuvdqVr/PankPqJV0HKJ7X3bRoq6p2kSdK+J6m7Zf1k5D5W+UyE/44mhn09uwjW/iQqINo+klpJ9/Ic3SfVXUBqxve8lMDf06Sw5YMziFesUxMhFk5P9MuCri33LW4g6jaYVd5WAXFqFKTnNvWebn2mFgQEAINAQAAAwAbslA8v2lWsVh1ZFbJ+senqpzlL3l3CnTd11gjE1aYD0ZtIXdnobmrgt1+bIVtb8lEePkWTpbqlSL2XKdTe0n4KdR/zqJMkSlZd12oCtb8iqSML2k+slDSF36AhUt091D/ofiPyoRWQtKeSxbmumFkqqBCsXd9ZuvbZ3aPjfhSky2a1v7ttqQcBAcAgEBAAALAJO+WDWc5qvuDtBUHr/nL+Fyn42/3lbr57q/qX/46a1ZKMFu3k8Z50rd9+bUI8bdH79KcuqffyMN1ouQQEuw/SZGQvT0Utf05WEaj92rk22on+Stp/iQm1dT+n0dL+p6lH2PLBGcQDl6qjXC3nVAkqBCd3DpeuvfWZu+J+FKT9BlXCe21vCAEBwCAQEAAAsBG75IOZueYCdY7FtNemBa37yQ+fSMHfR56PuPf23uLf4UxIbk7VxPH3USO//b5zK7ylNdX0q6udL9Kd6tsS/Ae6jxGaz5aupDK2PS8r0Gv/dXS5aH8Byiv+dxIV0BWIklRI1CFqZ0pAfAPq2+fXEue6Z1G9kEJQc0ZJVTSXXR/3AtJyjfobGLi7MQQEAINAQAAAwGbsCmYbLFO/Px/30rigdfd+tVeSgHN/nZMSCbak6qYF5AaqIo7vR4399vvmqPCWvjp1tTlFWlJ1S/tJi9599Kcm4tqNqbKt0mgFvm3TjkRpSy0q6ycfnpRkbjRW/RTvvuGXhT36wRnEjWZfJs5lZGL5A5oRk6tmlrFdQOyWkEYrVPkblnEjBAQAgyQpisLnzp0z+Z8/AAAARvEQ8fHkZMvP22J1CxH8DN4bPIP4TLpN1C1MiXyGUqWM2U2oimkBaUSVxPF6OSW+pYm6gXGazl/dh1ILKXC2E99r30n1Q44ExRratt2qSTyoLVJ2eo08aCeDtxhTQgqKzYx+cAbxZY8VFeeavfqWkDKwaUN3qY2ZNucDsVtA6i5RP3kb/3KykA8ICADBQSJCAACwETuDWO0qVvfvuD9oAKkN8L2fGQ2ipmJbQ6poWkAaaBLeaedtaEtZKuIXGK+le/3qPUa3iv3FqaCjQf8dG+8Q1+65radj1w0X3767mxroCsg91FBXIKatUhcHqDQ9ybCA+ErIhf2TOY8mC/ozG7qFlAHPLjlx4oYNXeNaQKrNVz8pS3/95tCjH5f62iwQEOA2ICAAAGATdv8V/a5n7xLBT7ct3YIGkN01f+VPvjQHQysldam8aQGpp5k4/gi1CCkp3vIqPexXbyXdJdX5hiY4JiHakaSH9zzsyDXDRa+P+2lGsrRlqPeZ+MjDlmfulOr5TlQ3KiGZu0ZK5zm45X5DQlD3cXXSfP8l18a1gJSfrY4APfFWR0OjH+EAAQFuAwICAAA24MRnPH2f7yuCn3brg08mbkZV1b/yX1qxajS1FttqUmnTAlJbs/rSSGqlW6ejJlmhr1xoy27qJ9V5R5MnxG6uXnq1uO7Elyfafr1wCfQcHtGIpLbMoI5+ox+cQfzhtkFSvQM0yPhz15zrvecekM7z5Y4hhoRgyDJVmKrPKBHXAlJsupqDZen7nUOOfoQLBAS4DQgIAABYTKDgzWqG7hsqgp9mTzULGjhWoRKi7mhqzR4inkg3iW2VqYRpAalJpf3O6VsG0A1SkHoZFdOt9y4Nk+rtpL629p2WSnPVuSyzD8+29VrhEuw5jKe2ugKyhu7RFZDf946X6q2ku8w9+0vn27nxXuk8v+0dZ0gItm+UEz9+8/zQuBSQvy5O4bxT8oj7eHp9naACEgkQEOA2ICAAAGAhwQI3q5lwYIIIfq5Z6p+J3FsyKZUTSQ2U5lNn9hDxFGovtvnmvzBSqpL6/ft4aqtbR5tjQ0lTuClV1a3nO2FdLyi2i6LT1c9oVn6w0rbrhEuo56CdP6Mt++mBgKtXXa5JSjkuwLMLJiCelGRetk5d2KBoen7DQvDTnjGcoGnnqqc7xaWA/PpvqtTfzz0TZBniCIGAALeBVbAAAMAiQgVuVjPj0AwR/FSbXy3gdT8i+Vv9Z6k3e4h4JnUU20pcmvhtplxOxcXxqXSLbp0VJM836KGdGO1TSlBBUW8adXCkD/+9+K/Uvq2fb7X8GpFg5DkESvj4EY0MuHpVm7nVRD29LPZGJGTEI+oyzLVmljYlBdfOqiCO7bW4flwKiOdPeSTphc29bJEPZggIcB/IAwIAABZgJGizmkXvLBLBT5lZ/gn0vGUv9ZcCpcM0hD1EPJc6iW2FKNF0EFqe1JGDKdTe0LWD/bVdO6dkCDV3pB/P/nlWng9x4oCl548Eo89hFd3tJx95KYFP0+SAAqLNYH49VTIvIETcc4QqEa3nVjMlBY8ubyaOrfhYMc7Znxp3AvLNL3JW+UPP9rVFPpghIMB9QEAAACBCjAZsVrP2w7Ui+CkwtUDA6wZaYWoxdZUCVrMBaGkqLI6fTrfq1vEdfXmSugc8nzahXqi/ylvF8Z+OS+17P/N9y84dCWaewxbq7ScgFSlJjFToBeVPrL5F1C1FhcMSkJtGlxLn6LnoGlNSsHdTT6m9x3YMjjsB+fzscOkePtg20Bb5YIaAAPcBAQEAgAgwE7BZzXOfPycFQN/TJN3raudhlNYEm75icpomm7qf4ppPph6n23TrnKFUvo7+yxadRAX4cxod8Hx36iwVbHd/vpf5ntQHX//0tSXnjQSzIuA7yqSkKXwdXR5w/gdnEO/aJE8g/4LGmL7u1aSOgIxa3syUFPy2dxzn1eQQWbq2Y1wJyIX9rfnItuulPjyqlSiLgYAAtwEBAQCAMDEbsFnNC1+/IP8VmcbqXvcBzUpU9ekysf1p6iEdf0JnedxgpQjlF8fOpU4B631Oo3k+deY36ZGg5xtCzcX5rqJyjvTni1+/KPXB//78nyXnDRez75SHiF+lh/0E5Fa6KqB8cAbxoT5y7pC91N/0dctokkzOXdPOtBg0fUJdfeyuhXXjQkC8eT4u7G/Nb2+Vxe+7ncMgIAAYBAICAABhEE6gaDWHvz8sfz5Ew3Wvq83F0YGuEts3Uy/5L7gm/wpekPKJYxdQl7D6RFvSNatylaRCjvTps589K/XBhewLkT+YMAm3396n4X4C0o8aBxWQkyktOQ+pIxALTT6/72mS/GndoDqmxWDCCjV/SZlphTnbpnkgVgiIVjy8531ly31SH2TtHmWLfDBDQID7gIAAAIBJwg0UreaTHz6RAqDXdDKMe4i4oSYbeX9qIrZvpz7S8R/To6buJ68mgF1CwTOxGynLfVbM+o4m2t6vK95fIa5XbHoxax5MGETSb1/SWD8BmUA3BRUQT0oyV9MsozwiQCJJo9Kzo3+DoNfTKy9tkeeufLztwZgUkEDZzfdskkcQ/9g73rb3AwIC3EaSoiiclZVl248GAADcRqwIyDfnvpECoH00QPe6ZTWfymiXy/WdO/AuDTN8L2dIzoGwgu6MWECep75htydcZr0xS1yv8tzKlj2bSPvCTDlNk/0EZCF1CSkgbekKUb8z1TN1Td935016xLSA/Ll3AuefklecY96a9rYJiG8Jd9RDW559Rhbm7Jxsy94fXyAgwG0gESEAAJgkFuSD2X8J2a10n991v/NJ8LdcIwov0SBp3xuXluc1Unw/wVlFd0ccSL9Fj0jn3GNyXkI4+CZztAonBcRDxIUo0f9dCCAEnpRk9pCcpb4ylQi4iIFe8V369wSNNy0gnEGcPKeqOEenBbVtEZBwpCSYeHjL2vVq/pWCU/JZ9u7oAQEBbgMCAgAAJokF+WBmPn/hvBQErqF7Qgb1u6mf2Peaz+Tll+lBw/f0DU2Qjn2aekQcRJ/wOWc4UmOWh/Y8JK7Xak0ry56N0wKiHeVS0hQ+RIMDroLlFZCl1E06ZjLdbPh6MzRJLJPo0hLQYQjIlKdaq+eZWoAv7J/smISEEpJQxyxdq/ZBqWmFLHt39ICAALcBAQEAAJPEgnwwM+fk5HC+dHUi+GLq6nf9bXS/FGQeoRFi39s0VNq3P8AnXHrlOI2Tjn2GUiwJpJOogDjnDOoY1jnM0OM59Tv+Tps6WfZsnBaQ6lRKeh5f0/iAUuAVkO9pEtehcuKYQpQYcCED3zKMWorjrqQyYQvI68/K85DefW5AVAQknKLNpVJpepJl744eEBDgNiAgAABgkliQDy8lZpYQQdBMnVwcC6iL2J+P8ki5Po7QCCn4e576Gr63L2iMdOwW6m1JIH0FlRHnHEYtwz6PUW7dcKu43n077rPsuTgtINfQZeI+ipEmKRjF1RwAACAASURBVKXPKIj33979vvNuOlIdQ9e7lxqKY1pS9bAF5J99k7iQRqIfX31z1MXCaEnXjN7UmlnasndHDwgIcBsQEAAAMEmsyAczc+W5lUUQpJ1g7i1jqY36V1oqLu37nEZLweezJiTiUxolHbuN7rckkG5O1cQ5e1BDU8c+RXfzUGrBH1wa5TFCs6eaiesN3TfUsufitIA0I3UuxRXeEQmNhPiOfgSSCSVN4Q3UM+T1WlNNUf9Oqq97LaOl3Tz1XO3n1Yy6WBgt41aoeWsazqpg2bujBwQEuA0ICAAAmCRW5IOZuc5iNcfHSJ2lVHvRdWJ/E6oi7fuaxpsOPL3Fd/Rkp4nRk2ClG10jztmWrjB83H4aIInWl5eSMobiqsVXqQL3Sqplz8VpAbmFavmPSBgUkE9pFJfQZLWvQiX4mxBJKbWfbg2h5hEJyMxVN4lzFU5P5H/2TYq6XBgpQ59sItrdeCw+wQLADEmKonBmZqatPxwAAHATsSIfzMxNVqpB0CBq6tce7VKrXekaaV8kK1m9S8OkYwMtAWy2PETqiEQ9Km/4OO1Ij5KmcDfNvQajwhMVxDHz3ppn2XNxWkBGk/o50CjylwyvGOgJiIeIZ9HtUv+FygtSkgqJulOpQ0QC8s5zA6Rrv7G1b9TlwkgZsPRa0eZWVMOyd0cPCAhwG0hECAAAJokV+WBmbruurQiCUug6vzbVprL6f6mm/3J5JJAa+C2j7oYDXt/VtV6ggZYE0kTtxDnLUBHDx3Whq6X2KGnypPxAFJym/uV/zYdrLHsuTgvIVzSOH6VkHkXJfJzG6QpIIPnwEHEmpfJ1dLnoi/yUN+CyzL5LO0s5YMIQkAv7J3PeNDWp5YYNXaMuF0ZK15HqKFB7qm3Zu6MHBAS4DQgIAACYJFbkg5m58yY1F0FXutqvXcVCrCpVkNQJwAuos+GA93UaLAWhZpbwDVa0S8MmkGI4N4VWtLylGBWQkhn64ruM8Y6jOyx7Lk4LSMgSQkA8RPwiDeQ8muz2rcaU4DMp/iMhvqNf0ud3YQgIZxCXe0xdRtiuhIRWFk9KMncYVVq0uQtdbdm7owcEBLgNCAgAAJgkVuSDmTllW4oIgm6hWlK7vqSxUqCol6tDu+zt4zqraAUqB+kh6dyv0cOWBMq+ywZ/oFk2OFA5SZM4H+XxExDvvBftyl9aPL97pLoHvz1o2XOJunAEkpAQdfoPu1zqkycH1VHl5dLxu6mfVOcdGuonOmYD+rqPqwI5cWXLqAtGKPnwpCRLE/F7UEPL3h09ICDAbUBAAADAJLEiH8zMg3ar2cxvpGpS216hB6VA8QAN8gs4y2gS2Enf8ocoL9JA6dyHTWRRD1beoCHSeY3kJvGVoUZUSfr3WGqj+8yOnj0q1fvI85Flz8V2kfAtFp3rlz1jucJjRUWfXPZYUf51zzgp8F45qK7Ub9/SRL9zmg3qtRnRBy69LuqSEUo+PER8A1URbe5HjS17d/SAgAC3AQEBAACTxIp8MDOPekFdDrc+XSYFghuopxQoHqUxfgFoRUoS+81kwtauOqWkKdKnTpEU3wSHa+nekMf4ZvT+hB6VEvPlpQTOoAf8JOStU29Jx33383eWPRe75SNgYGxESHzq+p5r4wa5P4c/eYO0f+HaDmJfycn5/K8XhoB0X6iu5tZtYZ2oi0Yo+fAQcX1N7pXBdKNVr44uEBDgNrAKFgAAxDFpB9NEEFSTSkuB4Ey6TewrTIl8hlL9gtEamkB9jM9IQbDi+xmOkU+ljJYilF+cVy+5om8ZSi1E/apUUgiS9rOsnnStv0Qd3y/dwy/nf7HkmTgpHkEDZT0RMXCenP2p3HZuddEvedIS+MNtg8R+bf6Lqx8v53+tMATkwaWN1Lknc6pGXTaMCMiVmqSZoyg5wrcmOBAQ4DaQBwQAAOKYOW/OEUFQBSoWMDC/0jc53aVylSafw3ATmce3Ux+/UQergm2tFOnlNvEt7TQ5MNpTbbH9bmogtjemyn7HSRPe0xI4Oyc74ucRbfkIKiMmznN0x2BOnKIKXNMnKnH2/lTmDOL7Fqv92u5S4sBIBWTSypbinHUeLxN12Qjan5fusxIVl0YP7QQCAtwGBAQAAOKY5e8vF0FQMSogBa7dqb7Yl0w1dYNb7WckD9ONhoPirXSfJCCf02jLAu6mmqzeeksL+5YqVELUH6aRqImkJrgrR0X9jptJHdVPiWaWjPhZxJp86ImImWMmrGghPeOxK5ozZxDfPK+G2NZnSUM5MA+zvfPXtBfnLDutcNRFw4iAlKbCos2P0a3hvTQGgYAAtwEBAQCAOGbjJxvVT2UoQfrMqpkmkNf7BMlDxI2psqjTn5oYDow3UooUnHozj1tRtDk9fFf28i2+c0ae1OQyWUl3SftO0Hjp2PGk5lCpPr96RM/BLvGwQj7CLX/uncDVZpSQ+nDFutulFavGr2ghCU647X1GM+8kT1qCGG2JxeKVkMKUKNo8lzqZf2lMAAEBbgMCAgAAccyuY7t8guwJuiMDo6m1bqDbnKqJOr2pkeEAeT31CHjdSMtAairOe43PxHrfspf6S+14lR4S+3xX6nrFJ1fJYLpRnctAFcJ+BnbJR7QDbc4gfv+5B7hwuhpo501LkD7NWrT2VjkwD7PdL2zuJT2r/+0eHfV7DyYgekk87QQCAtwGBAQAAOKYg98e1J2LkUmpnKiZhD0/QJLBNnSFqHMPNTQcJK+he6TrnjSYMNBImUw3i/OW1/l0Slvm0B2ibiLlkRIXfuUzOrKK7paO7UXXiX3NLy1hbBY3y4e37Np0L+fRZCrXlm0b77ZEQI5sk2Xx2I7BUb/vYALyba+WUnvX0r1mXhvTQECA24CAAABAHPNe5ntSIPQWPcIeIv6IRkrbn6XeugFve6ot6nTRyaQeqEynW8VxBSmf7gpb4ZbF1FX6rEybSNC3DKAbRN06VM5vv/Y7/VS6Rdp3B6n5LDpSHbHdKHaIR6zJh7csXnurroC8tbW/X3Aezvm/3zlcOu+hZ/tG/Z6DlS963yi1dwv1NvrahAUEBLiNJEVROCsry9YfDgAAAHs4dvaYFAi9dCnZ4D6fPB2BEgV2onqizq10leGA+R5qKI67ji63NBj3neD+EY0MWLclqcvFdtURKG1Swvt8PjFrRepk6h4+oz+hsFI4Ylk8tGXk8qZ+AnJy53BLzv3XvgnSeXdsvMeydl/Y35ov7G9taV98cL/cF7uoX8h3JhIgIMBtIBEhAADEMad/PS0FQs9TX/aQ/wTsbwLM0bhLs1TtTXSl4QBau3xvX2psqYC8Rg9LbX+BBgasq83kPp7a+u3vRteI/a2ohrSvIVUU+wZRU0kOOIMC9rkVshEPwuFbsvenctcFV4k+K5yeyP/sm2TZ+Yto5pqsWHe7pfJhtYR8uWOIn/jbCQQEuA0ICAAAxDG//v2rFAhtoJ7sIeI0aie2labCAYPjFM08iJZU3VBAfYImcB5S5wTMo06WCsiXNFa6p/XUQ7fepzRKqrdOJ2v6SGol9lehEtI+bb4RaZK+VhB8CCQToUq05cGq8ufeCXzPonpc/rEivGRtR0vPXXW6mldj+qq2lgnI+ex0Pp+dbqmEfLhtkPTuvUFD/N4VK4GAALcBAQEAgDjmYvZFKRBaQXeyh4gf0MyNqB9kJal+1FjUa0JVDAnCLp8s6L6rS0VazlAqF6R84vyz6Xbdes/5fKr1Dg31q7OQuoj9eSlBmqReyiePg++ohQg4vcSAALi5XD9bHZEa8WRTS+RDKyBWSsjhrfJv4AMawXYCAQFuAwICAABxTuHH1EB67qXRiNuojtjWIcjcjgepmajXkCoaEoRp1EEcU5Dy8akgk8TDLVWppP7ohKZM1bSjCOXnTJ2J8L6y9OalSfpnKJXzaVYJW0RdAwsIiiOlwzx1Rbbei+tbIiBa+bBSQl7a0lt6r76gMWwnEBDgNiAgAAAQ55Sbrc7HmEod2EPy/IZgCQaHkprtui6VNyQH2nkj11Mly+XDQ8RNqIq4xhVUhj+lUX51tJ+PBZoI/wk9KgWKGymFPUR8gsZL25/2/czLZZ9OxUPpvbi+eB63zr/CNgGxQkJ2bbpXen++pYlsJxAQ4DYgIAAAEOfUXFBTBEJjqQ17iLgcFRXbfJef1ZbR1FrUq0mlDclBbVIzYfezeAK6t4yiZCnAq0Pl+HMaLdXRrnAVKNP7GUqVMlbPoI7sIeIjNEI6v3fyPkZBoldGPKmuLHX97Iq2CYgVIyCbN3QXbU0gRSxDbRcQEOA2khRF4XPnztn2owEAAGAvDZapIxJDqDl/RxOl4Hr5pXkhemUi3STqVaLiIcXgBI2XJqAvCJDgUBuMhSMgJ2gCN6Wq0n1cQ5fxMRorxKII5Rf70ql9wHPVpfKi3sBLq10dpIekc2szqENAolOmr2ornke1GSV065zdPZr3berJv+4ZZ0hA7JoDsvrpTqKthSlR9723EggIcBtIRAgAAHFOi9XqZ1R9qTG/RY9IwfVu6hcwOJ9C7UW9ciGyjnuIeCf1lc59UC9w1wnCwpGQ4zSOr9eMcihpCl9Ll/NXNI7fpWHS9gMnDgQ8T0fNfJj2VJs9RPy8z30coRH6x0NCHCsr1t2uzulJT5T2Ze9P5SVrO3LR9P+ks/6s8oaWALZrFawnVt8S9HdjNRAQ4DYgIAAAEOd02KBOxr6bGvA2ut9YcE3EM+k2Ua8EFQwpBekaYSlEiboT0AMRjoR8SWOl+SxKmsKNqTJv+nSTtO3HP34MeI2HSc1aXZvKsoeIn6Ye0vEnaDwEJMpl+8a7pWfy174JzBnEx3YM5pZzqkj7lDSFn17fxZCA2JGIcPiT6ipzDQIs3mAlEBDgNiAgAAAQ59z1rJp0sCPV4QWapWfzUR4+HWSVqnnUSRKKUEJwJ9WXRMBs0BWOhBylMXw1VZCCT+3KX2VnlQ16jcc1klWQ8nEmpfIi6ir10RmdFbS8AgIJcaYcelYelfrm+aE8Y9VNXGBKXj/5UNIUbjirAufsTzUkIVa3tftCY6vMWQUEBLgNCAgAAMQ5fZ9XA7dkqsljqY3heR1LqJuom5cSQsrAlVRG1PddXcso4UjIZzSa62iyr2tLm7Vtgl5jC8lLph6hEdJSwsESNWIUxLlydMdg6TlV0SQm9BbvJ1je8sqW+6LS1iazLw/4O7BDQiAgINapryjKPkVRPIqi5CiK0jZEfQgIAADEOUP3DRXB0PVUiXtplqcNlVxwJd0lBXTBRku+pvGcQGrdBdQl7CArHAn58Y8fuc7iOn5B6dB9Q4New3e+yHbqI63+VYNKhRQQN2Y1j7Xyv92jdQVTSVM4IU3h4U/ewGd3j+Yy09TRr9vn14pKW8tPUkVoMt0c8t2NFAgIiHWuUhSlv6Io1ymKkq0YFBCsggUAAPHLhAMTRDBUh8pxW1ITunWla4IGRv5zISYErLuD+kh1X6WHIwquzMiHlzO/neErF14ptWPF+yuCXuM0TeZETdLBedSJB5G65KvRBIyQEXvLxf2TOU9agp981H28LL+5tZ+ol7qylbT/2I7Bjrbz332TJBFfSt1MvcPhAAEB8YThERDkAQEAgPhlxqEZ6mcrVELK0zGEmgcNijZTLymYO0pjAtbVrphVmBL5NE2OuO3hBG6nfj3FNRbUYCVN4WLTi7Hnd0/Ia9SgUqLtw6gl96CG4t+tqEZYIzK+MgIhibzUnFFSnZszJQ+nrmzFf++bKNX5YdejnF8zL+TBpY0cbeN3O+URNd0cMhZLCAQExBMQEAAAyAUsemeRCIZKUWEuRgXEv72J9wIFz9v7N5CCqY9oZMDgqRtd4/dplxWEE7D98c8fvOnTTXz8p+OGrtFGMyrUha6WlubtRPXCExCMjlhedmy8h6vPKMHt59Xkj7c9GLBe3yWqQBZKz8dnd492rI2+k+XfpWFhjeaZAQICosUa5T+hyL70f33LKzrHQEAAACAXsPbDteq38ppPQ5Q0hdfRvQGDZM4g3tvvWsPB1BWaCegD6AZL78HqT1Z8GbxXneDcgCpyc6om/t2LrrNGQHz6OdrBvBuLd0ndI9uul97baavaONaGpYPqSL+372mS6ffDLBAQEC0KK4pSKkgppnMMBAQAAHIBz33+XMDJuwdoUNC/yn+0bZBU/xAN1g2YjtM4SW7Wf7ze8vuwSz6Ymee9NU+0vQQVlJb1HUw32iIgkBBri29SwZvnqp9rVXisqN+nWnaVyYNriOuWN5C80woJgYCAeMKwgAwYMIBHjBjBI0aM4IyMDFM/CgAAANEl43hGQAE52vvGoIHwieeHSvV3Bciavt1nAvoXWV/Yci92CciuY7uk9henguJ/j6e21gsIRkFskw9v2fmlvLzy2vWdHWlL/+HqErzX0uW2CUhGRoaIzQYPHgwBATFPAUVRCir/CUj7S//OG6AuRkAAACDOOfz9YV35KEyJfCalVdBg6t99k6SVhxZRV91giaidqFOE8vPF7IuW34edn2B9nvV5QEmbGWieDEZAYqJ4P7vyFZC/Lk7hOovVBRfqzypiKDFhpKXDqNLimrdRHdtHP5gxAgJin6qKOldEW1ID1E9SFIWzsrJM/xgAAADEBh//8LFuYH0llTEUBFebUUIcM4qSdQOmrpoJ6DdYOAHdi1WBWiC+oQkBBWQZdbdcPCAf1hU9+fCWpe93lp7li5sb2N6e+uOKius9QDfYLh/MEBDgPpCIEAAA4pxvzn2jG1gnU01DgfBNc6uLY+6iBrpBU01S/+o7kJpaKgh2BGx657+Miun20zOUAvGI0RJo9MNbzv09mcvOKiKeZcf5pfjC/ta2tqn8Y+r1iG6xXT6YISDAfUBAAAAgzsn6I0s3sO5J1xoKiAcuVTOnN6bKfkHTVzROOu9in8+0IsHOoM33Gs2oqm4/7aH+EI8YLcHkw1smvtJaep6fbm9sW3v+3jdRutZyuhMCAkAYQEAAACDOOX/hvG5gPZpaGwqMH199szimnM6qPtvo/pArZYWDE4Gb9hza5IPa8nqAlb8gHdEtoUY/vOW7X8dwgan51FXN9jW1bRTEd9GG3QEWbbBapCEgwG1AQAAAIM7JycnhvJrM0N6y5sM1hoLkrc/cJR13gsZLgRPRLWJfUcrPmZQacYAVzmiDWXyPH0dtdQXkE3oU4hGDxYh8eEvPbWpCzVKPF+Kf/5lsi4S89qy8GtwH9ze15d31BQIC3AYEBAAAXECJmSX8AusDJw78tzNEUHVk20DpuIP0kBQ8daGrxb5mVDXiQCvsz51MBHJ6xz5J3XUF5FuaCPGIsWJ09MNbXvq2n/RM1318l8gXYmW7NmzoKq6RJy2BT6W0sl0+mCEgwH1AQAAAwAVUmlvJL7D+6n9fqRWCBFW/7Bkrj5zQPVIAVZ1KiX2DKPRffIMRiXwYDegCHZdBD/j1UUHKZ2jkI9oBeW4rZuTDuyRvrUVlxHNts66GlLTQqnbNWHWTuEal6Un/ianN8sEMAQHuI0lRFM7MzLTsRwIAAMB56iyu4xdc//XvX3KlIIFV6WmFNCv7tBMB1DGS5WQpdQtbEqyQj1CBXbBjfO8l0JwXvdGPaAfkuamYHf3wlulvtJOe7ednh0sSYkRETu4czo882YTnrGnHF/dP9tv/8LLr1dHAJyoxZ1BACbESCAhwG0hECAAALqDxisZS8FV2Vln9igECryaz1ezOfamxCKK20n3Sed+gIWEJgmG5CPEX5UivUZIKSfdzJZWBfMRYCUc+zmen88nfxnC+9Dzi2Y55qZW034iEdFpQWxy/bePdQffftbBuQAGxGggIcBsQEAAAcAFt18kTrK9bfl3gyjqBV49F6jyPNnSFCKQmk7pCVjEqEHACejBBMDW64Z1vYdM1GlJFqZ+up0pB2xLtYDy3lXBHP7yly+a64tlWeKIY/36BDEtIzv5UWU5nlvKrc+2sCmL/yOVNVQHRvLN2AAEBbgMCAgAALqDTpk5S8NRlc5fgB/gEVpNWthTH1qBSIpjqRPXE9hupmjmZMFs0k73tuoZ2Qr2SpnBbjWzF0+iH0U+K4q1EIh/ns9N511e9pee79YuefnUC9d3pXSOkY2vMKOlXp8y0wmL/vDXtxXbvO2sXEBDgNiAgAADgAlK2pUjB09B9Q4Mf4BNYrX5aFZhEysOnaTJ7iLgalRTbH6JmtguI3l+UrSzDqaXUT13p6rgc/YCA6Jc/LqRx5XnFxfO97ZnauvX0+u7AFlleml6a4+Etf+2bIO1/7pm75HPYCAQEuA0ICAAAuIBBuwdJwdHsw7MDV9YJ/Lb3byAd/y4N46M0Rtq2jLo7JyA2XWM+dZbuqQ9dH7I9KM6USD+/8pbJB9uoS+VOSeCvfx5lSECWrO0ovRs3za0u7T/+/CPS/re39ndEPpghIMB9YBUsAABwAaNeGCUFR1s+26JfUSfw86Qk8xGSPz/ZSvfxsyT/RfhNesReAdF8+mTX+XeQnEhuKLUI2ZZoB+a5pVghH+ez0/mrc49yQlqCeMZpr95kaBTkkSebSO9Go9mXSftf2SIvyJC5a6Qj8sEMAQHuA3lAAADABaQdTJNl4fs3/SsFkA9PSjJnUioXpHzqCArdzhNJzXmQRAX4jIkJ6LEqIB/SSKmfJtPNIdsT7cA8txSrBOR8djq333CleMbV5pfkvy5OCSkgt8yrIb0b1WeUkPavW99F7Ms3Jc9/y/Q6BAQEuA0ICAAAuIA5b86RgqfTv56WKwSRD2+wfSWpidyGUHO+g9QVhVpQdfvlwwEBOUOpXJTyi/taQF0MtSfawXluKFYKyKbP7pV+D0f/NyKkgFSZXlw6psTUgtL+aavUT7uqTi+u+zu0CwgIcBsQEAAAcAErP1ip/nU2PR9fzL6o7gwhHt5yC9US57iD6nIVKiH+/TDd6JyA2HyN8dSWE0jh6lSKj9M4w1IU7QDd7cVKATn2kzzS9fJ3/YOuhvXH3vFSfW/RJiN8cGkjsb35qubBf5AWAwEBbgMCAgAALuD0r6c5MT2RlTSFe27rqe4wKB8eIh5AN4gASysfSprCy+lO1wiIh4g/pVFipS/D7YKIxI2A/PzPZOn9febTe4LOAzmybaCugPy0Z4xo323z1c+67n3u3lA/SUuBgAC3AQEBAACXcPKXk7zr2C4+f+H8fxtMyIeHiKdRB90gTElT+C0nJqDHS4GIxLyAnM9O55Iz1az3c97qGFRANm3orvvef/38I6J99WeVF9tHvzja2I/SIiAgwG1AQAAAwI2YEA9vWU89dIOw4lTQmQno8VYwKhLTAlJncVlVGF5qGVRAaGWy7rv/7nMDRPtKPV5KnTv09gJzv8cIgYAAt5GkKApnZWU5+kMCAABgI2HIh4eIX6fBukFYS6cmoMdrgYjEpIC0WaeuatV7x7UBBeTC/tZ8z6J6uu/+jo33MGcQ//nvn9L27V9sN/2zjAQICHAbSEQIAABuIwz58BDxtzSRE8g/CBtCzQ0F34ZKtGUBIhKzxWoB6bFNTa7Zbv0VAetd2N+aG86qoCsgtWeW5j///ZOPnT0mbX8v871wfplhAwEBbgMCAgAAbiKDIgr4K1KSXxC2wjsBXUcozASYuUZGICExISAjXmgu3uH6yyoErPfPvmQulK7mwCn/WBHp/X9oz0P80omXpG0//P6DiR9l5EBAgNuAgAAAgFvQBvlhBs/NqKqfgLxDQy0Pql0vI5CQqAvIzMPtxTtcbnaRgPW+fr6p9L6/uLkXN32ikrSt+xZ1knpieiJn52Qb+klaBQQEuA0ICAAAxCDhBryRBvM9qKGcjI0K8pmUVrYG09GQEFufBSQkLPmwWkDWfnyneI8T0hL49wukW2/fpvrSO39m10j++vlHuOj0orqfZVWfX93U+2MFEBDgNiAgAAAQg0TrL/fjqK0UbLUaXdL2IDqW5SPi5wEJMSwgVsrH+ex0fuFEX3lJ3Z9H6dZ74q2Ook6xqfk5Z38qcwbxmqc76wpIqzWtwnqHIgECAtwGBAQAAGKQaAnIMpLzIQwZWjnXy4clzwQi4qh8nM9O549/HCq9y2+cGqRbb+DuxqJO49kVRbty9qfyXQvr+glIyraUSF6jsICAALeRpCgKnzt3zvEfEwAAgMBES0D20wAp2Fo5qK698uGggET9uUBCdOXDLgH58a8J0ru87WiKbr3ktdXV5XoX15fa99OeMVxpurwww9iXxkb0DoUDBAS4DSQiBACAGCRaAvINTeBy9N+370mT8/LZ3aPtFZA4kg9Lng0kxE9A7JCP89np/NfFKVxoWqIQhyXvddKtd9mcYqLOY6va+rXxlS33cYJ2Vbj3V0T0/oQDBAS4DQgIAADEINESEA8Rv0wP8rChVfjtrf3tlQ+HBCTmng8kxHb58JbqC0oKcZh8sE3IUZLnnrlLt63z17TnPGkJXH9Zff75/M+RvTxhAAEBbgMCAgAAMUg0BcSJ4Die5cOyZ5SLRcTOT6+0pdmqKkIuHtjd2G//oVODJAH5bPtDAdt8cf9kzt6fGulrExYQEOA2ICAAABCDRFM+HFn1ygEBiYvnlEslxAn5OJ+dzl231BNycfvGq/z2r/5QXXQhT1oC/71voqH312kgIMBtQEAAACAGcat8CAFxgXx4iZd+j5Xi1OjH+ex0fmjvDUIwrl9xud/+sQdaif01ZxQ09f46CQQEuA2sggUAADFItAQE8hEekBDjxSn5OJ+dzumv3SwEo/K84n77u2xWl9ntOL+U6XfYKSAgwG0gDwgAAMQg0ZAPN3x6FU3i5TlEWz6cFJDlH3QRgpF/al7+6+IUaX+9JeXE/hFPVjItIE69cxAQ4DYgIAAAEIO4TT70Ajc3yYeXeHoe0RIQp+TjfHY67/yytzTJ/PTv48S+Py6kcf6pecW+Zetqhf0e2w0EBLgNCAgAAMQgTguII/Jho4DEEpAQ/eK0fJzPTud3Mh+WBOR9Ae4XSQAAHmtJREFUz2Cx7/Ozw6V9B7c0DFtA7H4HISDAbUBAAAAgBnGbgAQL3NwkH16sfDZukRErBORodh8+mt3HcP2Tv42RJGPP8fvEvh3Hekn7zuy6EQICgENAQAAAIAZxo4DYJSGxiB3PKN5FxEoBMSohf15M43zpeYRkPHWkm9g383B7sb3kzEL8775kvrC/NQQEAAeAgAAAQAziVgGxQ0JiETufVbyKiFUC8jIf4Jf5gGEJqTgnSYjGtEO3iO39djYS2294qjKfz06HgADgEEmKonBWVpatPxwAAADmcLOAWC0hsYgTzyzeRCRSAdHKh1ZCQonIdcsrCtEYsr+Z2N58dVWx/b4d10JAAHAQJCIEAIAYxO0CYqWExCJOP794kBE7BMSIhHR8ppYQjTufvVpsLze7iNg+9fVbICAAOAgEBAAAYpBcIyAWSEgs4ujzCyAjsSYkkQiIVzL0BCSUhGg/tWqxuiqfz07nzD/GSRPQn/2ihxCQUBICAQEgciAgAAAQg+QGAbFKQmKRqAlIDMtIpAISSD5CSciEl1sL0bhiYWk+n53OB08OkATk4x+HivoQEADsBwICAAAxSG4RECskJBaJunwEkRG3CkggCVn47h1CNIpOz8/ns9N5xZGuYlu+9Dz8278EAQHAQSAgAAAQg+QmAYlUQmKRqAtHDIpIuAIS6vOrUBKy5fMe0mjH2fMT+dEXW4h/11pURroeBAQA+4GAAABADJLbBESSEJMyEotEXTRiUEQiERCj8qEnIa99/4AkIJ+dHca3b7xK/Pv2jVf5CUgwCYGAABA5SYqicGZmpq0/HAAAAObIjQISUkgClFgk6oIRgyLipIBoJeTLcyMlAXnp235ce1EZ8e9HX2zhd00ICAD2gkSEAAAQg0BATJQYJOpiEaaIxJqAmP38Sk9CPv63tyQgqz/qLmVHX/5BF1MCEkhC7AQCAtwGBAQAAGIQCIiJEoNEXShiUETCFZBw5UMrIaUfLyyEY9CeJpKQHDw5AAICgMNAQAAAIEaBgBgsMUjURcIlEmKVgNRbUk4Ix1WLy0oCkvnHuIgFxG4gIMBtQEAAACCGgYAYKDFI1CUiRiUkWgLSdl0NSTq8peysIrrXNSMgTgABAW4DAgIAADEOBCREiUGiLhAWSoiV70e0BKTTtpq6AtL8Umb0cAXEKSAgwG1gFSwAAIhxICAhSgwSdXmwUUYieV+iISAv8wHu/8LVugLSb2ejsAXESSAgwG0gDwgAAMQBEJAgJQaJujDEqIyEIyBWSMi4NxvrCsiMN9qHJSBOAwEBbgMCAgAAcQIExL8gD0gMFBNCEq2VsOZ8kqwrINuPpZgXkCgAAQFuAwICAABxBARELU5/h2+GqEtBFGUkFgXk6W866ArI52eHmxOQKAEBAW4DAgIAAHEGBIQcX4XILFEXAQiIVPZldfWTj/xT8/IfF9KMC0gUgYAAtwEBAQCAOCQ3C4jTORjCIeoiAAGRyu6/d/kJSN0l5QJe009AogwEBLgNCAgAAMQpuVFAxFwDCEhslhgVkJf5ABd+LJ8kIF0214WAABAlkhRF4aysrGj/tgAAAIRBbhIQPfmAgMRYiWEBqbKwmCQgYw+0MiYgMQAEBLgNJCIEAIA4JzcISCD5gIDEWIlhAWm0urwkIKs+7BZaQGIECAhwGxAQAABwAZEGjbEsIcHkI1YlJOoiAAHxKx22VJME5NCpQUGvG0tAQIDbgIAAAIBLsEJCYlFGjAhIrElI1EUAAuJXeu+rIwnIj39NwAgIAFECAgIAAC7CqiAy1kTEiIDkJgkxfQ2DEmfFexOrAjL2sJoN/fK5SUGviTkgANgLBAQAAFyGHUFltGXETPAcS9gpH4au4TOyZauEGHhHoikgh3+7l6vMK8GJ6Xl50bt3GBeQGJAQCAhwGxAQAABwIXb9dTtaImI2cI4l7JQP3WsEeVa2SYjBdyOaAnI0uw//cSGNPX+OD3lNJCIEwF6SFEXhc+fORfWHBQAAwHrs+it3NCQknKA5lrBTPqRrGHg+lguIiXciWgJyNLsPH83uY/iaugISRQmBgAC3gUSEAADgYuySkHgYBXGThBjGaD9aKSEm3odoCkjE8hFFCYGAALcBAQEAAJfjFgkJN2iOJRxpv5MSYnJEzBUCEgUJgYAAtwEBAQCAXIAdAuK0hEQSMMcSjrTb5v4M9x1wjYA4LCEQEOA2ICAAAJBLiHcJiTRgjiUcaa/doyBhPHtXCYiDEgIBAW4DAgIAALmIeJYQKz4ZiiUcaaddEhLmM4eAhAcEBLgNrIIFAAC5DEhI7OBI+6zu0wiet+sExCEJgYAAt4E8IAAAkAuJVwmxavWmWMKRdlk5ChLBc46GgJiRj3AExJOSbN9zuwQEBLgNCAgAAORCLBeQCANTpwUk1oTFESmyol8jFM1wBSQSCXFCQOx+fhAQ4DYgIAAAkMuwLVCHgMQ+VvSrw59gRToKYqeAaEeP7AQCAtwGBAQAAHIRtgbqEJD4wIo+jaN5ILYLiAPvCAQEuA0ICAAA5BJsD9TjaCJ6rhYQZmv6M0wJgYCYBwIC3AYEBAAAcgGOBOoQkPjC5xMipyTESQHxzh+BgAAQWyQpisJZWVm2/nAAAABED8cCdQhI3GFJX5qUEKcEJBz5MCMgvn1nJxAQ4DaQiBAAAFyMo4E6BCQuserZG33+TkxED1c+ICAAOAMEBAAAXIrTQToEJH5xUkLsFpBI5AMCAoAzQEAAAMCFOC4fDgpINCQkN+DUO2CngEQqHxAQAJwBAgIAAC4jKvIBAXEFVrwDod4DuwTECvkwKiB675+dQECA24CAAACAy4CAQEDCxYn3wA4BsUo+ICAAOAMEBAAAXETU5AMC4hpiVUACSYiV8gEBAcAZkhRF4czMTFt/OAAAAOwnqvIBAXEVkb4Hwd4FKwXEavnwCkgwCQmUO8VOICDAbSARIQAA5FLsEBC3roSVG7FLRq0SEDvkw8gISKB3z04gICDW6a0oyhuKovykKMpZRVFeURTlxiD1ISAAAJCLsUNC3CYguRW73gErBcRq+QhXQOwGAgJinYcURblFUZQiiqLkVRRlmKIovymKUjFAfQgIAADkcqwWECckxCkByc3EsoDYNfoRjoA4AQQExCM/K4rSOcA+CAgAAIC4GwVxQkByO7EuIHbIh1kBcQoICIg3blAU5V9FUaoF2A8BAQAAwMwWSogDoyB2CwgI832wMQ9IrAmIk0BAQLRYoyhKjqIo2Zf+r295ReeYyoqifKsoypQg58UqWAAAAATxMgpip4CA/7DruUcqINGUD++75zQQEBAtCiuKUipIKeZT/wpFUb5RFGVGiPMiDwgAAACJeBgFsUtAgAoEJECJAhAQEA/UVxTljKIoEwzUTVIUhQcPHswjRozgESNGcEZGRlR+XAAAAGKHWB8FsUNAgIxd0hmJgNhdQgqIg2RkZIjYbPDgwRAQENPcqPy3BO9Qg/UxAgIAAECXWB0FCZQIDvJhLXY967gVkCiCERAQ67yiKMpF5b+ld3+/VH5TFGVcgPoQEAAAAAGxaiTEShGBfDiDXfIRlwISZSAgwG1AQAAAAATFSgmxQkQgIM5gh1xCPsIDAgLcBgQEAABASCwL+C2QECsFBATGjmcZdwISI0BAgNtIUhSFs7Kyov3bAgAAEONYOeoQiYhYJSDxjt33YMfziysBiSEgIMBtIBEhAAAA27AyiNV+xpXb5YOZbb0XIwIZjjxCQMIDAgLcBgQEAACArUQqIVaKh1vkg5ltuyejI1iuF5AYkhAICHAbEBAAAAC2E66EWL3krpuw497slI+4FJAYkRAICHAbEBAAAACOYEZCrB71cJt8MFsvIIb7MoLRj7gUkBiQEAgIcBsQEAAAAI5hREKQaNAYVt6nGflw4+dXIQUkyhICAQFuAwICAADAUUIGuBaKh1vlgzlwP1p1ntz0+ZURAfGkJEf0vCIBAgLcRpKiKHzu3Lmo/agAAADkPqyWjNwmH8zB+9CKc1g5+mGVgBzN7sNHs/tETUCi9U5BQIDbQCJCAAAAUQHyERmR3r/pPo0wgaRbBCQa7xYEBLgNCAgAAICoAfkIn0j6IRz5iHT0wyoBeZkP2CIhZgTE6XcMAgLcBgQEAABAVIF8hEck/RGPox++AmK1hJgVECffNQgIcBsQEAAAAFEH8mGecPslrL6NMQGxYxQkHAFx6p2DgAC3AQEBAAAQE0A+zBFO/0RDPuwUECslJFwBceLdg4AAt4FVsAAAAMQMkA/jWDVqFK8CYrWERCIgdr+DEBDgNpAHBAAAQEwB+TAGBMRaCcEICADOAQEBAAAQc0BAjJGbBMQrGr4CYpWEYA4IAM4BAQEAABCTQECMkZsERE8+rJIQrIIFgHNAQAAAAMQkEBDjxLqEOCEgkYoI8oAA4BwQEAAAADELBMQ4sSogds7/sFJCkAkdAOeAgAAAAIhpICDGgYCELyFGBSQaQECA20hSFIWzsrKi8oMCAAAAjAABMQ4ExF9ErBKQaAEBAW4DiQgBAADEBRAQ40BArBeQaAIBAW4DAgIAACBugIAYJ1YkxO4leB0RkCgDAQFuAwICAAAgroCAGMdNAhKOfEBAAIhNICAAAADiDgiIcSAgEQpIDAABAW4DAgIAACAugYAYBwISpoDECBAQ4DYgIAAAAOIWCIgxcrOAGJUQPwGJISAgwG0kKYrCmZmZ0f5tAQAAAMAGoj0PJFIBiWQCOkZAAIhNkIgQAAAAcCmxsBKWFQJi9+gH5oAA4CwQEAAAAMCFWC4fURCQSOUDq2ABEJtAQAAAAAAXAgFBIkIAYhUICAAAAOAybJEPhwXECvmwVECiKCEQEOA2ICAAAACAi7BNPhwUkEgnnocjIKEkxJOSzB4ipx8nM0NAgPvAKlgAAACAS7BVPsKUkHAFxAr5sENAoiEhEBDgNpAHBAAAAHABjsiHSQGJ9uiHXQLitIRAQIDbgIAAAAAAcY5j8uGQgFglH3YKiJMSAgEBbgMCAgAAAMQxjsqHzQJi9egHBASA2AQCAgAAAMQpjsuHAwJipXzYLSBOSQgEBLgNCAgAAAAQh0RFPmwUEDtGP5wQECckBAIC3AYEBAAAAIgzoiYfJiXErIBYLR9OCYjdEgIBAW4jSVEUzsrKsvWHAwAAAID/t3d/IbZdBx3Hf0nVaqSDFkE0/kWl2NRSfCkUNQUVBKH+RZBQ8CExleu/CbEGKdxW0YL/KfiiD3nQh77oW+nVh6igVaJtrYUEWq1/ruPFE51yEy1qTLcPeyZMZuacOfuctffae83nA4t779wzyeKwz73ne9faZ5WxlPhYWoC8+MG3WgGBiTiIEAAWonp8jBggte8BueokdPeAQDkCBAAWoHp4LDBASm2/WhcgUxEgtEaAAMDMVY8OAeIgQihIgADAjFUPDgFSNT66ToDQHgECADNVPTYEyIUAqUGA0BoBAgAzVD00KgVIyQgpHSC1CBBac5CkOz4+rvaiAgBeqXpkVAqQ0qsgJe8BqUmA0BoHEQLAjFQPjEYC5HQ1Zenx0XUChPYIEACYiepx0ViAFFn9mAEBQmsECADMQPWwECCzjI+uEyC0R4AAQGXVo0KAzDY+uk6A0B4BAgBc0EKA7HUPyIwIEFrjU7AAgEvtEyAvfvCti/kULFuwYFrOAQEA1jofH0MCZGh8lA6QbSPETegwLQECAGw01farWQbIDCJEgNAaAQIAXGmq+z9mGSCVI0SA0BoBAgBsZ0B81L7/o2SA3Hnowe7OzZvTP98nBAitESAAwPYWtP2qdIDUihABQmsECAAwzIICZJsIGRIgNSJEgNCagyTdarWa/MUEACzYNQ6QqSNEgNAaBxECALuZ+f0fYwbIlBEiQGiNAAEAdjfz1Y99A+T07JN1J8NPQYDQGgECAOyn9QBZEx9TRYgAoTUCBADY30IDZNftV1NGiAChNQIEACjjmgbI2AQIrREgAEAZe5yAPlZ8jB0gUxAgtOYgSXd0dDTJCwgAaNiO27BqBsg+94BMRYDQGgcRAgBlCJBRCBBaI0AAgDJ2PAtkiQEyJQFCawQIAFDGjh/HO/sAORchUxMgtEaAAABlNBgg51dBahAgtEaAAABl7Hgq+lICpBYBQmt8ChYAUMYOAfLsSz+yiACpSYDQGueAAABlXBIgV0XI2PFRIkBqEyC0RoAAAGVc8uZ98QEyAwKE1ggQAKCM1gJkJgQIrREgAEAZa1YRNkXIbANkRgQIrREgAEAZa+JjkQEyowgRILRGgAAAZeyw+jHrAJlJhAgQWnOQpFutVrVfWwDA0s1w+9XeATKDCBEgtMZBhABAGTPcfiVAYH4ECABQxgw/AatEgDiIEMoSIABAGQ0HyJ2bN2s9qwKE5ggQAKCMBZ6Cvk2EnAZIrQgRILRGgAAAZQxY/VhqgNSIEAHC3L0tyceSHJ+Mv07yAxseL0AAgDKuSYBMHSEChLn7spNx6luTfCbJN615/EGS7vj4eNIXEgDQoIHbr5YcIFNGiABhSe5J8i3pA+T71zzGQYQAQBkzW/0oFSC1I0SAsAQHST6d5H+SfDbJnyZ59YbHChAAYH/XMECmiBABQi1Ppo+Jl05+PD+euuR7Pi/J9yX52fSrIZcRIABAGdc0QMaOEAFCLfclee2G8ZoN3/uBJDfW/N5Bku7GjRvd4eFhd3h42N26dWvUFxEA0CgBUu6pvHXr5fdmN27cECAszh8led+a37MCAgCUMTBAlnITuhUQ2OztSb4hyb1JPj/JO5K8mOS71jzep2ABAGUMCJAlfQyvAIHN3p3kU0leSPJckj9P8oMbHu8cEACgjEYD5Kr4ECAwjAABAMoYcA6IANmeAKE1AgQAKGOhJ6Hvu/1KgMAwAgQAKEOAjEKA0BoBAgCUMTBApogQAQLzI0AAgDIEyCgECK05SNKtVqtRXzgAwDUgQEYhQGiNgwgBgDLOvXGfw4GEAgTmR4AAAGXsECBjr4IIEJgfAQIA7O+SN+5DAmSsCLkqQE7PLBEgMB0BAgDsZ80b920DZKxVkNOw2Xv144oAGZsAoTUCBADY3YY370MDpHSETLH9agoChNYIEABgNxveuJ8GSK1VkG3iY98AmYoAoTUHSbqjo6PJXkQAwPLdeejBKwOk1irIkPjYNUCmJEBojYMIAYBBXn4jvkWEDAmQEqsg29z3se3qx7oAmZoAoTUCBADY2ivejI8QIPtEyJD42DVAahAgtEaAAABbubAVacQAGRohQ+NjlwCpRYDQGgECAFzp0huxTz6i9qoAGXsVZNf4GBIgNQkQWiNAAICNNh7CV3kVZJf42Hb14zRAahMgtManYAEAa111AvhYAbLNKsiu8TEkQOZAgNAa54AAAJe6Mj4mCJB1EbJPfGwdIDMhQGiNAAEALtgqPgbcB7JrKGwKkH3i48oAmREBQmsECABwwdYBssUqyK43oq9bCdknPrZa/ZgZAUJrBAgAcEHJANl3FeRshOy79UqAQH0CBAC4YGiAjLkN63yEjBofAgRGJ0AAgAsGBcgE27BKDQEC9R0k6VarVe3XFgAwI6UDpNQqyL7xIUCgPgcRAgAXDA6QLVdBagfIlfEhQGB0AgQAuECAzIcAoTUCBAC4YIwAqRkhW2+/EiAwOgECAFywU4DMeBVk6/gQIDA6AQIAXNBSgAxa/RAgMDoBAgBcMGaATB0hg+JDgMDoDpJ0x8fHtV9bAMCM7BMgc1sFESAwLw4iBAAu2DlAZrYNa/D2KwECoxMgAMClWtiGNTg+BAiMToAAAGsteRvWTvEhQGB0AgQA2GiJ27B22nolQGASAgQA2GhpAbJXfAgQGJ1PwQIArlQ6Qsa6D2Tv+BAgMDrngAAAW1nCKsje8SFAYHQCBADY2pwDpMTqx52HHpzy6dyKAKE1AgQAGGSOEVJk65UAgUkIEABgsFIBUiJCSsaHAIHxCRAAYCelzgTZN0KK3PdxGiA3b072/G1LgNAaAQIA7KzUKshphAwNkVLxIUBgOgdJutVqVfu1BQAsVKkAGRohpbZeCRCYloMIAYC9ldiGNSRCxooPAQLjEyAAQBGlVkHORshlMVI6PgQITEuAAABFlAyQTTEySnwIEJiMAAEAihgrQM6HSMn4OL/6IUBgfAIEAChiU4CUjoaxVj8ECIxPgAAARYy5+jFqgJyPpZkRILTmIEl3dHRU+7UFACzc0gLkstUPAQLjcxAhAFDEIgPksu1iMyNAaI0AAQCKWFKArFv9ECAwPgECABSxuABZd8P8zAgQWiNAAIAilhIgm1Y/BAiMT4AAAEUsKkA2fWTwzAgQWuNTsACAIpYQIFetfggQGJ9zQACAIjYFyFwi5Kr4ECAwPgECABSx8Y39DAJkm9UPAQLjEyAAQBFXBUjtCFlifHSdAKE9AgQAKOKqN/f7Bsg+EbPU+Og6AUJ7BAgAUMQ2AbJXQJxGxOnPt/zvLfHG87MECK0RIABAEVcGyA6rIFvdt7EhSJYeH10nQGjPQZJutVrVfm0BAAu3bYAMWrXYYuvUVUGy5PjoOgFCexxECAAUMSQQSnxa1b5jKQQIrREgAEARQ1coiq56NBofXSdAaI8AAQCKGLpNqsaqx9Lio+sECO0RIABAEWPdp3Gd46PrBAjtESAAQBGDg0B8bEWA0BoBAgAUMVVIXKf46DoBQnsOknTHx8e1X1sAwMLVjowW46PrBAjtcRAhAFBM7dgQIDB/AgQAKKp2cAgQmDcBAgAUVTs4BAjMmwABAIqrHR0CBOZLgAAAo6gdHgIE5smnYAEAo6kdHwIE5sc5IADAqATIfgQIrREgAMDoBMjuBAitaTZAbt26VXsKzIxrgvNcE1zGdTGepQZI7WtCgNCaZgPk8PCw9hSYGdcE57kmuIzrYlxLDJDa14QAoTUChGvDNcF5rgku47oYnwAZRoDQmoMk3dNPP93dvn37wjg+Pu7u3r17YRwfH1/6+Nu3b3er1erS77l79253dHR06fccHR2t/Z7VarX2/7Vpfg8//PCs5zf356/F+T3yyCOznt/cn78W5/foo4/Oen5zf/5anZ+/P6aZ3yeeeOLl8dHHHus+cnh4YXz0scde8biz4+OPP37p93zk8LB79p3vfMVj933+av/98cwzzwgQmnJ/+gvaMAzDMAzDmPe4P9CAe9JfzAeGYRiGYRjGbMf96d+3AQAAAAAAAAAAALTs3iS/mOQfk9xN8mySH605IWbh/iS/l+Tfkzyf5ONJ3lB1RszFTyX5bJKfrz0Rqnp7kj9L8h9JnkvyVJK3VJ0RNbwnyVGSF5L8SZIHqs4GWIyfSPJvSV5/8utvS/KZJN9RbUbU9sVJ/iHJLyf5opOvfV2SL6k2I+bidUn+PsnfRIBcdz+W5DuTfGGSV6UP0+eTfHnNSTGpn0nyT+nfP7w6yS8l+Zck99WcFLAMv5nk98997a/S/8HC9fQLSZ6uPQlm594kf5nkbUn+OAKEiz6d5HtqT4LJfCrJj5/59avS/4PmQ3WmAyzJ69Nvr3lT+o+v+/b0S+qWUa+vv0jy/iR/kP5aeDbJu9K/AeX6eleS3z35uQDhvDcn+d8kX1N5HkzjIP1WzDef+/ofJvnV6acDzMWT6f9weOnkx/PjqZPHfUGSX0/yf+n/8vjvJO+YerJMYttr4pPpr4cfTv8vWm9M8s+xKtaiba+JN6W/T+x0S54Aade218RZX5l+2+Z7Jpoj9X1F+uvhdee+/v4kvz39dIC5uC/JazeM15w87sn0W66+9uTXb0i/x9uN6O3Z9pr4cPpVkLOeuORrLN8218TnJPlYku89830CpF3b/jlx6uvTb8V574RzpD4rIMBe/jb9zYNn/VqSD1SYC/PwO0k+dO5rAuT6+ur0/xq+Sv9pR8+lXy39r/TbN7m+3pjkX5P8XO2JUMVl94Cs4h4QYAu/lf7G0q86+fU3Jvm7WEq/zr45/Va8H0p/38cD6bff/HTFOVHPPek/2ejs+FCS30jypRXnRV1vSX+P2E/WngjVPJ7+74YH0m/nfm+S2/EpWMAW7kvyvvR7/J9Pv4/3V5J8bs1JUd13p18deyH9PSHu/+Csp2IL1nX3VPp7xZ5P/+fECyc/f6LmpJjcu5PcSfKfcQ4IAAAAAAAAAAAAAAAAAAAAAAAAAAAAAAAAAAAAAAAAAAAAAAAAAAAAAAAAAAAAAAAAAAAAAAAAAAAAAAAAAAAAAAAAAAAAAAAAAAAAAAAAAAAAAAAAAAAAAAAAAAAAAAAAAAAAAAAAAAAAAAAAAAAAAAAAAAAAAAAAAAAAAAAAAAAAAAAAAAAAAAAAAAAAAAAAAAAAAAAAAAAAAAAAAAAAAAAAAAAAAAAAAAAAAAAAAAAAAAAAAAAAAAAAAAAAAAAAAAAAAAAAAAAAAAAAMFv/D9uj0sZ7/9GdAAAAAElFTkSuQmCC\">"
      ],
      "text/plain": [
       "<IPython.core.display.HTML object>"
      ]
     },
     "metadata": {},
     "output_type": "display_data"
    },
    {
     "name": "stderr",
     "output_type": "stream",
     "text": [
      "/home/mi/gph82/miniconda3/lib/python3.4/site-packages/ipykernel/__main__.py:4: RuntimeWarning: divide by zero encountered in log\n"
     ]
    },
    {
     "data": {
      "text/plain": [
       "<matplotlib.contour.QuadContourSet at 0x7f6e6f0a8358>"
      ]
     },
     "execution_count": 3,
     "metadata": {},
     "output_type": "execute_result"
    }
   ],
   "source": [
    "Y = np.load('Y.npy')\n",
    "plt.figure(figsize=(10,10))\n",
    "h, (x,y) = np.histogramdd(Y, bins=50)\n",
    "plt.contourf(x[:-1], y[:-1], -np.log(h.T), alpha=.50)"
   ]
  },
  {
   "cell_type": "markdown",
   "metadata": {},
   "source": [
    "# Use projX to generate paths along the projections"
   ]
  },
  {
   "cell_type": "code",
   "execution_count": null,
   "metadata": {
    "collapsed": false
   },
   "outputs": [],
   "source": [
    "paths_dict, idata = projX.generate_paths(trajfile, top, \n",
    "                                         'Y.npy', \n",
    "                                         n_projs=2,\n",
    "                                         verbose=False, \n",
    "                                        )"
   ]
  },
  {
   "cell_type": "markdown",
   "metadata": {},
   "source": [
    "# Link the above plot with the sampled structures and visually explore the coordinate. \n",
    "Click either on the plot or on the widget slidebar: they're connected! You can change the type of path between min_rmsd or min_disp and you can also change the coordinate sampled (0 or 1)\n"
   ]
  },
  {
   "cell_type": "code",
   "execution_count": 6,
   "metadata": {
    "collapsed": false
   },
   "outputs": [],
   "source": [
    "coord = 0\n",
    "path_type = 'min_rmsd'\n",
    "#path_type = 'min_disp'\n",
    "igeom = paths_dict[coord][path_type][\"geom\"]\n",
    "ipath = paths_dict[coord][path_type][\"proj\"]\n",
    "iwdg = projX.visualize_paths(ipath,\n",
    "                      igeom.superpose(igeom[0]), \n",
    "                      plt.gca(), plot_path=True)\n",
    "iwdg"
   ]
  },
  {
   "cell_type": "code",
   "execution_count": 9,
   "metadata": {
    "collapsed": false
   },
   "outputs": [
    {
     "data": {
      "text/plain": [
       "<pyemma.coordinates.data.data_in_memory.DataInMemory at 0x7f6e6c2f7128>"
      ]
     },
     "execution_count": 9,
     "metadata": {},
     "output_type": "execute_result"
    }
   ],
   "source": [
    "pyemma.coordinates.source(igeom.xyz, features=feat)"
   ]
  },
  {
   "cell_type": "code",
   "execution_count": null,
   "metadata": {
    "collapsed": true
   },
   "outputs": [],
   "source": []
  }
 ],
 "metadata": {
  "anaconda-cloud": {},
  "kernelspec": {
   "display_name": "Python [default]",
   "language": "python",
   "name": "python3"
  },
  "language_info": {
   "codemirror_mode": {
    "name": "ipython",
    "version": 3
   },
   "file_extension": ".py",
   "mimetype": "text/x-python",
   "name": "python",
   "nbconvert_exporter": "python",
   "pygments_lexer": "ipython3",
   "version": "3.4.5"
  },
  "widgets": {
   "state": {
    "01d5987463f946f1bccb2773f14c15ec": {
     "views": [
      {
       "cell_index": 7
      }
     ]
    },
    "03140da2f9764b0892c097efc7e6d6e3": {
     "views": [
      {
       "cell_index": 6
      }
     ]
    },
    "07bde4f47a4c46e6bb5b0bbe0cde1760": {
     "views": [
      {
       "cell_index": 6
      }
     ]
    },
    "07e488069cb541b89b5a957246db4602": {
     "views": [
      {
       "cell_index": 6
      }
     ]
    },
    "0e46b273896d4d55985b811807152a91": {
     "views": [
      {
       "cell_index": 6
      }
     ]
    },
    "1bae0acce735402ea967fd6d600f516c": {
     "views": [
      {
       "cell_index": 6
      }
     ]
    },
    "1d02efe2df9245ef82b09d48856ed18d": {
     "views": [
      {
       "cell_index": 8
      }
     ]
    },
    "20f1c66bddbc445c822fbedd6e590d6e": {
     "views": [
      {
       "cell_index": 8
      }
     ]
    },
    "22c38bfab8794c7ca2ac25c7bbc9eded": {
     "views": [
      {
       "cell_index": 8
      }
     ]
    },
    "2e67bad649904ca5a5b6caf8a26139aa": {
     "views": [
      {
       "cell_index": 6
      }
     ]
    },
    "3fa12fe7d4444432bad4fd8d71dc66b9": {
     "views": [
      {
       "cell_index": 8
      }
     ]
    },
    "43ded8d57ea0453e825e4d87298cb167": {
     "views": [
      {
       "cell_index": 8
      }
     ]
    },
    "454c7a86ef4b4a09a6f2f6dfc8d07f2d": {
     "views": [
      {
       "cell_index": 6
      }
     ]
    },
    "5003eae21eb844a7b805118aa0c6eca5": {
     "views": [
      {
       "cell_index": 8
      }
     ]
    },
    "50db36d4a5f041c7826b179ad23dc1d9": {
     "views": [
      {
       "cell_index": 6
      }
     ]
    },
    "5cac37e658034649b2aa3ce1589ba3c9": {
     "views": [
      {
       "cell_index": 8
      }
     ]
    },
    "63d29dbbe53b45729132e3be946c29b1": {
     "views": [
      {
       "cell_index": 6
      }
     ]
    },
    "64a9ed8b1d264e4ba3f9b03b7bbfc1d9": {
     "views": [
      {
       "cell_index": 8
      }
     ]
    },
    "69a1de5dffdb41ddba08ef119e39549e": {
     "views": [
      {
       "cell_index": 8
      }
     ]
    },
    "77d7cc7d4cae48cba35575208a346b10": {
     "views": [
      {
       "cell_index": 8
      }
     ]
    },
    "780abfecaa8f4e9fbd52f092df1cc198": {
     "views": [
      {
       "cell_index": 8
      }
     ]
    },
    "802db660c10d49b49f1bd00549bdd665": {
     "views": [
      {
       "cell_index": 6
      }
     ]
    },
    "81c2f0e4814a40b2a8a1db4dba084206": {
     "views": [
      {
       "cell_index": 6
      }
     ]
    },
    "8b2c49e738d14c8e8ab61d9b57977126": {
     "views": [
      {
       "cell_index": 8
      }
     ]
    },
    "8f8b453e431646688e467b6c85fd5533": {
     "views": [
      {
       "cell_index": 9
      }
     ]
    },
    "94458d942e9943a587ac12dca7bca3be": {
     "views": [
      {
       "cell_index": 6
      }
     ]
    },
    "9940b661b5e44988bcbe9b8ffe32e999": {
     "views": [
      {
       "cell_index": 6
      }
     ]
    },
    "9cb82c99ea304053a39da77271a774d1": {
     "views": [
      {
       "cell_index": 6
      }
     ]
    },
    "9e5d6a642aa9411784eeaeffd4c97189": {
     "views": [
      {
       "cell_index": 6
      }
     ]
    },
    "9f65694d17a343028244cf3ce437154e": {
     "views": [
      {
       "cell_index": 8
      }
     ]
    },
    "9f9da6a818e446f7b5ee9652b00efd08": {
     "views": [
      {
       "cell_index": 6
      }
     ]
    },
    "a6db9aded7404309b0de12876c33e258": {
     "views": [
      {
       "cell_index": 8
      }
     ]
    },
    "aa5bf717ee3f4304858474c5015da93b": {
     "views": [
      {
       "cell_index": 9
      }
     ]
    },
    "aab4583b293d4b9089ac26cc69a85be2": {
     "views": [
      {
       "cell_index": 8
      }
     ]
    },
    "aaf9acc4530c440cb8f867a72157a15f": {
     "views": [
      {
       "cell_index": 5
      }
     ]
    },
    "bb43f17ba5e4459fb5a80206a3d05c4a": {
     "views": [
      {
       "cell_index": 8
      }
     ]
    },
    "c13108d4782b4d9d96dafe433095c1f4": {
     "views": [
      {
       "cell_index": 8
      }
     ]
    },
    "efee45ae65e64eb998254b44376b81d0": {
     "views": [
      {
       "cell_index": 6
      }
     ]
    },
    "f5b2085cdb5f44e0a9051088f217edb2": {
     "views": [
      {
       "cell_index": 8
      }
     ]
    },
    "f90711c607d14a89ab9e0c800873f3e5": {
     "views": [
      {
       "cell_index": 8
      }
     ]
    },
    "fc8e3d4b61f143869c646454ebfcf48c": {
     "views": [
      {
       "cell_index": 8
      }
     ]
    },
    "fcc4df09f84f4f5bbf071e2091a2fb5c": {
     "views": [
      {
       "cell_index": 6
      }
     ]
    },
    "fd35c79be03b4704b5051e9df43248b6": {
     "views": [
      {
       "cell_index": 6
      }
     ]
    }
   },
   "version": "1.2.0"
  }
 },
 "nbformat": 4,
 "nbformat_minor": 0
}
