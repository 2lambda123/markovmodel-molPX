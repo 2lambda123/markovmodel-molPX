{
 "cells": [
  {
   "cell_type": "code",
   "execution_count": 1,
   "metadata": {},
   "outputs": [
    {
     "name": "stderr",
     "output_type": "stream",
     "text": [
      "/home/mi/gph82/programs/PyEmma/pyemma/__init__.py:108: UserWarning: You are not using the latest release of PyEMMA. Latest is 2.3, you have 2.2.7+164.g8535573.\n",
      "  .format(latest=latest, current=current), category=UserWarning)\n"
     ]
    }
   ],
   "source": [
    "import projX\n",
    "import pyemma\n",
    "from os.path import exists\n",
    "%matplotlib notebook\n",
    "assert True"
   ]
  },
  {
   "cell_type": "code",
   "execution_count": 3,
   "metadata": {},
   "outputs": [],
   "source": [
    "trajfile = 'data/c-alpha_centered.stride.100.xtc'\n",
    "top = 'data/bpti-c-alpha_centered.pdb'"
   ]
  },
  {
   "cell_type": "markdown",
   "metadata": {},
   "source": [
    "Skip this part if you already have an Y.npy file"
   ]
  },
  {
   "cell_type": "code",
   "execution_count": 4,
   "metadata": {},
   "outputs": [],
   "source": [
    "try:\n",
    "    import numpy as np\n",
    "    Y = np.load('data/Y.npy')\n",
    "except:\n",
    "    feat = pyemma.coordinates.featurizer(top)\n",
    "    pairs = feat.pairs(range(feat.topology.n_atoms)[::2])\n",
    "    feat.add_distances(pairs)\n",
    "    src  = pyemma.coordinates.source(trajfile, features=feat)\n",
    "    tica = pyemma.coordinates.tica(src, lag=10, dim=2)\n",
    "    Y = tica.get_output()[0]\n",
    "    np.save('data/Y.npy', Y)"
   ]
  },
  {
   "cell_type": "markdown",
   "metadata": {},
   "source": [
    "# Do \"structure-sampling\" of a given FES in one step...\n",
    "Execute the following cell and click either on the FES or on the slidebar"
   ]
  },
  {
   "cell_type": "code",
   "execution_count": 5,
   "metadata": {},
   "outputs": [
    {
     "metadata": {}
    },
    {
     "data": {
      "text/html": [
       "<img src=\"data:image/png;base64,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\">"
      ]
     },
     "output_type": "execute_result",
     "metadata": {}
    },
    {
     "name": "stderr",
     "output_type": "stream",
     "text": [
      "/home/mi/gph82/SOURCE_gph82/python/projection_explorer/projX/api.py:177: RuntimeWarning: divide by zero encountered in log\n",
      "  _plt.contourf(-_np.log(h).T, extent=irange)\n"
     ]
    }
   ],
   "source": [
    "ax, fig, iwd, sample, geom = projX.visualize_traj(trajfile, top, 'data/Y.npy', \n",
    "                                          )\n",
    "iwd"
   ]
  },
  {
   "cell_type": "markdown",
   "metadata": {},
   "source": [
    "# Do it stepwise\n",
    "Look at the -log(PDF) plot and wonder what structures are behind it"
   ]
  },
  {
   "cell_type": "code",
   "execution_count": null,
   "metadata": {},
   "outputs": [],
   "source": [
    "from matplotlib import pylab as plt\n",
    "plt.figure(figsize=(10,10))\n",
    "h, (x,y) = np.histogramdd(Y, bins=50)\n",
    "plt.contourf(x[:-1], y[:-1], -np.log(h.T))"
   ]
  },
  {
   "cell_type": "markdown",
   "metadata": {},
   "source": [
    "# Use projX to generate a regspace sample of the data"
   ]
  },
  {
   "cell_type": "code",
   "execution_count": null,
   "metadata": {},
   "outputs": [],
   "source": [
    "sample, geoms = projX.generate_sample(trajfile, top, Y, \n",
    "                                      n_points=200\n",
    "                                      #keep_all_samples=True,                                      \n",
    "                                      #n_geom_samples=200,\n",
    "                                      #verbose=True\n",
    "                                    )\n",
    "sample.shape, geoms"
   ]
  },
  {
   "cell_type": "markdown",
   "metadata": {},
   "source": [
    "# Link the PDF plot with the sampled structures and visually explore the FES \n",
    "Click either on the plot or on the widget slidebar: they're connected! "
   ]
  },
  {
   "cell_type": "code",
   "execution_count": null,
   "metadata": {},
   "outputs": [],
   "source": [
    "# Replot the FES\n",
    "plt.figure(figsize=(10,10))\n",
    "h, (x,y) = np.histogramdd(Y, bins=50)\n",
    "plt.contourf(x[:-1], y[:-1], -np.log(h.T), alpha=.50)\n",
    "# Create the linked widget\n",
    "linked_wdg = projX.visualize_sample(sample, \n",
    "                              geoms.superpose(geoms[0]),                             \n",
    "                              plt.gca(), \n",
    "                              clear_lines=True,\n",
    "                              #plot_path=True\n",
    "                            )\n",
    "plt.plot(sample[:,0], sample[:,1],' ok', zorder=0)\n",
    "# Show it\n",
    "linked_wdg"
   ]
  },
  {
   "cell_type": "markdown",
   "metadata": {},
   "source": [
    "# Use projX to generate paths along the different projections/axis"
   ]
  },
  {
   "cell_type": "code",
   "execution_count": null,
   "metadata": {},
   "outputs": [],
   "source": [
    "paths_dict, idata = projX.generate_paths(trajfile, top, \n",
    "                                         'data/Y.npy', \n",
    "                                         #Y, # You can also directly give the data here\n",
    "                                         n_projs=2,\n",
    "                                         verbose=False, \n",
    "                                        )"
   ]
  },
  {
   "cell_type": "markdown",
   "metadata": {},
   "source": [
    "# Link the PDF plot with the sampled paths/structures and visually explore the coordinates (separately). \n",
    "Click either on the plot or on the widget slidebar: they're connected! You can change the type of path between min_rmsd or min_disp and you can also change the coordinate sampled (0 or 1)\n"
   ]
  },
  {
   "cell_type": "code",
   "execution_count": null,
   "metadata": {},
   "outputs": [],
   "source": [
    "# Choose the coordinate and the tyep of path\n",
    "coord = 0\n",
    "path_type = 'min_rmsd'\n",
    "#path_type = 'min_disp'\n",
    "igeom = paths_dict[coord][path_type][\"geom\"]\n",
    "ipath = paths_dict[coord][path_type][\"proj\"]"
   ]
  },
  {
   "cell_type": "code",
   "execution_count": null,
   "metadata": {},
   "outputs": [],
   "source": [
    "plt.figure(figsize=(10,10))\n",
    "h, (x,y) = np.histogramdd(Y, bins=50)\n",
    "plt.contourf(x[:-1], y[:-1], -np.log(h.T), alpha=.50)\n",
    "\n",
    "linked_wdg = projX.visualize_sample(ipath, \n",
    "                              igeom.superpose(igeom[0]),                             \n",
    "                              plt.gca(), \n",
    "                              clear_lines=True,\n",
    "                              plot_path=True\n",
    "                            )\n",
    "linked_wdg"
   ]
  },
  {
   "cell_type": "markdown",
   "metadata": {},
   "source": [
    "# You can even provide your own clustering object..."
   ]
  },
  {
   "cell_type": "code",
   "execution_count": null,
   "metadata": {},
   "outputs": [],
   "source": [
    "clkmeans = pyemma.coordinates.cluster_kmeans(Y, 10)\n",
    "sample, geoms = projX.generate_sample(trajfile, top, clkmeans, \n",
    "                                     n_geom_samples=50, \n",
    "                                     keep_all_samples=True # read the doc for this argument\n",
    "                                    )"
   ]
  },
  {
   "cell_type": "code",
   "execution_count": null,
   "metadata": {},
   "outputs": [],
   "source": [
    "plt.figure(figsize=(7,7))\n",
    "plt.contourf(x[:-1], y[:-1], -np.log(h.T), alpha=.50)\n",
    "plt.plot(clkmeans.clustercenters[:,0], clkmeans.clustercenters[:,1],' ok')\n",
    "iwdg = projX.visualize_sample(sample, \n",
    "                              geoms.superpose(geoms[0]),                             \n",
    "                              plt.gca(), \n",
    "                              clear_lines=False,\n",
    "                              #plot_path=True\n",
    "                            )\n",
    "iwdg"
   ]
  },
  {
   "cell_type": "code",
   "execution_count": null,
   "metadata": {},
   "outputs": [],
   "source": [
    "# Check\n",
    "# https://github.com/arose/nglview/issues/518\n",
    "# https://github.com/arose/nglview/issues/517"
   ]
  },
  {
   "cell_type": "markdown",
   "metadata": {},
   "source": [
    "# Intefacing with VMD \n",
    "This is a WIP"
   ]
  },
  {
   "cell_type": "code",
   "execution_count": null,
   "metadata": {},
   "outputs": [],
   "source": [
    "#plt.figure()\n",
    "#plt.contourf(x[:-1], y[:-1], -np.log(h.T), alpha=.50)"
   ]
  },
  {
   "cell_type": "code",
   "execution_count": null,
   "metadata": {},
   "outputs": [],
   "source": [
    "#import bmutils\n",
    "#from imp import reload\n",
    "#reload(bmutils)\n",
    "#vmdpipe = bmutils.link_ax_w_pos_2_vmd(plt.gca(), sample, geoms, rep='Trace', \n",
    "                           # freetext= 'start_sscache\\n'\n",
    "#                           )"
   ]
  }
 ],
 "metadata": {
  "anaconda-cloud": {},
  "kernelspec": {
   "display_name": "Python [default]",
   "language": "python",
   "name": "python3"
  },
  "language_info": {
   "codemirror_mode": {
    "name": "ipython",
    "version": 3.0
   },
   "file_extension": ".py",
   "mimetype": "text/x-python",
   "name": "python",
   "nbconvert_exporter": "python",
   "pygments_lexer": "ipython3",
   "version": "3.4.5"
  },
  "widgets": {
   "state": {
    "4688c88bffcd4e24bd9d5b538a7b0f93": {
     "views": [
      {
       "cell_index": 5.0
      }
     ]
    },
    "a6780109ca71460483fd92348267b341": {
     "views": [
      {
       "cell_index": 5.0
      }
     ]
    }
   },
   "version": "1.2.0"
  }
 },
 "nbformat": 4,
 "nbformat_minor": 0
}