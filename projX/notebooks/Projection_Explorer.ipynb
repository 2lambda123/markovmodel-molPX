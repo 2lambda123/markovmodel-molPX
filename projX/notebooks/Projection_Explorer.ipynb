{
 "cells": [
  {
   "cell_type": "code",
   "execution_count": null,
   "metadata": {
    "collapsed": false
   },
   "outputs": [],
   "source": [
    "import projX\n",
    "%matplotlib notebook"
   ]
  },
  {
   "cell_type": "code",
   "execution_count": null,
   "metadata": {
    "collapsed": true
   },
   "outputs": [],
   "source": [
    "trajfile = 'data/c-alpha_centered.stride.100.xtc'\n",
    "top = 'data/bpti-c-alpha_centered.pdb'"
   ]
  },
  {
   "cell_type": "code",
   "execution_count": null,
   "metadata": {
    "collapsed": true
   },
   "outputs": [],
   "source": [
    "# Skip TICA if you already have an Y.npy file\n",
    "try:\n",
    "    \n",
    "    import numpy as np\n",
    "    Y = np.load('data/Y.npy')\n",
    "except:\n",
    "    import pyemma\n",
    "    feat = pyemma.coordinates.featurizer(top)\n",
    "    pairs = feat.pairs(range(feat.topology.n_atoms)[::2])\n",
    "    feat.add_distances(pairs)\n",
    "    src  = pyemma.coordinates.source(trajfile, features=feat)\n",
    "    tica = pyemma.coordinates.tica(src, lag=100, dim=3)\n",
    "    Y = tica.get_output()[0]\n",
    "    np.save('data/Y.npy', Y)"
   ]
  },
  {
   "cell_type": "markdown",
   "metadata": {},
   "source": [
    "# Visualize a FES and the molecular structures \"behind\" it\n",
    "Execute the following cell and click either on the FES or on the slidebar"
   ]
  },
  {
   "cell_type": "code",
   "execution_count": null,
   "metadata": {
    "collapsed": false
   },
   "outputs": [],
   "source": [
    "ax, fig, iwd, data_sample, geom = projX.visualize.FES(trajfile, top, 'data/Y.npy', \n",
    "                                                 nbins=50, xlabel='TICA_0', ylabel='TICA_1'\n",
    "                                          )\n",
    "iwd"
   ]
  },
  {
   "cell_type": "markdown",
   "metadata": {},
   "source": [
    "# Do \"trajectory-sampling\" of a given FES\n",
    "This can be more time consuming and prettly slow, but is a proof of function. The user can sample structures as they occurr in sequence in the actual trajectory"
   ]
  },
  {
   "cell_type": "code",
   "execution_count": null,
   "metadata": {
    "collapsed": false
   },
   "outputs": [],
   "source": [
    "__, __, iwd, __ = projX.visualize.traj(trajfile, top, \n",
    "                                       'data/Y.npy', \n",
    "                                       plot_FES = True,\n",
    "                                       max_frames=2000\n",
    "                          )\n",
    "iwd"
   ]
  },
  {
   "cell_type": "markdown",
   "metadata": {},
   "source": [
    "# Intermediate steps: use projX to generate a regspace sample of the data"
   ]
  },
  {
   "cell_type": "code",
   "execution_count": null,
   "metadata": {
    "collapsed": false
   },
   "outputs": [],
   "source": [
    "data_sample, geoms = projX.generate.sample(trajfile, top, Y, \n",
    "                                      n_points=200\n",
    "                                      #keep_all_samples=True,                                      \n",
    "                                      #n_geom_samples=200,\n",
    "                                      #verbose=True\n",
    "                                    )\n",
    "data_sample.shape, geoms"
   ]
  },
  {
   "cell_type": "markdown",
   "metadata": {},
   "source": [
    "# Link the PDF plot with the sampled structures and visually explore the FES \n",
    "Click either on the plot or on the widget slidebar: they're connected! "
   ]
  },
  {
   "cell_type": "code",
   "execution_count": null,
   "metadata": {
    "collapsed": false
   },
   "outputs": [],
   "source": [
    "# Replot the FES\n",
    "from matplotlib import pylab as plt\n",
    "plt.figure(figsize=(10,10))\n",
    "h, (x,y) = np.histogramdd(Y[:,:2], bins=50)\n",
    "plt.contourf(x[:-1], y[:-1], -np.log(h.T), alpha=.50)\n",
    "# Create the linked widget\n",
    "linked_wdg = projX.visualize.sample(data_sample, \n",
    "                              geoms.superpose(geoms[0]),                             \n",
    "                              plt.gca(), \n",
    "                              clear_lines=True,\n",
    "                              #plot_path=True\n",
    "                            )\n",
    "plt.plot(data_sample[:,0], data_sample[:,1],' ok', zorder=0)\n",
    "# Show it\n",
    "linked_wdg"
   ]
  },
  {
   "cell_type": "markdown",
   "metadata": {},
   "source": [
    "# Instead of sampling the full space, use projX to generate paths along the different projections/axis"
   ]
  },
  {
   "cell_type": "code",
   "execution_count": null,
   "metadata": {
    "collapsed": false
   },
   "outputs": [],
   "source": [
    "paths_dict, idata = projX.generate.projection_paths(trajfile, top, \n",
    "                                         'data/Y.npy', \n",
    "                                         #Y, # You can also directly give the data here\n",
    "                                         n_projs=2,\n",
    "                                         proj_dim = 3, \n",
    "                                         verbose=False, \n",
    "                                        )"
   ]
  },
  {
   "cell_type": "markdown",
   "metadata": {},
   "source": [
    "# Link the PDF plot with the sampled paths/structures and visually explore the coordinates (separately). \n",
    "Click either on the plot or on the widget slidebar: they're connected! You can change the type of path between min_rmsd or min_disp and you can also change the coordinate sampled (0 or 1)\n"
   ]
  },
  {
   "cell_type": "code",
   "execution_count": null,
   "metadata": {
    "collapsed": true
   },
   "outputs": [],
   "source": [
    "# Choose the coordinate and the tyep of path\n",
    "coord = 0\n",
    "#path_type = 'min_rmsd'\n",
    "path_type = 'min_disp'\n",
    "igeom = paths_dict[coord][path_type][\"geom\"]\n",
    "ipath = paths_dict[coord][path_type][\"proj\"]"
   ]
  },
  {
   "cell_type": "code",
   "execution_count": null,
   "metadata": {
    "collapsed": false
   },
   "outputs": [],
   "source": [
    "plt.figure(figsize=(10,10))\n",
    "h, (x,y) = np.histogramdd(Y[:,:2], bins=50)\n",
    "plt.contourf(x[:-1], y[:-1], -np.log(h.T), alpha=.50)\n",
    "\n",
    "linked_wdg = projX.visualize.sample(ipath[:,:2], \n",
    "                              igeom.superpose(igeom[0]),                             \n",
    "                              plt.gca(), \n",
    "                              clear_lines=True,\n",
    "                              plot_path=True\n",
    "                            )\n",
    "linked_wdg"
   ]
  },
  {
   "cell_type": "markdown",
   "metadata": {},
   "source": [
    "# You can even provide your own ```PyEMMA``` clustering object..."
   ]
  },
  {
   "cell_type": "code",
   "execution_count": null,
   "metadata": {
    "collapsed": false
   },
   "outputs": [],
   "source": [
    "from pyemma.coordinates import cluster_kmeans\n",
    "clkmeans = cluster_kmeans(Y[:,:2], 10)"
   ]
  },
  {
   "cell_type": "code",
   "execution_count": null,
   "metadata": {
    "collapsed": false
   },
   "outputs": [],
   "source": [
    "data_sample, geoms = projX.generate.sample(trajfile, top, clkmeans, \n",
    "                                     n_geom_samples=50, \n",
    "                                     #keep_all_samples=True # read the doc for this argument\n",
    "                                    )"
   ]
  },
  {
   "cell_type": "code",
   "execution_count": null,
   "metadata": {
    "collapsed": false
   },
   "outputs": [],
   "source": [
    "plt.figure(figsize=(7,7))\n",
    "plt.contourf(x[:-1], y[:-1], -np.log(h.T), alpha=.50)\n",
    "plt.plot(clkmeans.clustercenters[:,0], clkmeans.clustercenters[:,1],' ok')\n",
    "iwdg = projX.visualize.sample(data_sample, \n",
    "                              geoms.superpose(geoms[0]),                             \n",
    "                              plt.gca(), \n",
    "                              clear_lines=False,\n",
    "                              #plot_path=True\n",
    "                            )\n",
    "iwdg"
   ]
  },
  {
   "cell_type": "code",
   "execution_count": null,
   "metadata": {
    "collapsed": true
   },
   "outputs": [],
   "source": [
    "# Check\n",
    "# https://github.com/arose/nglview/issues/518\n",
    "# https://github.com/arose/nglview/issues/517"
   ]
  }
 ],
 "metadata": {
  "anaconda-cloud": {},
  "kernelspec": {
   "display_name": "Python [default]",
   "language": "python",
   "name": "python3"
  },
  "language_info": {
   "codemirror_mode": {
    "name": "ipython",
    "version": 3
   },
   "file_extension": ".py",
   "mimetype": "text/x-python",
   "name": "python",
   "nbconvert_exporter": "python",
   "pygments_lexer": "ipython3",
   "version": "3.5.2"
  },
  "widgets": {
   "state": {
    "016e494f55724f25802cfc21ade5c5fe": {
     "views": [
      {
       "cell_index": 20
      }
     ]
    },
    "01aea2dc46b94a16ad5f9b8a29bfb61b": {
     "views": [
      {
       "cell_index": 6
      }
     ]
    },
    "098bc48e31094bc0b23b15f60f65972d": {
     "views": [
      {
       "cell_index": 6
      }
     ]
    },
    "13bd993becdb41eaacf18f6b2403858c": {
     "views": [
      {
       "cell_index": 15
      }
     ]
    },
    "1a64a7d2f18e44dd984c1fed508f4a60": {
     "views": [
      {
       "cell_index": 6
      }
     ]
    },
    "1e0613dd16f1496696fb35a40bf3fbf1": {
     "views": [
      {
       "cell_index": 15
      }
     ]
    },
    "29f04a781a464ef78eabbb3417bbfb03": {
     "views": [
      {
       "cell_index": 10
      }
     ]
    },
    "36060b0125644cbe9c6c771202dc38cf": {
     "views": [
      {
       "cell_index": 4
      }
     ]
    },
    "3b00fa41d7a84a0da3125363979badfe": {
     "views": [
      {
       "cell_index": 18
      }
     ]
    },
    "3b7051c4bff54771bfcc693c1ea04bfe": {
     "views": [
      {
       "cell_index": 15
      }
     ]
    },
    "3efc6bfbc65f4926806ac165c8e4b96b": {
     "views": [
      {
       "cell_index": 15
      }
     ]
    },
    "42f52a65623542529fdb4ecb76a25d55": {
     "views": [
      {
       "cell_index": 4
      }
     ]
    },
    "4523cd49b1824c28ba10cb66c5ab735a": {
     "views": [
      {
       "cell_index": 10
      }
     ]
    },
    "4e5c9b5215724ed7b841181d3b3279e7": {
     "views": [
      {
       "cell_index": 10
      }
     ]
    },
    "4e6e06762f8345c2aa96a143adbfa1d5": {
     "views": [
      {
       "cell_index": 15
      }
     ]
    },
    "68c140fe89744c65ae38df0e1932f99a": {
     "views": [
      {
       "cell_index": 4
      }
     ]
    },
    "6aa47160ea9e4868b0d690a28a095289": {
     "views": [
      {
       "cell_index": 10
      }
     ]
    },
    "6ac5ceeae97440dbabaf7013280b5a25": {
     "views": [
      {
       "cell_index": 4
      }
     ]
    },
    "738e8c649820496690262f1b3215813e": {
     "views": [
      {
       "cell_index": 19
      }
     ]
    },
    "7a2c6e0434ac42d7952c1d56c9963153": {
     "views": [
      {
       "cell_index": 15
      }
     ]
    },
    "7b9bc2d5545840199f3da46022e37097": {
     "views": [
      {
       "cell_index": 19
      }
     ]
    },
    "7d48f8c01ea942149c37e696b5832a28": {
     "views": [
      {
       "cell_index": 10
      }
     ]
    },
    "82617da339f540eaa284102e87ee1a37": {
     "views": [
      {
       "cell_index": 10
      }
     ]
    },
    "914cb57b397c4daa95df54f82579ee82": {
     "views": [
      {
       "cell_index": 6
      }
     ]
    },
    "96c186e3ac8d4fb48f31c22259b252a4": {
     "views": [
      {
       "cell_index": 10
      }
     ]
    },
    "98a3ab60722043ea96fe5a8cedca03f6": {
     "views": [
      {
       "cell_index": 4
      }
     ]
    },
    "aab17ef3504d4c64babe4a78bf49b8d1": {
     "views": [
      {
       "cell_index": 15
      }
     ]
    },
    "acb271f9c4874541a3f4982bb9c278d7": {
     "views": [
      {
       "cell_index": 4
      }
     ]
    },
    "b08016e52c66455a8499c5d55de9b6cb": {
     "views": [
      {
       "cell_index": 4
      }
     ]
    },
    "b8ae0c5677304261b928273a703f7863": {
     "views": [
      {
       "cell_index": 6
      }
     ]
    },
    "b9a23aa1e08247e98f7532ddcae2507f": {
     "views": [
      {
       "cell_index": 18
      }
     ]
    },
    "bf9dc4e492d147449134fca024836367": {
     "views": [
      {
       "cell_index": 6
      }
     ]
    },
    "c05d6441af0f4a0f87f85e5e51be0509": {
     "views": [
      {
       "cell_index": 4
      }
     ]
    },
    "c1fbe385a4a246108e92b39d0dd2abd8": {
     "views": [
      {
       "cell_index": 15
      }
     ]
    },
    "c4398a2a5870471c99dc51afa55a9cab": {
     "views": [
      {
       "cell_index": 6
      }
     ]
    },
    "c85cd16caf85477694de95aff3850133": {
     "views": [
      {
       "cell_index": 10
      }
     ]
    },
    "cb13dd1fc1b04ad7b2bf0137045e2194": {
     "views": [
      {
       "cell_index": 6
      }
     ]
    }
   },
   "version": "1.2.0"
  }
 },
 "nbformat": 4,
 "nbformat_minor": 0
}
